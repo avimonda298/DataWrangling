{
  "nbformat": 4,
  "nbformat_minor": 0,
  "metadata": {
    "colab": {
      "provenance": [],
      "authorship_tag": "ABX9TyO4QDHc0bAOb39TxFsbPD4S",
      "include_colab_link": true
    },
    "kernelspec": {
      "name": "python3",
      "display_name": "Python 3"
    },
    "language_info": {
      "name": "python"
    }
  },
  "cells": [
    {
      "cell_type": "markdown",
      "metadata": {
        "id": "view-in-github",
        "colab_type": "text"
      },
      "source": [
        "<a href=\"https://colab.research.google.com/github/avimonda298/Datascience-Visualization/blob/main/pandas.ipynb\" target=\"_parent\"><img src=\"https://colab.research.google.com/assets/colab-badge.svg\" alt=\"Open In Colab\"/></a>"
      ]
    },
    {
      "cell_type": "code",
      "source": [
        "from google.colab import drive\n",
        "drive.mount('/gdrive')"
      ],
      "metadata": {
        "colab": {
          "base_uri": "https://localhost:8080/"
        },
        "id": "3c3S9CdY9swp",
        "outputId": "14c92a42-a3b7-411c-b504-26913c93be3d"
      },
      "execution_count": null,
      "outputs": [
        {
          "output_type": "stream",
          "name": "stdout",
          "text": [
            "Drive already mounted at /gdrive; to attempt to forcibly remount, call drive.mount(\"/gdrive\", force_remount=True).\n"
          ]
        }
      ]
    },
    {
      "cell_type": "code",
      "source": [
        "import pandas as pd\n",
        "import numpy as np\n",
        "folderpath=\"/gdrive/MyDrive/Colab_data_files\"\n",
        "import os\n",
        "os.chdir(folderpath)\n",
        "\n",
        "whether=pd.read_csv('delhi_weather_data.zip')\n"
      ],
      "metadata": {
        "id": "yFkL8Ppq-QWe"
      },
      "execution_count": null,
      "outputs": []
    },
    {
      "cell_type": "code",
      "source": [
        "whether.head()\n",
        "whether.columns\n",
        "whether.size"
      ],
      "metadata": {
        "colab": {
          "base_uri": "https://localhost:8080/"
        },
        "id": "dwTOLSPDCjrE",
        "outputId": "c3a26442-0f63-49f4-ab0b-a552daaf1447"
      },
      "execution_count": null,
      "outputs": [
        {
          "output_type": "execute_result",
          "data": {
            "text/plain": [
              "2019800"
            ]
          },
          "metadata": {},
          "execution_count": 17
        }
      ]
    },
    {
      "cell_type": "code",
      "source": [
        "whether.shape\n",
        "whether.describe"
      ],
      "metadata": {
        "colab": {
          "base_uri": "https://localhost:8080/"
        },
        "id": "ITssIn4ECyXt",
        "outputId": "20dbdbcb-75eb-4967-ca9a-22039388ed38"
      },
      "execution_count": null,
      "outputs": [
        {
          "output_type": "execute_result",
          "data": {
            "text/plain": [
              "<bound method NDFrame.describe of           datetime_utc  _conds   _dewptm   _fog   _hail   _heatindexm   _hum  \\\n",
              "0       19961101-11:00   Smoke       9.0      0       0           NaN   27.0   \n",
              "1       19961101-12:00   Smoke      10.0      0       0           NaN   32.0   \n",
              "2       19961101-13:00   Smoke      11.0      0       0           NaN   44.0   \n",
              "3       19961101-14:00   Smoke      10.0      0       0           NaN   41.0   \n",
              "4       19961101-16:00   Smoke      11.0      0       0           NaN   47.0   \n",
              "...                ...     ...       ...    ...     ...           ...    ...   \n",
              "100985  20170424-06:00    Haze      17.0      0       0           NaN   25.0   \n",
              "100986  20170424-09:00    Haze      14.0      0       0           NaN   16.0   \n",
              "100987  20170424-12:00    Haze      12.0      0       0           NaN   14.0   \n",
              "100988  20170424-15:00    Haze      15.0      0       0           NaN   27.0   \n",
              "100989  20170424-18:00    Haze      15.0      0       0           NaN   30.0   \n",
              "\n",
              "         _precipm   _pressurem   _rain   _snow   _tempm   _thunder   _tornado  \\\n",
              "0             NaN       1010.0       0       0     30.0          0          0   \n",
              "1             NaN      -9999.0       0       0     28.0          0          0   \n",
              "2             NaN      -9999.0       0       0     24.0          0          0   \n",
              "3             NaN       1010.0       0       0     24.0          0          0   \n",
              "4             NaN       1011.0       0       0     23.0          0          0   \n",
              "...           ...          ...     ...     ...      ...        ...        ...   \n",
              "100985        NaN       1005.0       0       0     34.0          0          0   \n",
              "100986        NaN       1003.0       0       0     38.0          0          0   \n",
              "100987        NaN       1002.0       0       0     36.0          0          0   \n",
              "100988        NaN       1004.0       0       0     32.0          0          0   \n",
              "100989        NaN       1005.0       0       0     30.0          0          0   \n",
              "\n",
              "         _vism   _wdird  _wdire   _wgustm   _windchillm   _wspdm  \n",
              "0          5.0    280.0    West       NaN           NaN      7.4  \n",
              "1          NaN      0.0   North       NaN           NaN      NaN  \n",
              "2          NaN      0.0   North       NaN           NaN      NaN  \n",
              "3          2.0      0.0   North       NaN           NaN      NaN  \n",
              "4          1.2      0.0   North       NaN           NaN      0.0  \n",
              "...        ...      ...     ...       ...           ...      ...  \n",
              "100985     4.0    320.0      NW       NaN           NaN     11.1  \n",
              "100986     4.0    320.0      NW       NaN           NaN     22.2  \n",
              "100987     4.0    270.0    West       NaN           NaN     18.5  \n",
              "100988     2.0    320.0      NW       NaN           NaN      3.7  \n",
              "100989     2.0    320.0      NW       NaN           NaN      3.7  \n",
              "\n",
              "[100990 rows x 20 columns]>"
            ]
          },
          "metadata": {},
          "execution_count": 19
        }
      ]
    },
    {
      "cell_type": "code",
      "source": [
        "whether.columns\n",
        "whether[[' _conds']].max()"
      ],
      "metadata": {
        "colab": {
          "base_uri": "https://localhost:8080/"
        },
        "id": "eg-id9W0DBd8",
        "outputId": "4223e976-6286-42be-d58e-a3a0e1d17137"
      },
      "execution_count": null,
      "outputs": [
        {
          "output_type": "stream",
          "name": "stderr",
          "text": [
            "/usr/local/lib/python3.7/dist-packages/ipykernel_launcher.py:2: FutureWarning: Dropping of nuisance columns in DataFrame reductions (with 'numeric_only=None') is deprecated; in a future version this will raise TypeError.  Select only valid columns before calling the reduction.\n",
            "  \n"
          ]
        },
        {
          "output_type": "execute_result",
          "data": {
            "text/plain": [
              "Series([], dtype: float64)"
            ]
          },
          "metadata": {},
          "execution_count": 26
        }
      ]
    },
    {
      "cell_type": "code",
      "source": [
        "whether.head(5)"
      ],
      "metadata": {
        "colab": {
          "base_uri": "https://localhost:8080/",
          "height": 357
        },
        "id": "Buh7XzRjVUCh",
        "outputId": "4017f1b1-b20b-4cc1-81b7-1e627cb8c916"
      },
      "execution_count": null,
      "outputs": [
        {
          "output_type": "execute_result",
          "data": {
            "text/plain": [
              "     datetime_utc  _conds   _dewptm   _fog   _hail   _heatindexm   _hum  \\\n",
              "0  19961101-11:00   Smoke       9.0      0       0           NaN   27.0   \n",
              "1  19961101-12:00   Smoke      10.0      0       0           NaN   32.0   \n",
              "2  19961101-13:00   Smoke      11.0      0       0           NaN   44.0   \n",
              "3  19961101-14:00   Smoke      10.0      0       0           NaN   41.0   \n",
              "4  19961101-16:00   Smoke      11.0      0       0           NaN   47.0   \n",
              "\n",
              "    _precipm   _pressurem   _rain   _snow   _tempm   _thunder   _tornado  \\\n",
              "0        NaN       1010.0       0       0     30.0          0          0   \n",
              "1        NaN      -9999.0       0       0     28.0          0          0   \n",
              "2        NaN      -9999.0       0       0     24.0          0          0   \n",
              "3        NaN       1010.0       0       0     24.0          0          0   \n",
              "4        NaN       1011.0       0       0     23.0          0          0   \n",
              "\n",
              "    _vism   _wdird  _wdire   _wgustm   _windchillm   _wspdm  \n",
              "0     5.0    280.0    West       NaN           NaN      7.4  \n",
              "1     NaN      0.0   North       NaN           NaN      NaN  \n",
              "2     NaN      0.0   North       NaN           NaN      NaN  \n",
              "3     2.0      0.0   North       NaN           NaN      NaN  \n",
              "4     1.2      0.0   North       NaN           NaN      0.0  "
            ],
            "text/html": [
              "\n",
              "  <div id=\"df-20179d91-2d3b-46de-927c-9801f2b5c0e4\">\n",
              "    <div class=\"colab-df-container\">\n",
              "      <div>\n",
              "<style scoped>\n",
              "    .dataframe tbody tr th:only-of-type {\n",
              "        vertical-align: middle;\n",
              "    }\n",
              "\n",
              "    .dataframe tbody tr th {\n",
              "        vertical-align: top;\n",
              "    }\n",
              "\n",
              "    .dataframe thead th {\n",
              "        text-align: right;\n",
              "    }\n",
              "</style>\n",
              "<table border=\"1\" class=\"dataframe\">\n",
              "  <thead>\n",
              "    <tr style=\"text-align: right;\">\n",
              "      <th></th>\n",
              "      <th>datetime_utc</th>\n",
              "      <th>_conds</th>\n",
              "      <th>_dewptm</th>\n",
              "      <th>_fog</th>\n",
              "      <th>_hail</th>\n",
              "      <th>_heatindexm</th>\n",
              "      <th>_hum</th>\n",
              "      <th>_precipm</th>\n",
              "      <th>_pressurem</th>\n",
              "      <th>_rain</th>\n",
              "      <th>_snow</th>\n",
              "      <th>_tempm</th>\n",
              "      <th>_thunder</th>\n",
              "      <th>_tornado</th>\n",
              "      <th>_vism</th>\n",
              "      <th>_wdird</th>\n",
              "      <th>_wdire</th>\n",
              "      <th>_wgustm</th>\n",
              "      <th>_windchillm</th>\n",
              "      <th>_wspdm</th>\n",
              "    </tr>\n",
              "  </thead>\n",
              "  <tbody>\n",
              "    <tr>\n",
              "      <th>0</th>\n",
              "      <td>19961101-11:00</td>\n",
              "      <td>Smoke</td>\n",
              "      <td>9.0</td>\n",
              "      <td>0</td>\n",
              "      <td>0</td>\n",
              "      <td>NaN</td>\n",
              "      <td>27.0</td>\n",
              "      <td>NaN</td>\n",
              "      <td>1010.0</td>\n",
              "      <td>0</td>\n",
              "      <td>0</td>\n",
              "      <td>30.0</td>\n",
              "      <td>0</td>\n",
              "      <td>0</td>\n",
              "      <td>5.0</td>\n",
              "      <td>280.0</td>\n",
              "      <td>West</td>\n",
              "      <td>NaN</td>\n",
              "      <td>NaN</td>\n",
              "      <td>7.4</td>\n",
              "    </tr>\n",
              "    <tr>\n",
              "      <th>1</th>\n",
              "      <td>19961101-12:00</td>\n",
              "      <td>Smoke</td>\n",
              "      <td>10.0</td>\n",
              "      <td>0</td>\n",
              "      <td>0</td>\n",
              "      <td>NaN</td>\n",
              "      <td>32.0</td>\n",
              "      <td>NaN</td>\n",
              "      <td>-9999.0</td>\n",
              "      <td>0</td>\n",
              "      <td>0</td>\n",
              "      <td>28.0</td>\n",
              "      <td>0</td>\n",
              "      <td>0</td>\n",
              "      <td>NaN</td>\n",
              "      <td>0.0</td>\n",
              "      <td>North</td>\n",
              "      <td>NaN</td>\n",
              "      <td>NaN</td>\n",
              "      <td>NaN</td>\n",
              "    </tr>\n",
              "    <tr>\n",
              "      <th>2</th>\n",
              "      <td>19961101-13:00</td>\n",
              "      <td>Smoke</td>\n",
              "      <td>11.0</td>\n",
              "      <td>0</td>\n",
              "      <td>0</td>\n",
              "      <td>NaN</td>\n",
              "      <td>44.0</td>\n",
              "      <td>NaN</td>\n",
              "      <td>-9999.0</td>\n",
              "      <td>0</td>\n",
              "      <td>0</td>\n",
              "      <td>24.0</td>\n",
              "      <td>0</td>\n",
              "      <td>0</td>\n",
              "      <td>NaN</td>\n",
              "      <td>0.0</td>\n",
              "      <td>North</td>\n",
              "      <td>NaN</td>\n",
              "      <td>NaN</td>\n",
              "      <td>NaN</td>\n",
              "    </tr>\n",
              "    <tr>\n",
              "      <th>3</th>\n",
              "      <td>19961101-14:00</td>\n",
              "      <td>Smoke</td>\n",
              "      <td>10.0</td>\n",
              "      <td>0</td>\n",
              "      <td>0</td>\n",
              "      <td>NaN</td>\n",
              "      <td>41.0</td>\n",
              "      <td>NaN</td>\n",
              "      <td>1010.0</td>\n",
              "      <td>0</td>\n",
              "      <td>0</td>\n",
              "      <td>24.0</td>\n",
              "      <td>0</td>\n",
              "      <td>0</td>\n",
              "      <td>2.0</td>\n",
              "      <td>0.0</td>\n",
              "      <td>North</td>\n",
              "      <td>NaN</td>\n",
              "      <td>NaN</td>\n",
              "      <td>NaN</td>\n",
              "    </tr>\n",
              "    <tr>\n",
              "      <th>4</th>\n",
              "      <td>19961101-16:00</td>\n",
              "      <td>Smoke</td>\n",
              "      <td>11.0</td>\n",
              "      <td>0</td>\n",
              "      <td>0</td>\n",
              "      <td>NaN</td>\n",
              "      <td>47.0</td>\n",
              "      <td>NaN</td>\n",
              "      <td>1011.0</td>\n",
              "      <td>0</td>\n",
              "      <td>0</td>\n",
              "      <td>23.0</td>\n",
              "      <td>0</td>\n",
              "      <td>0</td>\n",
              "      <td>1.2</td>\n",
              "      <td>0.0</td>\n",
              "      <td>North</td>\n",
              "      <td>NaN</td>\n",
              "      <td>NaN</td>\n",
              "      <td>0.0</td>\n",
              "    </tr>\n",
              "  </tbody>\n",
              "</table>\n",
              "</div>\n",
              "      <button class=\"colab-df-convert\" onclick=\"convertToInteractive('df-20179d91-2d3b-46de-927c-9801f2b5c0e4')\"\n",
              "              title=\"Convert this dataframe to an interactive table.\"\n",
              "              style=\"display:none;\">\n",
              "        \n",
              "  <svg xmlns=\"http://www.w3.org/2000/svg\" height=\"24px\"viewBox=\"0 0 24 24\"\n",
              "       width=\"24px\">\n",
              "    <path d=\"M0 0h24v24H0V0z\" fill=\"none\"/>\n",
              "    <path d=\"M18.56 5.44l.94 2.06.94-2.06 2.06-.94-2.06-.94-.94-2.06-.94 2.06-2.06.94zm-11 1L8.5 8.5l.94-2.06 2.06-.94-2.06-.94L8.5 2.5l-.94 2.06-2.06.94zm10 10l.94 2.06.94-2.06 2.06-.94-2.06-.94-.94-2.06-.94 2.06-2.06.94z\"/><path d=\"M17.41 7.96l-1.37-1.37c-.4-.4-.92-.59-1.43-.59-.52 0-1.04.2-1.43.59L10.3 9.45l-7.72 7.72c-.78.78-.78 2.05 0 2.83L4 21.41c.39.39.9.59 1.41.59.51 0 1.02-.2 1.41-.59l7.78-7.78 2.81-2.81c.8-.78.8-2.07 0-2.86zM5.41 20L4 18.59l7.72-7.72 1.47 1.35L5.41 20z\"/>\n",
              "  </svg>\n",
              "      </button>\n",
              "      \n",
              "  <style>\n",
              "    .colab-df-container {\n",
              "      display:flex;\n",
              "      flex-wrap:wrap;\n",
              "      gap: 12px;\n",
              "    }\n",
              "\n",
              "    .colab-df-convert {\n",
              "      background-color: #E8F0FE;\n",
              "      border: none;\n",
              "      border-radius: 50%;\n",
              "      cursor: pointer;\n",
              "      display: none;\n",
              "      fill: #1967D2;\n",
              "      height: 32px;\n",
              "      padding: 0 0 0 0;\n",
              "      width: 32px;\n",
              "    }\n",
              "\n",
              "    .colab-df-convert:hover {\n",
              "      background-color: #E2EBFA;\n",
              "      box-shadow: 0px 1px 2px rgba(60, 64, 67, 0.3), 0px 1px 3px 1px rgba(60, 64, 67, 0.15);\n",
              "      fill: #174EA6;\n",
              "    }\n",
              "\n",
              "    [theme=dark] .colab-df-convert {\n",
              "      background-color: #3B4455;\n",
              "      fill: #D2E3FC;\n",
              "    }\n",
              "\n",
              "    [theme=dark] .colab-df-convert:hover {\n",
              "      background-color: #434B5C;\n",
              "      box-shadow: 0px 1px 3px 1px rgba(0, 0, 0, 0.15);\n",
              "      filter: drop-shadow(0px 1px 2px rgba(0, 0, 0, 0.3));\n",
              "      fill: #FFFFFF;\n",
              "    }\n",
              "  </style>\n",
              "\n",
              "      <script>\n",
              "        const buttonEl =\n",
              "          document.querySelector('#df-20179d91-2d3b-46de-927c-9801f2b5c0e4 button.colab-df-convert');\n",
              "        buttonEl.style.display =\n",
              "          google.colab.kernel.accessAllowed ? 'block' : 'none';\n",
              "\n",
              "        async function convertToInteractive(key) {\n",
              "          const element = document.querySelector('#df-20179d91-2d3b-46de-927c-9801f2b5c0e4');\n",
              "          const dataTable =\n",
              "            await google.colab.kernel.invokeFunction('convertToInteractive',\n",
              "                                                     [key], {});\n",
              "          if (!dataTable) return;\n",
              "\n",
              "          const docLinkHtml = 'Like what you see? Visit the ' +\n",
              "            '<a target=\"_blank\" href=https://colab.research.google.com/notebooks/data_table.ipynb>data table notebook</a>'\n",
              "            + ' to learn more about interactive tables.';\n",
              "          element.innerHTML = '';\n",
              "          dataTable['output_type'] = 'display_data';\n",
              "          await google.colab.output.renderOutput(dataTable, element);\n",
              "          const docLink = document.createElement('div');\n",
              "          docLink.innerHTML = docLinkHtml;\n",
              "          element.appendChild(docLink);\n",
              "        }\n",
              "      </script>\n",
              "    </div>\n",
              "  </div>\n",
              "  "
            ]
          },
          "metadata": {},
          "execution_count": 31
        }
      ]
    },
    {
      "cell_type": "code",
      "source": [
        "whether.isnull().sum(axis=1)"
      ],
      "metadata": {
        "colab": {
          "base_uri": "https://localhost:8080/"
        },
        "id": "rpc3MELnU3W6",
        "outputId": "c8c038b1-682e-4bf2-d9fc-e44cd6e4bc1d"
      },
      "execution_count": null,
      "outputs": [
        {
          "output_type": "execute_result",
          "data": {
            "text/plain": [
              "0         4\n",
              "1         6\n",
              "2         6\n",
              "3         5\n",
              "4         4\n",
              "         ..\n",
              "100985    4\n",
              "100986    4\n",
              "100987    4\n",
              "100988    4\n",
              "100989    4\n",
              "Length: 100990, dtype: int64"
            ]
          },
          "metadata": {},
          "execution_count": 48
        }
      ]
    },
    {
      "cell_type": "code",
      "source": [
        "whether.mean()"
      ],
      "metadata": {
        "colab": {
          "base_uri": "https://localhost:8080/"
        },
        "id": "BMQr1NraV0Pd",
        "outputId": "252d803c-9c2b-4c14-e897-0412db13eed8"
      },
      "execution_count": null,
      "outputs": [
        {
          "output_type": "stream",
          "name": "stderr",
          "text": [
            "/usr/local/lib/python3.7/dist-packages/ipykernel_launcher.py:1: FutureWarning: Dropping of nuisance columns in DataFrame reductions (with 'numeric_only=None') is deprecated; in a future version this will raise TypeError.  Select only valid columns before calling the reduction.\n",
            "  \"\"\"Entry point for launching an IPython kernel.\n"
          ]
        },
        {
          "output_type": "execute_result",
          "data": {
            "text/plain": [
              " _dewptm          15.741205\n",
              " _fog              0.069690\n",
              " _hail             0.000129\n",
              " _heatindexm      35.651710\n",
              " _hum             57.909481\n",
              " _precipm               NaN\n",
              " _pressurem     1932.330949\n",
              " _rain             0.026260\n",
              " _snow             0.000010\n",
              " _tempm           25.451269\n",
              " _thunder          0.009427\n",
              " _tornado          0.000020\n",
              " _vism             2.402774\n",
              " _wdird          163.549974\n",
              " _wgustm          37.671175\n",
              " _windchillm       5.713817\n",
              " _wspdm            7.678463\n",
              "dtype: float64"
            ]
          },
          "metadata": {},
          "execution_count": 36
        }
      ]
    },
    {
      "cell_type": "code",
      "source": [
        "whether[' _pressurem'].head(2)"
      ],
      "metadata": {
        "colab": {
          "base_uri": "https://localhost:8080/"
        },
        "id": "UsO7noYXXFGR",
        "outputId": "54f624d0-7db3-4b57-b61e-554f098662c3"
      },
      "execution_count": null,
      "outputs": [
        {
          "output_type": "execute_result",
          "data": {
            "text/plain": [
              "0    1010.0\n",
              "1   -9999.0\n",
              "Name:  _pressurem, dtype: float64"
            ]
          },
          "metadata": {},
          "execution_count": 39
        }
      ]
    },
    {
      "cell_type": "code",
      "source": [
        "type(whether[' _pressurem']) #series\n",
        "type(whether[[' _pressurem']]) # dataframe"
      ],
      "metadata": {
        "colab": {
          "base_uri": "https://localhost:8080/"
        },
        "id": "_AGef3nWXiKZ",
        "outputId": "2635bdf2-4fca-4a46-a2ab-acf1d3d9615b"
      },
      "execution_count": null,
      "outputs": [
        {
          "output_type": "execute_result",
          "data": {
            "text/plain": [
              "pandas.core.frame.DataFrame"
            ]
          },
          "metadata": {},
          "execution_count": 42
        }
      ]
    },
    {
      "cell_type": "code",
      "source": [
        "whether[[\" _precipm\",\" _pressurem\"]].fillna(method='ffill', inplace = True)\n",
        "whether[[\" _precipm\",\" _pressurem\"]].head()"
      ],
      "metadata": {
        "colab": {
          "base_uri": "https://localhost:8080/",
          "height": 316
        },
        "id": "CfbbAdplX_gL",
        "outputId": "64634dee-e28f-4e05-ff04-7ac1234d9b88"
      },
      "execution_count": null,
      "outputs": [
        {
          "output_type": "stream",
          "name": "stderr",
          "text": [
            "/usr/local/lib/python3.7/dist-packages/pandas/core/frame.py:5182: SettingWithCopyWarning: \n",
            "A value is trying to be set on a copy of a slice from a DataFrame\n",
            "\n",
            "See the caveats in the documentation: https://pandas.pydata.org/pandas-docs/stable/user_guide/indexing.html#returning-a-view-versus-a-copy\n",
            "  downcast=downcast,\n"
          ]
        },
        {
          "output_type": "execute_result",
          "data": {
            "text/plain": [
              "    _precipm   _pressurem\n",
              "0  no change       1010.0\n",
              "1  no change      -9999.0\n",
              "2  no change      -9999.0\n",
              "3  no change       1010.0\n",
              "4  no change       1011.0"
            ],
            "text/html": [
              "\n",
              "  <div id=\"df-3273aa97-ab2c-4871-8c18-3313c9dbd48b\">\n",
              "    <div class=\"colab-df-container\">\n",
              "      <div>\n",
              "<style scoped>\n",
              "    .dataframe tbody tr th:only-of-type {\n",
              "        vertical-align: middle;\n",
              "    }\n",
              "\n",
              "    .dataframe tbody tr th {\n",
              "        vertical-align: top;\n",
              "    }\n",
              "\n",
              "    .dataframe thead th {\n",
              "        text-align: right;\n",
              "    }\n",
              "</style>\n",
              "<table border=\"1\" class=\"dataframe\">\n",
              "  <thead>\n",
              "    <tr style=\"text-align: right;\">\n",
              "      <th></th>\n",
              "      <th>_precipm</th>\n",
              "      <th>_pressurem</th>\n",
              "    </tr>\n",
              "  </thead>\n",
              "  <tbody>\n",
              "    <tr>\n",
              "      <th>0</th>\n",
              "      <td>no change</td>\n",
              "      <td>1010.0</td>\n",
              "    </tr>\n",
              "    <tr>\n",
              "      <th>1</th>\n",
              "      <td>no change</td>\n",
              "      <td>-9999.0</td>\n",
              "    </tr>\n",
              "    <tr>\n",
              "      <th>2</th>\n",
              "      <td>no change</td>\n",
              "      <td>-9999.0</td>\n",
              "    </tr>\n",
              "    <tr>\n",
              "      <th>3</th>\n",
              "      <td>no change</td>\n",
              "      <td>1010.0</td>\n",
              "    </tr>\n",
              "    <tr>\n",
              "      <th>4</th>\n",
              "      <td>no change</td>\n",
              "      <td>1011.0</td>\n",
              "    </tr>\n",
              "  </tbody>\n",
              "</table>\n",
              "</div>\n",
              "      <button class=\"colab-df-convert\" onclick=\"convertToInteractive('df-3273aa97-ab2c-4871-8c18-3313c9dbd48b')\"\n",
              "              title=\"Convert this dataframe to an interactive table.\"\n",
              "              style=\"display:none;\">\n",
              "        \n",
              "  <svg xmlns=\"http://www.w3.org/2000/svg\" height=\"24px\"viewBox=\"0 0 24 24\"\n",
              "       width=\"24px\">\n",
              "    <path d=\"M0 0h24v24H0V0z\" fill=\"none\"/>\n",
              "    <path d=\"M18.56 5.44l.94 2.06.94-2.06 2.06-.94-2.06-.94-.94-2.06-.94 2.06-2.06.94zm-11 1L8.5 8.5l.94-2.06 2.06-.94-2.06-.94L8.5 2.5l-.94 2.06-2.06.94zm10 10l.94 2.06.94-2.06 2.06-.94-2.06-.94-.94-2.06-.94 2.06-2.06.94z\"/><path d=\"M17.41 7.96l-1.37-1.37c-.4-.4-.92-.59-1.43-.59-.52 0-1.04.2-1.43.59L10.3 9.45l-7.72 7.72c-.78.78-.78 2.05 0 2.83L4 21.41c.39.39.9.59 1.41.59.51 0 1.02-.2 1.41-.59l7.78-7.78 2.81-2.81c.8-.78.8-2.07 0-2.86zM5.41 20L4 18.59l7.72-7.72 1.47 1.35L5.41 20z\"/>\n",
              "  </svg>\n",
              "      </button>\n",
              "      \n",
              "  <style>\n",
              "    .colab-df-container {\n",
              "      display:flex;\n",
              "      flex-wrap:wrap;\n",
              "      gap: 12px;\n",
              "    }\n",
              "\n",
              "    .colab-df-convert {\n",
              "      background-color: #E8F0FE;\n",
              "      border: none;\n",
              "      border-radius: 50%;\n",
              "      cursor: pointer;\n",
              "      display: none;\n",
              "      fill: #1967D2;\n",
              "      height: 32px;\n",
              "      padding: 0 0 0 0;\n",
              "      width: 32px;\n",
              "    }\n",
              "\n",
              "    .colab-df-convert:hover {\n",
              "      background-color: #E2EBFA;\n",
              "      box-shadow: 0px 1px 2px rgba(60, 64, 67, 0.3), 0px 1px 3px 1px rgba(60, 64, 67, 0.15);\n",
              "      fill: #174EA6;\n",
              "    }\n",
              "\n",
              "    [theme=dark] .colab-df-convert {\n",
              "      background-color: #3B4455;\n",
              "      fill: #D2E3FC;\n",
              "    }\n",
              "\n",
              "    [theme=dark] .colab-df-convert:hover {\n",
              "      background-color: #434B5C;\n",
              "      box-shadow: 0px 1px 3px 1px rgba(0, 0, 0, 0.15);\n",
              "      filter: drop-shadow(0px 1px 2px rgba(0, 0, 0, 0.3));\n",
              "      fill: #FFFFFF;\n",
              "    }\n",
              "  </style>\n",
              "\n",
              "      <script>\n",
              "        const buttonEl =\n",
              "          document.querySelector('#df-3273aa97-ab2c-4871-8c18-3313c9dbd48b button.colab-df-convert');\n",
              "        buttonEl.style.display =\n",
              "          google.colab.kernel.accessAllowed ? 'block' : 'none';\n",
              "\n",
              "        async function convertToInteractive(key) {\n",
              "          const element = document.querySelector('#df-3273aa97-ab2c-4871-8c18-3313c9dbd48b');\n",
              "          const dataTable =\n",
              "            await google.colab.kernel.invokeFunction('convertToInteractive',\n",
              "                                                     [key], {});\n",
              "          if (!dataTable) return;\n",
              "\n",
              "          const docLinkHtml = 'Like what you see? Visit the ' +\n",
              "            '<a target=\"_blank\" href=https://colab.research.google.com/notebooks/data_table.ipynb>data table notebook</a>'\n",
              "            + ' to learn more about interactive tables.';\n",
              "          element.innerHTML = '';\n",
              "          dataTable['output_type'] = 'display_data';\n",
              "          await google.colab.output.renderOutput(dataTable, element);\n",
              "          const docLink = document.createElement('div');\n",
              "          docLink.innerHTML = docLinkHtml;\n",
              "          element.appendChild(docLink);\n",
              "        }\n",
              "      </script>\n",
              "    </div>\n",
              "  </div>\n",
              "  "
            ]
          },
          "metadata": {},
          "execution_count": 77
        }
      ]
    },
    {
      "cell_type": "code",
      "source": [
        "x=whether[[' _tempm',' _pressurem']].values\n",
        "y=set([tuple(i) for i in x])\n",
        "print(y)\n"
      ],
      "metadata": {
        "colab": {
          "base_uri": "https://localhost:8080/"
        },
        "id": "vF0gdnHVcygR",
        "outputId": "0ff81f88-7bd0-48f3-a28f-22955f3762fe"
      },
      "execution_count": null,
      "outputs": [
        {
          "output_type": "stream",
          "name": "stdout",
          "text": [
            "{(42.0, 1005.0), (16.0, 1012.0), (9.0, nan), (25.0, 1019.0), (27.0, 1003.0), (30.0, 100.0), (13.0, 101.0), (32.0, 1010.0), (34.0, 1002.0), (31.0, nan), (39.0, 1000.0), (25.0, 1020.0), (27.0, 992.0), (nan, 14.0), (11.0, 1019.0), (38.0, -9999.0), (34.0, 997.0), (42.0, 991.0), (18.0, 1018.0), (20.0, 1002.0), (27.0, -9999.0), (39.0, 993.0), (27.0, 1017.0), (11.0, 1008.0), (nan, -9999.0), (nan, -9999.0), (nan, -9999.0), (nan, -9999.0), (nan, -9999.0), (nan, -9999.0), (44.0, 998.0), (nan, -9999.0), (nan, -9999.0), (nan, -9999.0), (18.0, 1013.0), (20.0, 1009.0), (41.0, 999.0), (4.0, 1018.0), (29.0, 1006.0), (34.0, 1015.0), (32.0, 1083.0), (18.0, 1004.0), (20.0, 1016.0), (22.0, 1004.0), (41.0, 1000.0), (nan, 1006.0), (nan, 1006.0), (nan, 100.0), (nan, 1006.0), (nan, 1006.0), (nan, 1006.0), (nan, 1006.0), (nan, 1006.0), (nan, 1006.0), (nan, 1006.0), (27.0, 1015.0), (29.0, 999.0), (12.0, 1024.0), (38.0, nan), (38.0, nan), (38.0, nan), (38.0, nan), (nan, 1014.0), (nan, 1014.0), (nan, 1014.0), (nan, 1014.0), (nan, 1014.0), (11.0, 1006.0), (nan, 1014.0), (13.0, 1022.0), (nan, 1014.0), (15.0, 1006.0), (nan, 1010.0), (nan, 1010.0), (nan, 1010.0), (nan, 1010.0), (nan, 1010.0), (nan, 1010.0), (nan, 1010.0), (22.0, 999.0), (47.0, 997.0), (37.0, 944.0), (8.0, 1025.0), (6.0, 1020.0), (29.0, 992.0), (13.0, 1015.0), (15.0, 1015.0), (nan, 1009.0), (nan, 1009.0), (36.0, 997.0), (nan, 1009.0), (24.0, 997.0), (29.0, 2.0), (22.0, 1022.0), (43.0, 1002.0), (35.0, 10998.0), (19.0, 1007.0), (6.0, 1015.0), (23.0, nan), (23.0, nan), (29.0, 1017.0), (31.0, 1013.0), (13.0, 1008.0), (15.0, 1025.0), (15.0, 1020.0), (30.0, -9999.0), (36.0, 1004.0), (24.0, 1004.0), (22.0, 1009.0), (8.0, 1013.0), (43.0, 995.0), (35.0, 979.0), (19.0, 1012.0), (29.0, 1010.0), (31.0, 1010.0), (3.0, 1023.0), (28.0, 1005.0), (13.0, 1001.0), (36.0, 1003.0), (38.0, 1011.0), (24.0, 1011.0), (nan, -9999.0), (nan, -9999.0), (nan, -9999.0), (nan, -9999.0), (nan, -9999.0), (nan, -9999.0), (nan, -9999.0), (nan, -9999.0), (nan, -9999.0), (35.0, 1099.0), (13.0, -9999.0), (8.0, 1020.0), (19.0, 1021.0), (40.0, 1009.0), (28.0, 996.0), (38.0, 1002.0), (24.0, 1018.0), (26.0, 994.0), (12.0, 1021.0), (42.0, -9999.0), (7.0, 1025.0), (33.0, 1005.0), (21.0, 1002.0), (46.0, 994.0), (31.0, 992.0), (28.0, 995.0), (38.0, 1005.0), (26.0, 1005.0), (12.0, 1012.0), (16.0, 101.0), (14.0, 1008.0), (10.0, 1010.0), (45.0, 998.0), (nan, 1017.0), (nan, 1017.0), (nan, 1017.0), (33.0, 998.0), (nan, 1019.0), (nan, 1019.0), (nan, 1019.0), (35.0, 80.0), (nan, 1019.0), (nan, 1019.0), (nan, 1019.0), (nan, 1019.0), (21.0, 1011.0), (46.0, 997.0), (31.0, 1001.0), (17.0, 1021.0), (5.0, 1018.0), (11.0, 1819.0), (28.0, 1018.0), (10.0, 1024.0), (30.0, 1010.0), (36.0, 0.0), (36.0, nan), (38.0, 996.0), (36.0, nan), (36.0, nan), (36.0, nan), (26.0, 1012.0), (36.0, nan), (36.0, nan), (12.0, 1011.0), (14.0, 1019.0), (nan, 1003.0), (nan, 1003.0), (nan, 1003.0), (nan, 1003.0), (nan, 1003.0), (nan, 1003.0), (nan, 1003.0), (37.0, 1013.0), (10.0, 1021.0), (nan, 1003.0), (45.0, 991.0), (21.0, 1020.0), (23.0, 1000.0), (32.0, 976.0), (17.0, 1014.0), (40.0, 998.0), (28.0, 1009.0), (30.0, 1013.0), (21.0, 104.0), (23.0, 340.3), (26.0, 101.0), (nan, 994.0), (nan, 994.0), (nan, 994.0), (nan, 994.0), (nan, 994.0), (nan, 994.0), (33.0, 1008.0), (35.0, 1012.0), (17.0, 1007.0), (40.0, 1005.0), (nan, -9999.0), (nan, -9999.0), (nan, -9999.0), (nan, -9999.0), (nan, -9999.0), (nan, -9999.0), (nan, -9999.0), (nan, -9999.0), (nan, -9999.0), (nan, -9999.0), (7.0, 1016.0), (nan, -9999.0), (nan, -9999.0), (nan, -9999.0), (nan, -9999.0), (nan, -9999.0), (nan, -9999.0), (nan, -9999.0), (nan, -9999.0), (nan, -9999.0), (nan, -9999.0), (90.0, 997.0), (28.0, 10008.0), (nan, 7008.0), (nan, 1017.0), (nan, 1017.0), (nan, 1017.0), (nan, 1017.0), (nan, 1017.0), (nan, 1017.0), (nan, 1017.0), (nan, 1017.0), (37.0, 999.0), (25.0, 999.0), (23.0, 1022.0), (32.0, 1006.0), (29.0, nan), (30.0, 999.0), (nan, 1008.0), (nan, 1008.0), (nan, 1008.0), (37.0, 992.0), (nan, 1008.0), (nan, 1008.0), (nan, 1008.0), (25.0, 1000.0), (nan, 1008.0), (nan, 1008.0), (35.0, 994.0), (23.0, 1015.0), (6.0, nan), (9.0, 1015.0), (6.0, nan), (29.0, 929.0), (16.0, 1024.0), (32.0, 997.0), (42.0, 995.0), (30.0, 1006.0), (16.0, 1022.0), (27.0, 100.0), (nan, 1015.0), (nan, 1015.0), (nan, 1015.0), (nan, 1015.0), (nan, 1015.0), (nan, 1015.0), (nan, 1015.0), (37.0, 1001.0), (nan, 1015.0), (nan, 1015.0), (28.0, -9999.0), (25.0, 1009.0), (nan, 1009.0), (nan, 1009.0), (nan, 1009.0), (35.0, 1003.0), (34.0, 97.0), (nan, 1009.0), (nan, 1017.0), (nan, 1017.0), (nan, 1017.0), (nan, 1017.0), (nan, 1017.0), (9.0, 1016.0), (nan, 1017.0), (nan, 1017.0), (nan, 1017.0), (42.0, 1002.0), (14.0, 1921.0), (16.0, 1013.0), (38.0, 1084.0), (8.0, 11019.0), (39.0, 1010.0), (25.0, 1018.0), (27.0, 1002.0), (32.0, 1011.0), (34.0, 1003.0), (16.0, 1004.0), (20.0, 1004.0), (34.0, nan), (34.0, nan), (34.0, nan), (34.0, nan), (34.0, nan), (34.0, nan), (34.0, nan), (4.0, 1013.0), (39.0, 1003.0), (34.0, nan), (27.0, 995.0), (21.0, 10120.0), (11.0, 1120.0), (11.0, 1018.0), (34.0, 994.0), (44.0, 1000.0), (18.0, 1019.0), (20.0, 1003.0), (4.0, 1020.0), (39.0, 992.0), (27.0, 1016.0), (nan, 6.0), (11.0, 1011.0), (19.0, 1065.0), (44.0, 999.0), (18.0, 1010.0), (19.0, nan), (20.0, 1010.0), (19.0, nan), (22.0, 1002.0), (41.0, 998.0), (19.0, nan), (19.0, nan), (19.0, nan), (18.0, 6006.0), (4.0, 1019.0), (27.0, 1009.0), (29.0, 1005.0), (27.0, 11001.0), (34.0, 1012.0), (36.0, 1008.0), (44.0, 990.0), (18.0, 1005.0), (20.0, 1017.0), (22.0, 1005.0), (41.0, 1007.0), (39.0, 1100.0), (28.0, nan), (28.0, nan), (28.0, nan), (28.0, nan), (28.0, nan), (6.0, 1018.0), (27.0, 1014.0), (29.0, 998.0), (12.0, 1025.0), (13.0, 1021.0), (nan, 1005.0), (nan, 1005.0), (nan, 1005.0), (nan, 1005.0), (nan, 1005.0), (nan, 1005.0), (47.0, 996.0), (6.0, 1021.0), (25.0, 100.0), (nan, 1009.0), (nan, 1009.0), (nan, 1009.0), (nan, 1009.0), (nan, 1009.0), (nan, 1009.0), (nan, 1009.0), (nan, 1009.0), (nan, 1009.0), (13.0, 1014.0), (15.0, 1014.0), (36.0, 998.0), (24.0, 998.0), (22.0, 1023.0), (43.0, 1005.0), (nan, -9999.0), (nan, -9999.0), (nan, -9999.0), (nan, -9999.0), (nan, -9999.0), (nan, -9999.0), (nan, -9999.0), (nan, -9999.0), (nan, -9999.0), (nan, -9999.0), (19.0, 1006.0), (6.0, 1012.0), (22.0, 1033.0), (29.0, 1016.0), (31.0, 1012.0), (13.0, 1007.0), (15.0, 1024.0), (15.0, 1023.0), (32.0, -9999.0), (36.0, 1005.0), (24.0, 1005.0), (34.0, 1105.0), (22.0, 1014.0), (8.0, 1014.0), (43.0, 994.0), (33.0, 978.0), (19.0, 1015.0), (29.0, 1009.0), (31.0, 1021.0), (32.0, 0.0), (32.0, nan), (32.0, nan), (32.0, nan), (32.0, nan), (32.0, nan), (32.0, nan), (32.0, nan), (32.0, nan), (28.0, 1006.0), (38.0, 1008.0), (24.0, 1012.0), (8.0, 1021.0), (33.0, 1003.0), (19.0, 1020.0), (22.0, -9999.0), (16.0, 1079.0), (40.0, 1010.0), (5.0, 1015.0), (28.0, 997.0), (38.0, 1003.0), (24.0, 1019.0), (26.0, 995.0), (12.0, 1022.0), (14.0, 1006.0), (7.0, 1024.0), (33.0, 1004.0), (17.0, nan), (17.0, nan), (21.0, 1001.0), (46.0, 995.0), (31.0, 995.0), (17.0, 1019.0), (9.0, 10120.0), (28.0, 1020.0), (38.0, 994.0), (26.0, 1002.0), (12.0, 1013.0), (14.0, 1009.0), (10.0, 1011.0), (45.0, 997.0), (33.0, 997.0), (21.0, 1010.0), (46.0, 1002.0), (31.0, 1000.0), (17.0, 1020.0), (14.0, 101.0), (40.0, 992.0), (5.0, 1017.0), (28.0, 1019.0), (10.0, 1025.0), (30.0, 1011.0), (nan, 1018.0), (nan, 1018.0), (nan, 1018.0), (nan, 1018.0), (nan, 1018.0), (34.0, -9999.0), (38.0, 997.0), (nan, 1018.0), (26.0, 1013.0), (nan, 1018.0), (14.0, 1016.0), (nan, 1004.0), (nan, 1004.0), (nan, 1004.0), (nan, 1004.0), (nan, 1004.0), (nan, 1004.0), (37.0, 1012.0), (nan, 1004.0), (39.0, -9999.0), (10.0, 1018.0), (45.0, 990.0), (40.0, 339.6), (21.0, 1019.0), (23.0, 1003.0), (32.0, 977.0), (17.0, 1013.0), (40.0, 999.0), (28.0, 1010.0), (30.0, 1018.0), (26.0, 1020.0), (nan, 995.0), (nan, 995.0), (nan, 995.0), (nan, 995.0), (nan, 995.0), (nan, 995.0), (nan, 995.0), (nan, 995.0), (33.0, 1015.0), (nan, -9999.0), (nan, -9999.0), (nan, -9999.0), (nan, -9999.0), (nan, -9999.0), (nan, -9999.0), (nan, -9999.0), (nan, -9999.0), (nan, -9999.0), (35.0, 1015.0), (32.0, 1000.0), (17.0, 1006.0), (18.0, 10.0), (40.0, 1006.0), (7.0, 1019.0), (28.0, 10009.0), (nan, 1018.0), (nan, 1018.0), (nan, 1018.0), (nan, 1018.0), (37.0, 998.0), (nan, 1018.0), (nan, 1018.0), (25.0, 998.0), (nan, 1018.0), (nan, 1018.0), (23.0, 1017.0), (32.0, 1007.0), (34.0, 991.0), (30.0, 996.0), (16.0, 1016.0), (nan, 1009.0), (nan, 1009.0), (nan, 1009.0), (37.0, 1007.0), (nan, 1009.0), (nan, 1009.0), (nan, 1009.0), (25.0, 1007.0), (nan, 1009.0), (9.0, 101.0), (35.0, 997.0), (23.0, 1014.0), (9.0, 1014.0), (16.0, 1025.0), (32.0, 998.0), (42.0, 992.0), (28.0, 991.0), (30.0, 1007.0), (16.0, 1023.0), (nan, 1012.0), (nan, 1012.0), (nan, 1012.0), (nan, 1012.0), (nan, 1012.0), (37.0, 1000.0), (25.0, 1008.0), (35.0, 1002.0), (9.0, 1023.0), (31.0, nan), (31.0, nan), (31.0, nan), (31.0, nan), (31.0, nan), (31.0, nan), (31.0, nan), (31.0, nan), (42.0, 1003.0), (31.0, nan), (16.0, 1014.0), (17.0, 1810.0), (39.0, 1005.0), (25.0, 1017.0), (27.0, 1005.0), (32.0, 1012.0), (34.0, 1000.0), (nan, 1015.0), (nan, 1015.0), (nan, 1015.0), (nan, 1015.0), (nan, 1015.0), (nan, 1015.0), (20.0, 1005.0), (nan, 1015.0), (nan, 1015.0), (nan, 1015.0), (4.0, 1014.0), (39.0, 1002.0), (27.0, 994.0), (35.0, 98.0), (nan, nan), (nan, nan), (11.0, 1021.0), (34.0, 995.0), (42.0, 989.0), (44.0, 1001.0), (18.0, 1016.0), (20.0, 1012.0), (nan, -9999.0), (nan, -9999.0), (nan, -9999.0), (nan, -9999.0), (nan, -9999.0), (nan, -9999.0), (15.0, -9999.0), (4.0, 1021.0), (39.0, 995.0), (nan, -9999.0), (27.0, 1019.0), (33.0, 10011.0), (11.0, 1010.0), (46.0, 10998.0), (44.0, 992.0), (18.0, 1011.0), (20.0, 1011.0), (22.0, 1003.0), (41.0, 997.0), (27.0, 1008.0), (11.0, 1024.0), (29.0, 1004.0), (34.0, 1013.0), (36.0, 1009.0), (44.0, 991.0), (20.0, 1018.0), (18.0, 1024.0), (41.0, 1006.0), (47.0, 990.0), (6.0, 1019.0), (23.0, 12.0), (29.0, 997.0), (13.0, 1020.0), (47.0, 999.0), (nan, 1004.0), (nan, 1004.0), (nan, 1004.0), (nan, 1004.0), (nan, 1004.0), (nan, 1004.0), (nan, 1004.0), (nan, 1004.0), (13.0, 1013.0), (15.0, 1009.0), (36.0, 999.0), (24.0, 999.0), (29.0, nan), (29.0, nan), (29.0, nan), (29.0, nan), (29.0, nan), (29.0, nan), (12.0, -9999.0), (29.0, nan), (29.0, nan), (29.0, nan), (22.0, 1020.0), (43.0, 1004.0), (nan, 1008.0), (nan, 1008.0), (nan, 1008.0), (nan, 1008.0), (19.0, 1009.0), (38.0, nan), (6.0, 1013.0), (29.0, 1015.0), (31.0, 1015.0), (13.0, 1006.0), (15.0, 1022.0), (36.0, 1006.0), (24.0, 1006.0), (37.0, 991.0), (22.0, 1015.0), (8.0, 1015.0), (43.0, 997.0), (19.0, 1014.0), (21.0, 998.0), (29.0, 1008.0), (28.0, 1007.0), (14.0, nan), (14.0, nan), (38.0, 1009.0), (35.0, -9999.0), (24.0, 1013.0), (36.0, 100.0), (8.0, 1022.0), (33.0, 1002.0), (19.0, 1023.0), (21.0, 1007.0), (31.0, 997.0), (5.0, 1014.0), (28.0, 998.0), (13.0, 1025.0), (38.0, 1000.0), (24.0, 1020.0), (nan, -9999.0), (nan, -9999.0), (nan, -9999.0), (nan, -9999.0), (nan, -9999.0), (nan, -9999.0), (nan, -9999.0), (12.0, 1023.0), (nan, -9999.0), (14.0, 1007.0), (45.0, 1003.0), (7.0, 1027.0), (33.0, 995.0), (31.0, 994.0), (17.0, 1018.0), (5.0, 1023.0), (19.0, -9999.0), (38.0, 995.0), (26.0, 1003.0), (12.0, 1014.0), (14.0, 1014.0), (45.0, 996.0), (33.0, 996.0), (nan, 1002.0), (nan, 1002.0), (nan, 1002.0), (nan, 1002.0), (nan, 1002.0), (nan, 1002.0), (21.0, 1009.0), (nan, 1002.0), (23.0, 1005.0), (nan, 1002.0), (46.0, 1003.0), (31.0, 1003.0), (17.0, 1011.0), (40.0, 993.0), (5.0, 1016.0), (28.0, 1012.0), (30.0, 1008.0), (26.0, 1010.0), (14.0, 1017.0), (nan, 1005.0), (nan, 1005.0), (nan, 1005.0), (nan, 1005.0), (37.0, 1011.0), (nan, 1005.0), (nan, 1005.0), (nan, 1005.0), (10.0, 1019.0), (nan, 1005.0), (35.0, 1009.0), (12.0, 10198.0), (21.0, 1018.0), (23.0, 1002.0), (nan, 1017.0), (nan, 1017.0), (nan, 1017.0), (nan, 1017.0), (nan, 1017.0), (nan, 1017.0), (17.0, 1012.0), (nan, 1017.0), (nan, 1017.0), (nan, 1017.0), (40.0, 1000.0), (7.0, 1021.0), (28.0, 1011.0), (30.0, 1019.0), (26.0, 1021.0), (nan, -9999.0), (nan, -9999.0), (nan, -9999.0), (nan, -9999.0), (nan, -9999.0), (nan, -9999.0), (nan, -9999.0), (nan, -9999.0), (nan, -9999.0), (nan, -9999.0), (nan, 996.0), (nan, 996.0), (nan, 996.0), (nan, 996.0), (nan, 996.0), (nan, 996.0), (nan, 996.0), (27.0, nan), (27.0, nan), (27.0, nan), (27.0, nan), (33.0, 1014.0), (27.0, nan), (35.0, 1014.0), (27.0, nan), (27.0, nan), (27.0, nan), (32.0, 1001.0), (17.0, 1005.0), (40.0, 1007.0), (7.0, 1018.0), (30.0, 994.0), (nan, 1019.0), (nan, 1019.0), (nan, 1019.0), (nan, 1019.0), (nan, 1019.0), (nan, 1019.0), (nan, 1019.0), (nan, 1019.0), (37.0, 997.0), (25.0, 997.0), (23.0, 1016.0), (32.0, 992.0), (42.0, 998.0), (7.0, 1011.0), (30.0, 997.0), (16.0, 1017.0), (12.0, nan), (12.0, nan), (nan, 1010.0), (nan, 1010.0), (nan, 1010.0), (nan, 1010.0), (nan, 1010.0), (nan, 1010.0), (nan, 1010.0), (37.0, 1006.0), (nan, 1010.0), (25.0, 1006.0), (35.0, 996.0), (34.0, 100.0), (23.0, 1009.0), (9.0, 1013.0), (16.0, 1026.0), (32.0, 999.0), (42.0, 993.0), (nan, 1015.0), (nan, 1015.0), (nan, 1015.0), (nan, 1015.0), (30.0, 1004.0), (16.0, 1008.0), (25.0, 1015.0), (35.0, 1005.0), (9.0, 1022.0), (34.0, 1006.0), (42.0, 1000.0), (34.0, 1086.0), (34.0, 9963.0), (16.0, 1015.0), (23.0, 1024.0), (7.0, 10120.0), (39.0, 1004.0), (25.0, 1016.0), (27.0, 1004.0), (32.0, 1013.0), (34.0, 1001.0), (40.0, nan), (40.0, nan), (40.0, nan), (16.0, 1006.0), (18.0, 1022.0), (20.0, 1006.0), (37.0, nan), (19.0, 101.0), (4.0, 1015.0), (39.0, 997.0), (24.0, 24.0), (27.0, 997.0), (nan, 1014.0), (nan, 1014.0), (nan, 1014.0), (nan, 1014.0), (nan, 1014.0), (nan, 1014.0), (nan, 1014.0), (11.0, 1020.0), (nan, 1014.0), (18.0, -9999.0), (34.0, 992.0), (44.0, 1002.0), (18.0, 1017.0), (20.0, 1013.0), (41.0, 995.0), (nan, 990.0), (4.0, 1022.0), (39.0, 994.0), (27.0, 1018.0), (25.0, nan), (25.0, nan), (25.0, nan), (25.0, nan), (25.0, nan), (11.0, 1013.0), (8.0, -9999.0), (38.0, 100.0), (44.0, 993.0), (18.0, 1008.0), (20.0, 1020.0), (22.0, 1000.0), (41.0, 996.0), (27.0, 1011.0), (29.0, 1003.0), (34.0, 1010.0), (36.0, 1010.0), (18.0, 1003.0), (20.0, 1019.0), (22.0, 995.0), (41.0, 1005.0), (nan, -9999.0), (nan, -9999.0), (nan, -9999.0), (nan, -9999.0), (nan, -9999.0), (nan, -9999.0), (nan, -9999.0), (nan, -9999.0), (nan, -9999.0), (nan, -9999.0), (6.0, 1016.0), (29.0, 996.0), (nan, 1018.0), (nan, 1018.0), (nan, 1018.0), (nan, 1018.0), (nan, 1018.0), (nan, 1018.0), (nan, 1018.0), (nan, 1018.0), (nan, 1018.0), (nan, 1018.0), (13.0, 1019.0), (22.0, 1018.0), (47.0, 998.0), (16.0, 1914.0), (31.0, nan), (31.0, nan), (31.0, nan), (31.0, nan), (31.0, nan), (31.0, nan), (31.0, nan), (31.0, nan), (31.0, nan), (31.0, nan), (6.0, 1011.0), (25.0, -9999.0), (9.0, 1025.0), (12.0, 10124.0), (13.0, 1012.0), (32.0, 99.0), (15.0, 1008.0), (36.0, 992.0), (24.0, 1000.0), (34.0, 1108.0), (nan, 1003.0), (22.0, 1021.0), (41.0, 991.0), (8.0, 1009.0), (nan, 1003.0), (nan, 1003.0), (nan, 1003.0), (nan, 1003.0), (nan, 1003.0), (nan, 1003.0), (33.0, 991.0), (19.0, 1008.0), (29.0, 1014.0), (31.0, 1014.0), (3.0, 1019.0), (15.0, 1017.0), (36.0, 1007.0), (24.0, 1007.0), (7.0, 101.0), (37.0, 990.0), (22.0, 1012.0), (8.0, 1016.0), (43.0, 996.0), (19.0, 1017.0), (27.0, 991.0), (28.0, 1991.0), (nan, -9999.0), (nan, -9999.0), (nan, -9999.0), (nan, -9999.0), (nan, -9999.0), (nan, -9999.0), (nan, -9999.0), (nan, -9999.0), (nan, -9999.0), (nan, -9999.0), (28.0, 1000.0), (24.0, 1014.0), (26.0, 998.0), (35.0, 1100.0), (6.0, 1024.0), (8.0, 1023.0), (43.0, 989.0), (33.0, 1001.0), (19.0, 1022.0), (21.0, 1006.0), (46.0, 990.0), (31.0, 996.0), (37.0, 339.6), (5.0, 1013.0), (28.0, 999.0), (13.0, 1024.0), (38.0, 1001.0), (24.0, 1021.0), (39.0, nan), (39.0, nan), (26.0, 993.0), (12.0, 1016.0), (10.0, 1014.0), (45.0, 1002.0), (7.0, 1026.0), (33.0, 994.0), (21.0, 1015.0), (46.0, 993.0), (31.0, 1005.0), (17.0, 1017.0), (nan, -9999.0), (nan, -9999.0), (nan, -9999.0), (nan, -9999.0), (5.0, 1022.0), (nan, -9999.0), (nan, -9999.0), (nan, -9999.0), (nan, -9999.0), (nan, -9999.0), (38.0, 992.0), (26.0, 1000.0), (28.0, 1806.0), (12.0, 1015.0), (14.0, 1015.0), (10.0, 1009.0), (45.0, 995.0), (33.0, 10065.0), (36.0, 1100.0), (21.0, 1008.0), (23.0, 1004.0), (46.0, 1000.0), (31.0, 1002.0), (32.0, 988.0), (17.0, 1010.0), (40.0, 994.0), (8.0, nan), (28.0, 1013.0), (30.0, 1009.0), (26.0, 1011.0), (72.0, 1015.0), (14.0, 1022.0), (nan, 1006.0), (nan, 1006.0), (nan, 1006.0), (nan, 1006.0), (nan, 1006.0), (nan, 1006.0), (nan, 1006.0), (nan, 1006.0), (10.0, 1016.0), (37.0, 1010.0), (35.0, 1008.0), (21.0, 1017.0), (11.0, -9999.0), (17.0, 1003.0), (40.0, 1001.0), (7.0, 1020.0), (30.0, 1016.0), (36.0, 10.0), (26.0, 1018.0), (nan, 1016.0), (nan, 1016.0), (nan, 997.0), (nan, 997.0), (nan, 1016.0), (nan, 997.0), (nan, 1016.0), (nan, 1016.0), (nan, 1016.0), (25.0, 995.0), (nan, 997.0), (nan, 997.0), (25.0, 1026.0), (33.0, 1013.0), (32.0, 1002.0), (19.0, 1024.0), (7.0, 1013.0), (17.0, 11014.0), (30.0, 995.0), (17.0, 6018.0), (22.0, 100.0), (nan, 1020.0), (nan, 1020.0), (nan, 1020.0), (37.0, 996.0), (nan, 1020.0), (nan, 1020.0), (nan, 1020.0), (25.0, 996.0), (nan, 1020.0), (nan, 1020.0), (23.0, 1019.0), (9.0, 1011.0), (nan, -9999.0), (nan, -9999.0), (32.0, 993.0), (nan, -9999.0), (nan, -9999.0), (nan, -9999.0), (nan, -9999.0), (nan, -9999.0), (nan, -9999.0), (nan, -9999.0), (42.0, 999.0), (30.0, 1002.0), (16.0, 1018.0), (13.0, 10211.0), (nan, 1011.0), (nan, 1011.0), (nan, 1011.0), (37.0, 1005.0), (nan, 1011.0), (nan, 1011.0), (nan, 1011.0), (25.0, 1005.0), (nan, 1011.0), (nan, 1011.0), (35.0, 999.0), (23.0, 1008.0), (9.0, 1012.0), (32.0, 1016.0), (17.0, 990.0), (42.0, 1006.0), (30.0, 1005.0), (16.0, 1009.0), (37.0, nan), (37.0, nan), (37.0, nan), (37.0, nan), (37.0, nan), (37.0, nan), (25.0, 1014.0), (33.0, 11009.0), (37.0, nan), (37.0, nan), (30.0, 97.0), (35.0, 1004.0), (9.0, 1021.0), (15.0, 11014.0), (34.0, 1007.0), (36.0, 991.0), (42.0, 1001.0), (43.0, 7.0), (30.0, nan), (30.0, nan), (30.0, nan), (30.0, nan), (30.0, nan), (41.0, 1008.0), (39.0, 1007.0), (27.0, 1007.0), (32.0, 1014.0), (34.0, 998.0), (44.0, 1004.0), (16.0, 1007.0), (18.0, 1023.0), (20.0, 1007.0), (22.0, nan), (22.0, nan), (22.0, nan), (22.0, nan), (39.0, 996.0), (27.0, 996.0), (35.0, 100.0), (nan, 1014.0), (nan, 1014.0), (nan, 1014.0), (nan, 1014.0), (nan, 1014.0), (9.0, 1007.0), (11.0, 1023.0), (34.0, 993.0), (18.0, 103.0), (44.0, 1003.0), (18.0, 1014.0), (20.0, 1014.0), (41.0, 994.0), (nan, 1013.0), (nan, 1013.0), (nan, 1013.0), (nan, 1013.0), (nan, 1013.0), (nan, 1013.0), (nan, 1013.0), (40.0, 1095.0), (nan, 1013.0), (20.0, 101.0), (27.0, 1021.0), (28.0, 338.6), (11.0, 1012.0), (36.0, 1012.0), (36.0, 10078.0), (44.0, 994.0), (17.0, 1024.0), (18.0, 1009.0), (20.0, 1021.0), (25.0, 1088.0), (41.0, 1003.0), (22.0, 1001.0), (27.0, 1010.0), (11.0, 1026.0), (29.0, 1002.0), (nan, 16.0), (34.0, 1011.0), (36.0, 1011.0), (nan, -9999.0), (nan, -9999.0), (nan, -9999.0), (nan, -9999.0), (nan, -9999.0), (nan, -9999.0), (nan, -9999.0), (nan, -9999.0), (nan, -9999.0), (nan, -9999.0), (18.0, 101014.0), (41.0, 1004.0), (6.0, 1017.0), (23.0, 14.0), (29.0, 995.0), (5.0, -9999.0), (13.0, 1018.0), (35.0, 341.3), (nan, 1000.0), (24.0, 994.0), (nan, 1000.0), (22.0, 1019.0), (43.0, 1001.0), (25.0, 105.0), (9.0, 1024.0), (29.0, 1020.0), (35.0, nan), (35.0, nan), (35.0, nan), (35.0, nan), (35.0, nan), (35.0, nan), (35.0, nan), (35.0, nan), (35.0, nan), (35.0, nan), (13.0, 1011.0), (32.0, 100.0), (15.0, 1011.0), (36.0, 993.0), (24.0, 1001.0), (nan, -9999.0), (nan, -9999.0), (nan, -9999.0), (nan, -9999.0), (nan, -9999.0), (nan, -9999.0), (nan, -9999.0), (nan, -9999.0), (nan, -9999.0), (nan, -9999.0), (29.0, 10045.0), (22.0, 1010.0), (41.0, 990.0), (8.0, 1010.0), (43.0, 1006.0), (33.0, 990.0), (19.0, 1011.0), (35.0, nan), (35.0, nan), (29.0, 1013.0), (31.0, 1009.0), (12.0, 344.0), (17.0, 344.4), (3.0, 1018.0), (nan, 1002.0), (nan, 1002.0), (nan, 1002.0), (nan, 1002.0), (nan, 1002.0), (15.0, 1016.0), (nan, 1002.0), (nan, 1002.0), (36.0, 1000.0), (nan, 1002.0), (24.0, 1008.0), (33.0, 1098.0), (17.0, -9999.0), (22.0, 1013.0), (14.0, 7016.0), (8.0, 1017.0), (43.0, 999.0), (20.0, nan), (19.0, 1016.0), (20.0, nan), (20.0, nan), (29.0, 974.0), (28.0, 1001.0), (33.0, 100.0), (24.0, 1015.0), (26.0, 999.0), (nan, -9999.0), (nan, -9999.0), (nan, -9999.0), (nan, -9999.0), (nan, -9999.0), (nan, -9999.0), (nan, -9999.0), (nan, -9999.0), (nan, -9999.0), (nan, -9999.0), (33.0, 1000.0), (21.0, 1005.0), (46.0, 991.0), (31.0, 999.0), (8.0, 1855.0), (5.0, 1012.0), (28.0, 992.0), (38.0, 1006.0), (24.0, 1022.0), (26.0, 1006.0), (12.0, 1017.0), (14.0, 1005.0), (39.0, 991.0), (10.0, 1015.0), (45.0, 1001.0), (33.0, 993.0), (nan, 1013.0), (21.0, 1014.0), (46.0, 998.0), (31.0, 1004.0), (17.0, 1016.0), (5.0, 1021.0), (38.0, 993.0), (26.0, 1001.0), (12.0, 1008.0), (14.0, 1012.0), (nan, 1000.0), (nan, 1000.0), (nan, 1000.0), (nan, 1000.0), (nan, 1000.0), (nan, 1000.0), (nan, 1000.0), (nan, 1000.0), (10.0, 1022.0), (45.0, 994.0), (21.0, 1023.0), (23.0, 1007.0), (46.0, 1001.0), (17.0, 1009.0), (29.0, nan), (29.0, nan), (29.0, nan), (40.0, 995.0), (29.0, nan), (29.0, nan), (29.0, nan), (29.0, nan), (29.0, nan), (29.0, nan), (28.0, 1014.0), (30.0, 1014.0), (26.0, 1008.0), (14.0, 1023.0), (17.0, 102.0), (nan, 1007.0), (nan, 1007.0), (nan, 1007.0), (37.0, 1009.0), (nan, 1007.0), (nan, 1007.0), (nan, 1007.0), (nan, 1007.0), (10.0, 1017.0), (nan, 1007.0), (33.0, 1011.0), (35.0, 1011.0), (21.0, 1016.0), (27.0, 1108.0), (40.0, 1002.0), (7.0, 1023.0), (30.0, 1017.0), (33.0, nan), (20.0, -9999.0), (31.0, 1088.0), (33.0, nan), (33.0, nan), (33.0, nan), (33.0, nan), (33.0, nan), (33.0, nan), (nan, -9999.0), (nan, -9999.0), (nan, -9999.0), (nan, -9999.0), (nan, -9999.0), (nan, -9999.0), (nan, -9999.0), (nan, -9999.0), (nan, -9999.0), (nan, -9999.0), (nan, 998.0), (nan, 998.0), (nan, 998.0), (nan, 998.0), (9.0, -9999.0), (nan, 998.0), (nan, 998.0), (nan, 998.0), (nan, 998.0), (nan, 998.0), (37.0, 1018.0), (25.0, 994.0), (33.0, 1012.0), (23.0, 1021.0), (34.0, 10999.0), (32.0, 1003.0), (nan, 999.0), (nan, 999.0), (nan, 999.0), (7.0, 1012.0), (30.0, 992.0), (nan, 1021.0), (nan, 1021.0), (nan, 1021.0), (nan, 1021.0), (37.0, 995.0), (nan, 1021.0), (nan, 1021.0), (25.0, 1003.0), (nan, 1021.0), (nan, 1021.0), (35.0, 993.0), (23.0, 1018.0), (9.0, 1010.0), (32.0, 994.0), (18.0, nan), (18.0, nan), (18.0, nan), (18.0, nan), (42.0, 996.0), (18.0, nan), (18.0, nan), (30.0, 1003.0), (16.0, 1019.0), (nan, 1012.0), (nan, 1012.0), (nan, 1012.0), (nan, 1012.0), (nan, 1012.0), (nan, 1012.0), (nan, 1012.0), (nan, 1012.0), (nan, 1012.0), (nan, 1012.0), (37.0, 1004.0), (25.0, 1004.0), (35.0, 998.0), (23.0, 1011.0), (9.0, 1019.0), (32.0, 1017.0), (37.0, -9999.0), (40.0, 991.0), (42.0, 1007.0), (30.0, 978.0), (16.0, 1010.0), (nan, 1016.0), (nan, 1016.0), (nan, 1016.0), (nan, 1016.0), (nan, 1016.0), (nan, 1016.0), (nan, 1016.0), (nan, 1016.0), (39.0, 1009.0), (25.0, 1013.0), (27.0, 1001.0), (35.0, 1007.0), (9.0, 1020.0), (38.0, 101061443.0), (32.0, 1008.0), (34.0, 1004.0), (16.0, 1001.0), (15.0, 101.0), (39.0, 1006.0), (25.0, 1022.0), (27.0, 1006.0), (30.0, 105.0), (11.0, 1017.0), (32.0, 1015.0), (34.0, 999.0), (18.0, 1020.0), (34.0, nan), (34.0, nan), (34.0, nan), (34.0, nan), (34.0, nan), (34.0, nan), (34.0, nan), (34.0, nan), (39.0, 999.0), (27.0, 999.0), (14.0, 1024.0), (40.0, -9999.0), (11.0, 1022.0), (38.0, 990.0), (44.0, 996.0), (18.0, 1015.0), (20.0, 1015.0), (41.0, 993.0), (4.0, 1016.0), (27.0, 1020.0), (11.0, 1015.0), (36.0, 1013.0), (nan, 1012.0), (nan, 1012.0), (nan, 1012.0), (nan, 1012.0), (nan, 1012.0), (44.0, 995.0), (nan, 1012.0), (nan, 1012.0), (nan, 1012.0), (nan, 1012.0), (18.0, 1006.0), (20.0, 1022.0), (22.0, 1006.0), (41.0, 1002.0), (27.0, 1013.0), (24.0, -9999.0), (29.0, 1001.0), (15.0, 1073.0), (15.0, 1004.0), (34.0, 1008.0), (19.0, 1074.0), (16.0, nan), (16.0, nan), (16.0, nan), (18.0, 1001.0), (16.0, nan), (6.0, 1022.0), (29.0, 994.0), (nan, 1003.0), (nan, 1003.0), (nan, 1003.0), (nan, 1003.0), (nan, 1003.0), (23.0, -9999.0), (13.0, 1017.0), (15.0, 1013.0), (24.0, 995.0), (14.0, -9999.0), (22.0, 1016.0), (43.0, 1000.0), (28.0, nan), (28.0, nan), (28.0, nan), (28.0, nan), (19.0, 1005.0), (28.0, nan), (28.0, nan), (28.0, nan), (28.0, nan), (28.0, nan), (29.0, 1019.0), (13.0, 1010.0), (15.0, 1010.0), (36.0, 994.0), (24.0, 1002.0), (22.0, 1011.0), (8.0, 1011.0), (43.0, 993.0), (41.0, -9999.0), (19.0, 1010.0), (29.0, 1012.0), (31.0, 1008.0), (3.0, 1021.0), (29.0, 101.0), (15.0, 1019.0), (36.0, 1001.0), (24.0, 1009.0), (8.0, 1018.0), (43.0, 998.0), (nan, 1001.0), (nan, 1001.0), (nan, 1001.0), (nan, 1001.0), (19.0, 1019.0), (nan, 1001.0), (nan, 1001.0), (nan, 1001.0), (nan, 1001.0), (nan, 1001.0), (26.0, -9999.0), (31.0, 1017.0), (nan, -9999.0), (nan, -9999.0), (nan, -9999.0), (nan, -9999.0), (nan, -9999.0), (nan, -9999.0), (28.0, 1002.0), (31.0, -9999.0), (24.0, 1016.0), (nan, 1017.0), (26.0, 996.0), (nan, 1017.0), (nan, 1017.0), (nan, 1017.0), (nan, 1017.0), (nan, 1017.0), (nan, 1017.0), (nan, 1017.0), (nan, 1017.0), (nan, 1021.0), (nan, 1021.0), (nan, 1021.0), (41.0, 975.0), (43.0, 991.0), (33.0, 1007.0), (35.0, 991.0), (21.0, 1004.0), (31.0, 998.0), (28.0, 993.0), (38.0, 1007.0), (26.0, 1007.0), (9.0, 1812.0), (12.0, 1018.0), (14.0, 1010.0), (39.0, 990.0), (10.0, 1012.0), (45.0, 1000.0), (33.0, 992.0), (21.0, 1013.0), (29.0, 991.0), (46.0, 999.0), (31.0, 1007.0), (17.0, 1023.0), (5.0, 1020.0), (28.0, 1016.0), (38.0, 998.0), (26.0, 1014.0), (12.0, 1009.0), (14.0, 1013.0), (nan, 1001.0), (nan, 1001.0), (nan, 1001.0), (nan, 1001.0), (nan, 1001.0), (nan, 1001.0), (21.0, 1080.0), (nan, 1001.0), (10.0, 1023.0), (nan, 1001.0), (45.0, 993.0), (30.0, nan), (30.0, nan), (30.0, nan), (30.0, nan), (30.0, nan), (30.0, nan), (30.0, nan), (30.0, nan), (30.0, nan), (30.0, nan), (21.0, 1022.0), (23.0, 1006.0), (32.0, 990.0), (17.0, 1008.0), (14.0, 105.0), (40.0, 996.0), (28.0, 1015.0), (30.0, 1015.0), (26.0, 1009.0), (63.0, 995.0), (14.0, 1020.0), (37.0, 1008.0), (33.0, 1010.0), (35.0, 1010.0), (nan, 1801.0), (23.0, 999.0), (40.0, 1003.0), (7.0, 1022.0), (33.0, nan), (33.0, nan), (33.0, nan), (33.0, nan), (33.0, nan), (26.0, 1016.0), (15.0, nan), (nan, 999.0), (nan, 999.0), (nan, 999.0), (nan, 999.0), (nan, 999.0), (nan, 999.0), (nan, 999.0), (nan, 999.0), (nan, 999.0), (nan, 999.0), (26.0, 1019.0), (23.0, 1020.0), (32.0, 1004.0), (14.0, 123.0), (33.0, 2002.0), (25.0, 10018.0), (7.0, 1015.0), (30.0, 993.0), (37.0, 994.0), (25.0, 1002.0), (62.0, 1018.0), (nan, 998.0), (nan, 998.0), (35.0, 992.0), (31.0, 1811.0), (nan, 998.0), (nan, 998.0), (nan, 998.0), (nan, 998.0), (20.0, 11015.0), (23.0, 1013.0), (9.0, 1009.0), (32.0, 995.0), (42.0, 997.0), (30.0, 1000.0), (16.0, 1020.0), (nan, 1013.0), (nan, 1013.0), (nan, 1013.0), (37.0, 1003.0), (nan, 1013.0), (nan, 1013.0), (nan, 1013.0), (25.0, 1011.0), (nan, 1013.0), (nan, 1013.0), (35.0, 1001.0), (23.0, 1010.0), (9.0, 1018.0), (32.0, 1018.0), (42.0, 1004.0), (43.0, nan), (43.0, nan), (16.0, 1011.0), (39.0, 1008.0), (25.0, 1012.0), (27.0, 1000.0), (nan, -9999.0), (nan, -9999.0), (nan, -9999.0), (nan, -9999.0), (nan, -9999.0), (35.0, 1006.0), (nan, -9999.0), (nan, -9999.0), (nan, -9999.0), (32.0, 1009.0), (13.0, 102.0), (34.0, 1005.0), (16.0, 1616.0), (27.0, nan), (27.0, nan), (27.0, nan), (27.0, nan), (27.0, nan), (27.0, nan), (27.0, nan), (27.0, nan), (27.0, nan), (39.0, 1001.0), (29.0, -9999.0), (25.0, 1021.0), (27.0, 993.0), (31.0, 100.0), (19.0, 11020.0), (28.0, nan), (11.0, 1016.0), (28.0, nan), (28.0, nan), (28.0, nan), (28.0, nan), (34.0, 996.0), (28.0, nan), (28.0, nan), (28.0, nan), (42.0, 990.0), (18.0, 1021.0), (20.0, 1031.0), (20.0, 1001.0), (39.0, 998.0), (27.0, 998.0), (14.0, 1025.0), (11.0, 1009.0), (18.0, 101.0), (38.0, 991.0), (44.0, 997.0), (18.0, 1012.0), (20.0, 1008.0), (41.0, 992.0), (4.0, 1017.0), (29.0, 1007.0), (13.0, nan), (13.0, nan), (nan, -9999.0), (nan, -9999.0), (nan, -9999.0), (nan, -9999.0), (nan, -9999.0), (nan, -9999.0), (nan, -9999.0), (nan, -9999.0), (nan, -9999.0), (nan, -9999.0), (10.0, 10220.0), (11.0, 1014.0), (nan, 1007.0), (nan, 1007.0), (nan, 1007.0), (nan, 1007.0), (34.0, 1014.0), (40.0, 10002.0), (36.0, 1014.0), (18.0, 1007.0), (20.0, 1023.0), (22.0, 1007.0), (41.0, 1001.0), (nan, 1011.0), (27.0, 1012.0), (nan, 1011.0), (29.0, 1000.0), (nan, 1011.0), (nan, 1011.0), (nan, 1011.0), (nan, 1011.0), (25.0, 14.0), (11.0, 1007.0), (13.0, 1023.0), (15.0, 1007.0), (34.0, 1009.0), (19.0, 1077.0), (22.0, 998.0), (8.0, 1024.0), (6.0, 1023.0), (nan, 1006.0), (29.0, 993.0), (28.0, 100.0), (13.0, 1016.0), (15.0, 1012.0), (36.0, 996.0), (24.0, 996.0), (16.0, -9999.0), (22.0, 1017.0), (43.0, 1003.0), (47.0, 995.0), (19.0, 1004.0), (6.0, 1014.0), (21.0, -9999.0), (29.0, 1018.0), (3.0, 1015.0), (28.0, 99.0), (13.0, 1009.0), (32.0, 102.0), (15.0, 1021.0), (36.0, 995.0), (24.0, 1003.0), (22.0, 1008.0), (8.0, 1012.0), (43.0, 992.0), (19.0, 7018.0), (19.0, 1013.0), (29.0, 1011.0), (32.0, nan), (31.0, 1011.0), (32.0, nan), (32.0, nan), (32.0, nan), (3.0, 1020.0), (6.0, -9999.0), (28.0, 1004.0), (29.0, 100.0), (15.0, 1018.0), (36.0, 1002.0), (38.0, 1010.0), (nan, 1024.0), (24.0, 1010.0), (26.0, nan), (7.0, 102.0), (26.0, nan), (26.0, nan), (26.0, nan), (26.0, nan), (26.0, nan), (26.0, nan), (26.0, nan), (26.0, nan), (8.0, 1019.0), (19.0, 1018.0), (31.0, 1016.0), (40.0, 1008.0), (28.0, 1003.0), (33.0, -9999.0), (24.0, 1017.0), (26.0, 997.0), (nan, 1000.0), (nan, 1000.0), (nan, 1000.0), (nan, 1000.0), (nan, 1000.0), (nan, 1000.0), (nan, 1000.0), (nan, 1000.0), (12.0, 1020.0), (nan, 1000.0), (43.0, 990.0), (33.0, 1006.0), (35.0, 990.0), (21.0, 1003.0), (32.0, 11005.0), (31.0, 993.0), (nan, 1020.0), (nan, 1020.0), (nan, 1020.0), (nan, 1020.0), (5.0, 1010.0), (nan, 1020.0), (28.0, 994.0), (1.0, 1020.0), (38.0, 1004.0), (26.0, 1004.0), (12.0, 1019.0), (14.0, 1011.0), (10.0, 1013.0), (45.0, 999.0), (33.0, 999.0), (21.0, 1012.0), (31.0, 1006.0), (17.0, 1022.0), (5.0, 1019.0), (28.0, 1017.0), (38.0, 999.0), (26.0, 1015.0), (12.0, 1010.0), (14.0, 1018.0), (nan, 1002.0), (nan, 1002.0), (nan, 1002.0), (nan, 1002.0), (nan, 1002.0), (nan, 1002.0), (nan, 1002.0), (nan, 1002.0), (nan, 1002.0), (10.0, 1020.0), (45.0, 992.0), (33.0, 1016.0), (21.0, 1021.0), (23.0, 1001.0), (22.0, 1070.0), (32.0, 991.0), (17.0, 1015.0), (40.0, 997.0), (26.0, nan), (26.0, nan), (26.0, nan), (26.0, nan), (26.0, nan), (28.0, 1008.0), (30.0, 1012.0), (26.0, 100.0), (14.0, 1021.0), (nan, 993.0), (nan, 993.0), (nan, 993.0), (33.0, 1009.0), (35.0, 1013.0), (7.0, -9999.0), (40.0, 1004.0), (42.0, 1008.0), (7.0, 1017.0), (26.0, 1017.0), (nan, 1016.0), (nan, 1016.0), (nan, 1016.0), (nan, 1016.0), (nan, 1016.0), (nan, 1016.0), (nan, 1016.0), (nan, 1016.0), (10.0, 1006.0), (nan, 1016.0), (23.0, 1023.0), (32.0, 1005.0), (36.0, -9999.0), (7.0, 1014.0), (30.0, 998.0), (nan, 1023.0), (37.0, 993.0), (24.0, nan), (24.0, nan), (25.0, 1001.0), (35.0, 995.0), (23.0, 1012.0), (32.0, 996.0), (21.0, 19.0), (42.0, 994.0), (30.0, 1001.0), (16.0, 1021.0), (nan, 997.0), (27.0, 101.0), (15.0, 17.0), (nan, 1014.0), (nan, 1014.0), (nan, 1014.0), (nan, 1014.0), (nan, 1014.0), (nan, 1014.0), (nan, 1014.0), (nan, 1014.0), (nan, 1014.0), (37.0, 1002.0), (10.0, -9999.0), (25.0, 1010.0), (35.0, 1000.0), (9.0, 1017.0)}\n"
          ]
        }
      ]
    },
    {
      "cell_type": "code",
      "source": [
        "whether.dtypes\n",
        "y=whether.select_dtypes('float64')"
      ],
      "metadata": {
        "id": "A8CPZbrMeaWD"
      },
      "execution_count": null,
      "outputs": []
    },
    {
      "cell_type": "code",
      "source": [
        "np.max(whether[' _dewptm'])"
      ],
      "metadata": {
        "colab": {
          "base_uri": "https://localhost:8080/"
        },
        "id": "X50fowSXe_CE",
        "outputId": "9fdf0959-a927-485b-f318-9d3c771994dc"
      },
      "execution_count": null,
      "outputs": [
        {
          "output_type": "execute_result",
          "data": {
            "text/plain": [
              "75.0"
            ]
          },
          "metadata": {},
          "execution_count": 94
        }
      ]
    },
    {
      "cell_type": "code",
      "source": [
        "np.min(whether[' _thunder'])"
      ],
      "metadata": {
        "colab": {
          "base_uri": "https://localhost:8080/"
        },
        "id": "PRe5mLyYflXJ",
        "outputId": "6aa48f58-85ef-40e5-db04-2a29ba337d1e"
      },
      "execution_count": null,
      "outputs": [
        {
          "output_type": "execute_result",
          "data": {
            "text/plain": [
              "0"
            ]
          },
          "metadata": {},
          "execution_count": 95
        }
      ]
    },
    {
      "cell_type": "code",
      "source": [
        "np.finfo('float64') #limits of float data type"
      ],
      "metadata": {
        "colab": {
          "base_uri": "https://localhost:8080/"
        },
        "id": "-iBcciikfucv",
        "outputId": "d3f08764-b89b-4254-c0da-10b0d68b720b"
      },
      "execution_count": null,
      "outputs": [
        {
          "output_type": "execute_result",
          "data": {
            "text/plain": [
              "finfo(resolution=1e-15, min=-1.7976931348623157e+308, max=1.7976931348623157e+308, dtype=float64)"
            ]
          },
          "metadata": {},
          "execution_count": 97
        }
      ]
    },
    {
      "cell_type": "code",
      "source": [
        "np.sum(whether.memory_usage()) #check the memory"
      ],
      "metadata": {
        "colab": {
          "base_uri": "https://localhost:8080/"
        },
        "id": "L-CmXBzUgJC3",
        "outputId": "ef83e1ca-ab44-46cf-a192-55cf277dafd8"
      },
      "execution_count": null,
      "outputs": [
        {
          "output_type": "execute_result",
          "data": {
            "text/plain": [
              "16158528"
            ]
          },
          "metadata": {},
          "execution_count": 99
        }
      ]
    },
    {
      "cell_type": "code",
      "source": [
        "whether.head(2)"
      ],
      "metadata": {
        "colab": {
          "base_uri": "https://localhost:8080/",
          "height": 211
        },
        "id": "E-owotODiSP9",
        "outputId": "4c6c6b06-ea60-49eb-b91c-fc3445053983"
      },
      "execution_count": null,
      "outputs": [
        {
          "output_type": "execute_result",
          "data": {
            "text/plain": [
              "     datetime_utc  _conds   _dewptm   _fog   _hail   _heatindexm   _hum  \\\n",
              "0  19961101-11:00   Smoke       9.0      0       0           NaN   27.0   \n",
              "1  19961101-12:00   Smoke      10.0      0       0           NaN   32.0   \n",
              "\n",
              "    _precipm   _pressurem   _rain   _snow   _tempm   _thunder   _tornado  \\\n",
              "0  no change       1010.0       0       0     30.0          0          0   \n",
              "1  no change      -9999.0       0       0     28.0          0          0   \n",
              "\n",
              "    _vism   _wdird  _wdire   _wgustm   _windchillm   _wspdm  \n",
              "0     5.0    280.0    West       NaN           NaN      7.4  \n",
              "1     NaN      0.0   North       NaN           NaN      NaN  "
            ],
            "text/html": [
              "\n",
              "  <div id=\"df-5d65d3f8-bacb-4a4d-af0e-2b35e922a9a0\">\n",
              "    <div class=\"colab-df-container\">\n",
              "      <div>\n",
              "<style scoped>\n",
              "    .dataframe tbody tr th:only-of-type {\n",
              "        vertical-align: middle;\n",
              "    }\n",
              "\n",
              "    .dataframe tbody tr th {\n",
              "        vertical-align: top;\n",
              "    }\n",
              "\n",
              "    .dataframe thead th {\n",
              "        text-align: right;\n",
              "    }\n",
              "</style>\n",
              "<table border=\"1\" class=\"dataframe\">\n",
              "  <thead>\n",
              "    <tr style=\"text-align: right;\">\n",
              "      <th></th>\n",
              "      <th>datetime_utc</th>\n",
              "      <th>_conds</th>\n",
              "      <th>_dewptm</th>\n",
              "      <th>_fog</th>\n",
              "      <th>_hail</th>\n",
              "      <th>_heatindexm</th>\n",
              "      <th>_hum</th>\n",
              "      <th>_precipm</th>\n",
              "      <th>_pressurem</th>\n",
              "      <th>_rain</th>\n",
              "      <th>_snow</th>\n",
              "      <th>_tempm</th>\n",
              "      <th>_thunder</th>\n",
              "      <th>_tornado</th>\n",
              "      <th>_vism</th>\n",
              "      <th>_wdird</th>\n",
              "      <th>_wdire</th>\n",
              "      <th>_wgustm</th>\n",
              "      <th>_windchillm</th>\n",
              "      <th>_wspdm</th>\n",
              "    </tr>\n",
              "  </thead>\n",
              "  <tbody>\n",
              "    <tr>\n",
              "      <th>0</th>\n",
              "      <td>19961101-11:00</td>\n",
              "      <td>Smoke</td>\n",
              "      <td>9.0</td>\n",
              "      <td>0</td>\n",
              "      <td>0</td>\n",
              "      <td>NaN</td>\n",
              "      <td>27.0</td>\n",
              "      <td>no change</td>\n",
              "      <td>1010.0</td>\n",
              "      <td>0</td>\n",
              "      <td>0</td>\n",
              "      <td>30.0</td>\n",
              "      <td>0</td>\n",
              "      <td>0</td>\n",
              "      <td>5.0</td>\n",
              "      <td>280.0</td>\n",
              "      <td>West</td>\n",
              "      <td>NaN</td>\n",
              "      <td>NaN</td>\n",
              "      <td>7.4</td>\n",
              "    </tr>\n",
              "    <tr>\n",
              "      <th>1</th>\n",
              "      <td>19961101-12:00</td>\n",
              "      <td>Smoke</td>\n",
              "      <td>10.0</td>\n",
              "      <td>0</td>\n",
              "      <td>0</td>\n",
              "      <td>NaN</td>\n",
              "      <td>32.0</td>\n",
              "      <td>no change</td>\n",
              "      <td>-9999.0</td>\n",
              "      <td>0</td>\n",
              "      <td>0</td>\n",
              "      <td>28.0</td>\n",
              "      <td>0</td>\n",
              "      <td>0</td>\n",
              "      <td>NaN</td>\n",
              "      <td>0.0</td>\n",
              "      <td>North</td>\n",
              "      <td>NaN</td>\n",
              "      <td>NaN</td>\n",
              "      <td>NaN</td>\n",
              "    </tr>\n",
              "  </tbody>\n",
              "</table>\n",
              "</div>\n",
              "      <button class=\"colab-df-convert\" onclick=\"convertToInteractive('df-5d65d3f8-bacb-4a4d-af0e-2b35e922a9a0')\"\n",
              "              title=\"Convert this dataframe to an interactive table.\"\n",
              "              style=\"display:none;\">\n",
              "        \n",
              "  <svg xmlns=\"http://www.w3.org/2000/svg\" height=\"24px\"viewBox=\"0 0 24 24\"\n",
              "       width=\"24px\">\n",
              "    <path d=\"M0 0h24v24H0V0z\" fill=\"none\"/>\n",
              "    <path d=\"M18.56 5.44l.94 2.06.94-2.06 2.06-.94-2.06-.94-.94-2.06-.94 2.06-2.06.94zm-11 1L8.5 8.5l.94-2.06 2.06-.94-2.06-.94L8.5 2.5l-.94 2.06-2.06.94zm10 10l.94 2.06.94-2.06 2.06-.94-2.06-.94-.94-2.06-.94 2.06-2.06.94z\"/><path d=\"M17.41 7.96l-1.37-1.37c-.4-.4-.92-.59-1.43-.59-.52 0-1.04.2-1.43.59L10.3 9.45l-7.72 7.72c-.78.78-.78 2.05 0 2.83L4 21.41c.39.39.9.59 1.41.59.51 0 1.02-.2 1.41-.59l7.78-7.78 2.81-2.81c.8-.78.8-2.07 0-2.86zM5.41 20L4 18.59l7.72-7.72 1.47 1.35L5.41 20z\"/>\n",
              "  </svg>\n",
              "      </button>\n",
              "      \n",
              "  <style>\n",
              "    .colab-df-container {\n",
              "      display:flex;\n",
              "      flex-wrap:wrap;\n",
              "      gap: 12px;\n",
              "    }\n",
              "\n",
              "    .colab-df-convert {\n",
              "      background-color: #E8F0FE;\n",
              "      border: none;\n",
              "      border-radius: 50%;\n",
              "      cursor: pointer;\n",
              "      display: none;\n",
              "      fill: #1967D2;\n",
              "      height: 32px;\n",
              "      padding: 0 0 0 0;\n",
              "      width: 32px;\n",
              "    }\n",
              "\n",
              "    .colab-df-convert:hover {\n",
              "      background-color: #E2EBFA;\n",
              "      box-shadow: 0px 1px 2px rgba(60, 64, 67, 0.3), 0px 1px 3px 1px rgba(60, 64, 67, 0.15);\n",
              "      fill: #174EA6;\n",
              "    }\n",
              "\n",
              "    [theme=dark] .colab-df-convert {\n",
              "      background-color: #3B4455;\n",
              "      fill: #D2E3FC;\n",
              "    }\n",
              "\n",
              "    [theme=dark] .colab-df-convert:hover {\n",
              "      background-color: #434B5C;\n",
              "      box-shadow: 0px 1px 3px 1px rgba(0, 0, 0, 0.15);\n",
              "      filter: drop-shadow(0px 1px 2px rgba(0, 0, 0, 0.3));\n",
              "      fill: #FFFFFF;\n",
              "    }\n",
              "  </style>\n",
              "\n",
              "      <script>\n",
              "        const buttonEl =\n",
              "          document.querySelector('#df-5d65d3f8-bacb-4a4d-af0e-2b35e922a9a0 button.colab-df-convert');\n",
              "        buttonEl.style.display =\n",
              "          google.colab.kernel.accessAllowed ? 'block' : 'none';\n",
              "\n",
              "        async function convertToInteractive(key) {\n",
              "          const element = document.querySelector('#df-5d65d3f8-bacb-4a4d-af0e-2b35e922a9a0');\n",
              "          const dataTable =\n",
              "            await google.colab.kernel.invokeFunction('convertToInteractive',\n",
              "                                                     [key], {});\n",
              "          if (!dataTable) return;\n",
              "\n",
              "          const docLinkHtml = 'Like what you see? Visit the ' +\n",
              "            '<a target=\"_blank\" href=https://colab.research.google.com/notebooks/data_table.ipynb>data table notebook</a>'\n",
              "            + ' to learn more about interactive tables.';\n",
              "          element.innerHTML = '';\n",
              "          dataTable['output_type'] = 'display_data';\n",
              "          await google.colab.output.renderOutput(dataTable, element);\n",
              "          const docLink = document.createElement('div');\n",
              "          docLink.innerHTML = docLinkHtml;\n",
              "          element.appendChild(docLink);\n",
              "        }\n",
              "      </script>\n",
              "    </div>\n",
              "  </div>\n",
              "  "
            ]
          },
          "metadata": {},
          "execution_count": 106
        }
      ]
    },
    {
      "cell_type": "code",
      "source": [
        "whether.iloc[:2,3:5] #position wise filtering"
      ],
      "metadata": {
        "colab": {
          "base_uri": "https://localhost:8080/",
          "height": 112
        },
        "id": "iZUQ39cQhF2y",
        "outputId": "ce09aa73-4ec6-4faf-fbe7-dd8129930fbe"
      },
      "execution_count": null,
      "outputs": [
        {
          "output_type": "execute_result",
          "data": {
            "text/plain": [
              "    _fog   _hail\n",
              "0      0       0\n",
              "1      0       0"
            ],
            "text/html": [
              "\n",
              "  <div id=\"df-a008b261-7c61-477e-ab0e-01b3901d8789\">\n",
              "    <div class=\"colab-df-container\">\n",
              "      <div>\n",
              "<style scoped>\n",
              "    .dataframe tbody tr th:only-of-type {\n",
              "        vertical-align: middle;\n",
              "    }\n",
              "\n",
              "    .dataframe tbody tr th {\n",
              "        vertical-align: top;\n",
              "    }\n",
              "\n",
              "    .dataframe thead th {\n",
              "        text-align: right;\n",
              "    }\n",
              "</style>\n",
              "<table border=\"1\" class=\"dataframe\">\n",
              "  <thead>\n",
              "    <tr style=\"text-align: right;\">\n",
              "      <th></th>\n",
              "      <th>_fog</th>\n",
              "      <th>_hail</th>\n",
              "    </tr>\n",
              "  </thead>\n",
              "  <tbody>\n",
              "    <tr>\n",
              "      <th>0</th>\n",
              "      <td>0</td>\n",
              "      <td>0</td>\n",
              "    </tr>\n",
              "    <tr>\n",
              "      <th>1</th>\n",
              "      <td>0</td>\n",
              "      <td>0</td>\n",
              "    </tr>\n",
              "  </tbody>\n",
              "</table>\n",
              "</div>\n",
              "      <button class=\"colab-df-convert\" onclick=\"convertToInteractive('df-a008b261-7c61-477e-ab0e-01b3901d8789')\"\n",
              "              title=\"Convert this dataframe to an interactive table.\"\n",
              "              style=\"display:none;\">\n",
              "        \n",
              "  <svg xmlns=\"http://www.w3.org/2000/svg\" height=\"24px\"viewBox=\"0 0 24 24\"\n",
              "       width=\"24px\">\n",
              "    <path d=\"M0 0h24v24H0V0z\" fill=\"none\"/>\n",
              "    <path d=\"M18.56 5.44l.94 2.06.94-2.06 2.06-.94-2.06-.94-.94-2.06-.94 2.06-2.06.94zm-11 1L8.5 8.5l.94-2.06 2.06-.94-2.06-.94L8.5 2.5l-.94 2.06-2.06.94zm10 10l.94 2.06.94-2.06 2.06-.94-2.06-.94-.94-2.06-.94 2.06-2.06.94z\"/><path d=\"M17.41 7.96l-1.37-1.37c-.4-.4-.92-.59-1.43-.59-.52 0-1.04.2-1.43.59L10.3 9.45l-7.72 7.72c-.78.78-.78 2.05 0 2.83L4 21.41c.39.39.9.59 1.41.59.51 0 1.02-.2 1.41-.59l7.78-7.78 2.81-2.81c.8-.78.8-2.07 0-2.86zM5.41 20L4 18.59l7.72-7.72 1.47 1.35L5.41 20z\"/>\n",
              "  </svg>\n",
              "      </button>\n",
              "      \n",
              "  <style>\n",
              "    .colab-df-container {\n",
              "      display:flex;\n",
              "      flex-wrap:wrap;\n",
              "      gap: 12px;\n",
              "    }\n",
              "\n",
              "    .colab-df-convert {\n",
              "      background-color: #E8F0FE;\n",
              "      border: none;\n",
              "      border-radius: 50%;\n",
              "      cursor: pointer;\n",
              "      display: none;\n",
              "      fill: #1967D2;\n",
              "      height: 32px;\n",
              "      padding: 0 0 0 0;\n",
              "      width: 32px;\n",
              "    }\n",
              "\n",
              "    .colab-df-convert:hover {\n",
              "      background-color: #E2EBFA;\n",
              "      box-shadow: 0px 1px 2px rgba(60, 64, 67, 0.3), 0px 1px 3px 1px rgba(60, 64, 67, 0.15);\n",
              "      fill: #174EA6;\n",
              "    }\n",
              "\n",
              "    [theme=dark] .colab-df-convert {\n",
              "      background-color: #3B4455;\n",
              "      fill: #D2E3FC;\n",
              "    }\n",
              "\n",
              "    [theme=dark] .colab-df-convert:hover {\n",
              "      background-color: #434B5C;\n",
              "      box-shadow: 0px 1px 3px 1px rgba(0, 0, 0, 0.15);\n",
              "      filter: drop-shadow(0px 1px 2px rgba(0, 0, 0, 0.3));\n",
              "      fill: #FFFFFF;\n",
              "    }\n",
              "  </style>\n",
              "\n",
              "      <script>\n",
              "        const buttonEl =\n",
              "          document.querySelector('#df-a008b261-7c61-477e-ab0e-01b3901d8789 button.colab-df-convert');\n",
              "        buttonEl.style.display =\n",
              "          google.colab.kernel.accessAllowed ? 'block' : 'none';\n",
              "\n",
              "        async function convertToInteractive(key) {\n",
              "          const element = document.querySelector('#df-a008b261-7c61-477e-ab0e-01b3901d8789');\n",
              "          const dataTable =\n",
              "            await google.colab.kernel.invokeFunction('convertToInteractive',\n",
              "                                                     [key], {});\n",
              "          if (!dataTable) return;\n",
              "\n",
              "          const docLinkHtml = 'Like what you see? Visit the ' +\n",
              "            '<a target=\"_blank\" href=https://colab.research.google.com/notebooks/data_table.ipynb>data table notebook</a>'\n",
              "            + ' to learn more about interactive tables.';\n",
              "          element.innerHTML = '';\n",
              "          dataTable['output_type'] = 'display_data';\n",
              "          await google.colab.output.renderOutput(dataTable, element);\n",
              "          const docLink = document.createElement('div');\n",
              "          docLink.innerHTML = docLinkHtml;\n",
              "          element.appendChild(docLink);\n",
              "        }\n",
              "      </script>\n",
              "    </div>\n",
              "  </div>\n",
              "  "
            ]
          },
          "metadata": {},
          "execution_count": 109
        }
      ]
    },
    {
      "cell_type": "code",
      "source": [
        "whether.iloc[[2,3,5], [1,3]] # filtering of column"
      ],
      "metadata": {
        "colab": {
          "base_uri": "https://localhost:8080/",
          "height": 143
        },
        "id": "A2ipsDqki8Tq",
        "outputId": "c221d0fb-b928-4203-ec5f-0db7ca54e034"
      },
      "execution_count": null,
      "outputs": [
        {
          "output_type": "execute_result",
          "data": {
            "text/plain": [
              "   _conds   _fog\n",
              "2   Smoke      0\n",
              "3   Smoke      0\n",
              "5   Smoke      0"
            ],
            "text/html": [
              "\n",
              "  <div id=\"df-0ab353b9-6aef-4c74-882e-6921063e51aa\">\n",
              "    <div class=\"colab-df-container\">\n",
              "      <div>\n",
              "<style scoped>\n",
              "    .dataframe tbody tr th:only-of-type {\n",
              "        vertical-align: middle;\n",
              "    }\n",
              "\n",
              "    .dataframe tbody tr th {\n",
              "        vertical-align: top;\n",
              "    }\n",
              "\n",
              "    .dataframe thead th {\n",
              "        text-align: right;\n",
              "    }\n",
              "</style>\n",
              "<table border=\"1\" class=\"dataframe\">\n",
              "  <thead>\n",
              "    <tr style=\"text-align: right;\">\n",
              "      <th></th>\n",
              "      <th>_conds</th>\n",
              "      <th>_fog</th>\n",
              "    </tr>\n",
              "  </thead>\n",
              "  <tbody>\n",
              "    <tr>\n",
              "      <th>2</th>\n",
              "      <td>Smoke</td>\n",
              "      <td>0</td>\n",
              "    </tr>\n",
              "    <tr>\n",
              "      <th>3</th>\n",
              "      <td>Smoke</td>\n",
              "      <td>0</td>\n",
              "    </tr>\n",
              "    <tr>\n",
              "      <th>5</th>\n",
              "      <td>Smoke</td>\n",
              "      <td>0</td>\n",
              "    </tr>\n",
              "  </tbody>\n",
              "</table>\n",
              "</div>\n",
              "      <button class=\"colab-df-convert\" onclick=\"convertToInteractive('df-0ab353b9-6aef-4c74-882e-6921063e51aa')\"\n",
              "              title=\"Convert this dataframe to an interactive table.\"\n",
              "              style=\"display:none;\">\n",
              "        \n",
              "  <svg xmlns=\"http://www.w3.org/2000/svg\" height=\"24px\"viewBox=\"0 0 24 24\"\n",
              "       width=\"24px\">\n",
              "    <path d=\"M0 0h24v24H0V0z\" fill=\"none\"/>\n",
              "    <path d=\"M18.56 5.44l.94 2.06.94-2.06 2.06-.94-2.06-.94-.94-2.06-.94 2.06-2.06.94zm-11 1L8.5 8.5l.94-2.06 2.06-.94-2.06-.94L8.5 2.5l-.94 2.06-2.06.94zm10 10l.94 2.06.94-2.06 2.06-.94-2.06-.94-.94-2.06-.94 2.06-2.06.94z\"/><path d=\"M17.41 7.96l-1.37-1.37c-.4-.4-.92-.59-1.43-.59-.52 0-1.04.2-1.43.59L10.3 9.45l-7.72 7.72c-.78.78-.78 2.05 0 2.83L4 21.41c.39.39.9.59 1.41.59.51 0 1.02-.2 1.41-.59l7.78-7.78 2.81-2.81c.8-.78.8-2.07 0-2.86zM5.41 20L4 18.59l7.72-7.72 1.47 1.35L5.41 20z\"/>\n",
              "  </svg>\n",
              "      </button>\n",
              "      \n",
              "  <style>\n",
              "    .colab-df-container {\n",
              "      display:flex;\n",
              "      flex-wrap:wrap;\n",
              "      gap: 12px;\n",
              "    }\n",
              "\n",
              "    .colab-df-convert {\n",
              "      background-color: #E8F0FE;\n",
              "      border: none;\n",
              "      border-radius: 50%;\n",
              "      cursor: pointer;\n",
              "      display: none;\n",
              "      fill: #1967D2;\n",
              "      height: 32px;\n",
              "      padding: 0 0 0 0;\n",
              "      width: 32px;\n",
              "    }\n",
              "\n",
              "    .colab-df-convert:hover {\n",
              "      background-color: #E2EBFA;\n",
              "      box-shadow: 0px 1px 2px rgba(60, 64, 67, 0.3), 0px 1px 3px 1px rgba(60, 64, 67, 0.15);\n",
              "      fill: #174EA6;\n",
              "    }\n",
              "\n",
              "    [theme=dark] .colab-df-convert {\n",
              "      background-color: #3B4455;\n",
              "      fill: #D2E3FC;\n",
              "    }\n",
              "\n",
              "    [theme=dark] .colab-df-convert:hover {\n",
              "      background-color: #434B5C;\n",
              "      box-shadow: 0px 1px 3px 1px rgba(0, 0, 0, 0.15);\n",
              "      filter: drop-shadow(0px 1px 2px rgba(0, 0, 0, 0.3));\n",
              "      fill: #FFFFFF;\n",
              "    }\n",
              "  </style>\n",
              "\n",
              "      <script>\n",
              "        const buttonEl =\n",
              "          document.querySelector('#df-0ab353b9-6aef-4c74-882e-6921063e51aa button.colab-df-convert');\n",
              "        buttonEl.style.display =\n",
              "          google.colab.kernel.accessAllowed ? 'block' : 'none';\n",
              "\n",
              "        async function convertToInteractive(key) {\n",
              "          const element = document.querySelector('#df-0ab353b9-6aef-4c74-882e-6921063e51aa');\n",
              "          const dataTable =\n",
              "            await google.colab.kernel.invokeFunction('convertToInteractive',\n",
              "                                                     [key], {});\n",
              "          if (!dataTable) return;\n",
              "\n",
              "          const docLinkHtml = 'Like what you see? Visit the ' +\n",
              "            '<a target=\"_blank\" href=https://colab.research.google.com/notebooks/data_table.ipynb>data table notebook</a>'\n",
              "            + ' to learn more about interactive tables.';\n",
              "          element.innerHTML = '';\n",
              "          dataTable['output_type'] = 'display_data';\n",
              "          await google.colab.output.renderOutput(dataTable, element);\n",
              "          const docLink = document.createElement('div');\n",
              "          docLink.innerHTML = docLinkHtml;\n",
              "          element.appendChild(docLink);\n",
              "        }\n",
              "      </script>\n",
              "    </div>\n",
              "  </div>\n",
              "  "
            ]
          },
          "metadata": {},
          "execution_count": 110
        }
      ]
    },
    {
      "cell_type": "code",
      "source": [
        "whether.columns\n",
        "pd.unique(whether[' _rain'])\n",
        "whether[' _rain'].unique()\n",
        "whether.duplicated"
      ],
      "metadata": {
        "colab": {
          "base_uri": "https://localhost:8080/"
        },
        "id": "cHCWIUEJj8Wg",
        "outputId": "fd3cf2f0-2e89-4bd7-dbaf-12948d81cb97"
      },
      "execution_count": null,
      "outputs": [
        {
          "output_type": "execute_result",
          "data": {
            "text/plain": [
              "<bound method DataFrame.duplicated of           datetime_utc  _conds   _dewptm   _fog   _hail   _heatindexm   _hum  \\\n",
              "0       19961101-11:00   Smoke       9.0      0       0           NaN   27.0   \n",
              "1       19961101-12:00   Smoke      10.0      0       0           NaN   32.0   \n",
              "2       19961101-13:00   Smoke      11.0      0       0           NaN   44.0   \n",
              "3       19961101-14:00   Smoke      10.0      0       0           NaN   41.0   \n",
              "4       19961101-16:00   Smoke      11.0      0       0           NaN   47.0   \n",
              "...                ...     ...       ...    ...     ...           ...    ...   \n",
              "100985  20170424-06:00    Haze      17.0      0       0           NaN   25.0   \n",
              "100986  20170424-09:00    Haze      14.0      0       0           NaN   16.0   \n",
              "100987  20170424-12:00    Haze      12.0      0       0           NaN   14.0   \n",
              "100988  20170424-15:00    Haze      15.0      0       0           NaN   27.0   \n",
              "100989  20170424-18:00    Haze      15.0      0       0           NaN   30.0   \n",
              "\n",
              "         _precipm   _pressurem   _rain   _snow   _tempm   _thunder   _tornado  \\\n",
              "0       no change       1010.0       0       0     30.0          0          0   \n",
              "1       no change      -9999.0       0       0     28.0          0          0   \n",
              "2       no change      -9999.0       0       0     24.0          0          0   \n",
              "3       no change       1010.0       0       0     24.0          0          0   \n",
              "4       no change       1011.0       0       0     23.0          0          0   \n",
              "...           ...          ...     ...     ...      ...        ...        ...   \n",
              "100985  no change       1005.0       0       0     34.0          0          0   \n",
              "100986  no change       1003.0       0       0     38.0          0          0   \n",
              "100987  no change       1002.0       0       0     36.0          0          0   \n",
              "100988  no change       1004.0       0       0     32.0          0          0   \n",
              "100989  no change       1005.0       0       0     30.0          0          0   \n",
              "\n",
              "         _vism   _wdird  _wdire   _wgustm   _windchillm   _wspdm  \n",
              "0          5.0    280.0    West       NaN           NaN      7.4  \n",
              "1          NaN      0.0   North       NaN           NaN      NaN  \n",
              "2          NaN      0.0   North       NaN           NaN      NaN  \n",
              "3          2.0      0.0   North       NaN           NaN      NaN  \n",
              "4          1.2      0.0   North       NaN           NaN      0.0  \n",
              "...        ...      ...     ...       ...           ...      ...  \n",
              "100985     4.0    320.0      NW       NaN           NaN     11.1  \n",
              "100986     4.0    320.0      NW       NaN           NaN     22.2  \n",
              "100987     4.0    270.0    West       NaN           NaN     18.5  \n",
              "100988     2.0    320.0      NW       NaN           NaN      3.7  \n",
              "100989     2.0    320.0      NW       NaN           NaN      3.7  \n",
              "\n",
              "[100990 rows x 20 columns]>"
            ]
          },
          "metadata": {},
          "execution_count": 115
        }
      ]
    }
  ]
}