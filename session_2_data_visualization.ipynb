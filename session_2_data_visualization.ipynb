{
  "cells": [
    {
      "cell_type": "markdown",
      "metadata": {
        "id": "view-in-github",
        "colab_type": "text"
      },
      "source": [
        "<a href=\"https://colab.research.google.com/github/avimonda298/Datascience-Visualization/blob/main/session_2_data_visualization.ipynb\" target=\"_parent\"><img src=\"https://colab.research.google.com/assets/colab-badge.svg\" alt=\"Open In Colab\"/></a>"
      ]
    },
    {
      "cell_type": "code",
      "execution_count": null,
      "metadata": {
        "id": "aDQQrKzXQpME"
      },
      "outputs": [],
      "source": [
        "# Last amended: 13th August 2022\n",
        "# Data source: Kaggle: https://www.kaggle.com/fayomi/advertising\n",
        "#\n",
        "# Spyder note: Use F9 in Spyder to execute a line and advance\n",
        "#\n",
        "# objectives:\n",
        "#           Discover relationships and existence of pattern\n",
        "#           in data\n",
        "#              i)  Feature Engineering for categorical variables\n",
        "#             ii)  Extracting datetime components\n",
        "#             iii) Behaviour of 'apply' vs 'map' for Series\n",
        "#              iv)  Learning to draw various types of graphs\n",
        "#               v)  Conditional plots using sns.catplot\n",
        "#              vi)  Relationship plots using sns.relplot\n",
        "#             vii)  Learning seaborn plots\n",
        "#            viii)  Looking at structure in data\n",
        "#                       a. Parallel coordinates plots\n",
        "#                       b. Radviz plots\n",
        "#                       c. Andrews curves\n",
        "\n",
        "# Good reference: https://seaborn.pydata.org/introduction.html\n"
      ]
    },
    {
      "cell_type": "markdown",
      "metadata": {
        "id": "CAgCpiHzAqXc"
      },
      "source": [
        "## Call libraries"
      ]
    },
    {
      "cell_type": "code",
      "execution_count": null,
      "metadata": {
        "id": "tOIkYhjxRKNc"
      },
      "outputs": [],
      "source": [
        "\n",
        "# 1.0 Call libraries\n",
        "%reset -f\n",
        "# 1.1 For data manipulations\n",
        "import numpy as np\n",
        "import pandas as pd\n",
        "from numpy.random import default_rng\n",
        "\n",
        "# 1.2 For plotting\n",
        "import matplotlib.pyplot as plt\n",
        "import seaborn as sns\n",
        "import matplotlib as mpl     # For creating colormaps\n",
        "\n",
        "# 1.3 For data processing\n",
        "from sklearn.preprocessing import StandardScaler\n",
        "\n",
        "# 1.4 OS related\n",
        "import os\n",
        "\n",
        "# 1.5 for working in ipython\n",
        "#%matplotlib qt5\n",
        "#%matplotlib inline\n"
      ]
    },
    {
      "cell_type": "code",
      "execution_count": null,
      "metadata": {
        "id": "P1EMayX8VaRk"
      },
      "outputs": [],
      "source": [
        "#1.6 From a cell display outputs from multiple commands:\n",
        "from IPython.core.interactiveshell import InteractiveShell\n",
        "InteractiveShell.ast_node_interactivity = \"all\""
      ]
    },
    {
      "cell_type": "code",
      "execution_count": null,
      "metadata": {
        "id": "S2CN6luTTa0X"
      },
      "outputs": [],
      "source": [
        "# 1.6.1 For generating random numbers:\n",
        "rng = default_rng()"
      ]
    },
    {
      "cell_type": "code",
      "execution_count": null,
      "metadata": {
        "colab": {
          "base_uri": "https://localhost:8080/"
        },
        "id": "ASB_2owvRb2B",
        "outputId": "221b9787-f16e-4d7a-ac4e-2f26b178b40e"
      },
      "outputs": [
        {
          "output_type": "stream",
          "name": "stdout",
          "text": [
            "Drive already mounted at /gdrive; to attempt to forcibly remount, call drive.mount(\"/gdrive\", force_remount=True).\n"
          ]
        }
      ],
      "source": [
        "# 1.7 Mount google drive:\n",
        "from google.colab import drive\n",
        "drive.mount('/gdrive')"
      ]
    },
    {
      "cell_type": "code",
      "execution_count": null,
      "metadata": {
        "id": "KVwigN8NRtwy"
      },
      "outputs": [],
      "source": [
        "# 1.8 Go to folder containing data file\n",
        "path = \"/gdrive/MyDrive/Colab_data_files/advertising\"\n"
      ]
    },
    {
      "cell_type": "code",
      "execution_count": null,
      "metadata": {
        "colab": {
          "base_uri": "https://localhost:8080/"
        },
        "id": "y7NKaufg-6OY",
        "outputId": "b5d806d2-1f74-4ac5-e20e-4f041e5f027a"
      },
      "outputs": [
        {
          "output_type": "execute_result",
          "data": {
            "text/plain": [
              "['advertising (1).zip',\n",
              " 'advertising.zip',\n",
              " 'dall',\n",
              " 'ad_processed.csv',\n",
              " 'ad_processed.pkl']"
            ]
          },
          "metadata": {},
          "execution_count": 42
        }
      ],
      "source": [
        "# 1.8.1 Change working directory\n",
        "os.chdir(path)\n",
        "\n",
        "# 1.8.2 list files\n",
        "os.listdir()            # List all files in the folder\n"
      ]
    },
    {
      "cell_type": "markdown",
      "metadata": {
        "id": "r7HFuIHxAvx8"
      },
      "source": [
        "## Read data"
      ]
    },
    {
      "cell_type": "code",
      "execution_count": null,
      "metadata": {
        "id": "YNIWT8wPBLCb",
        "colab": {
          "base_uri": "https://localhost:8080/"
        },
        "outputId": "8c198ea8-a4f3-47c7-f94d-8b7fab722ca5"
      },
      "outputs": [
        {
          "output_type": "execute_result",
          "data": {
            "text/plain": [
              "Index(['Daily Time Spent on Site', 'Age', 'Area Income',\n",
              "       'Daily Internet Usage', 'Ad Topic Line', 'City', 'Male', 'Country',\n",
              "       'Timestamp', 'Clicked on Ad'],\n",
              "      dtype='object')"
            ]
          },
          "metadata": {},
          "execution_count": 43
        },
        {
          "output_type": "execute_result",
          "data": {
            "text/plain": [
              "   Daily Time Spent on Site  Age  Area Income  Daily Internet Usage  \\\n",
              "0                     68.95   35     61833.90                256.09   \n",
              "1                     80.23   31     68441.85                193.77   \n",
              "2                     69.47   26     59785.94                236.50   \n",
              "\n",
              "                        Ad Topic Line         City  Male     Country  \\\n",
              "0  Cloned 5thgeneration orchestration  Wrightburgh     0     Tunisia   \n",
              "1  Monitored national standardization    West Jodi     1       Nauru   \n",
              "2    Organic bottom-line service-desk     Davidton     0  San Marino   \n",
              "\n",
              "             Timestamp  Clicked on Ad  \n",
              "0  2016-03-27 00:53:11              0  \n",
              "1  2016-04-04 01:39:02              0  \n",
              "2  2016-03-13 20:35:42              0  "
            ],
            "text/html": [
              "\n",
              "  <div id=\"df-f7c826b3-2d3f-495f-b847-f10e16b64702\">\n",
              "    <div class=\"colab-df-container\">\n",
              "      <div>\n",
              "<style scoped>\n",
              "    .dataframe tbody tr th:only-of-type {\n",
              "        vertical-align: middle;\n",
              "    }\n",
              "\n",
              "    .dataframe tbody tr th {\n",
              "        vertical-align: top;\n",
              "    }\n",
              "\n",
              "    .dataframe thead th {\n",
              "        text-align: right;\n",
              "    }\n",
              "</style>\n",
              "<table border=\"1\" class=\"dataframe\">\n",
              "  <thead>\n",
              "    <tr style=\"text-align: right;\">\n",
              "      <th></th>\n",
              "      <th>Daily Time Spent on Site</th>\n",
              "      <th>Age</th>\n",
              "      <th>Area Income</th>\n",
              "      <th>Daily Internet Usage</th>\n",
              "      <th>Ad Topic Line</th>\n",
              "      <th>City</th>\n",
              "      <th>Male</th>\n",
              "      <th>Country</th>\n",
              "      <th>Timestamp</th>\n",
              "      <th>Clicked on Ad</th>\n",
              "    </tr>\n",
              "  </thead>\n",
              "  <tbody>\n",
              "    <tr>\n",
              "      <th>0</th>\n",
              "      <td>68.95</td>\n",
              "      <td>35</td>\n",
              "      <td>61833.90</td>\n",
              "      <td>256.09</td>\n",
              "      <td>Cloned 5thgeneration orchestration</td>\n",
              "      <td>Wrightburgh</td>\n",
              "      <td>0</td>\n",
              "      <td>Tunisia</td>\n",
              "      <td>2016-03-27 00:53:11</td>\n",
              "      <td>0</td>\n",
              "    </tr>\n",
              "    <tr>\n",
              "      <th>1</th>\n",
              "      <td>80.23</td>\n",
              "      <td>31</td>\n",
              "      <td>68441.85</td>\n",
              "      <td>193.77</td>\n",
              "      <td>Monitored national standardization</td>\n",
              "      <td>West Jodi</td>\n",
              "      <td>1</td>\n",
              "      <td>Nauru</td>\n",
              "      <td>2016-04-04 01:39:02</td>\n",
              "      <td>0</td>\n",
              "    </tr>\n",
              "    <tr>\n",
              "      <th>2</th>\n",
              "      <td>69.47</td>\n",
              "      <td>26</td>\n",
              "      <td>59785.94</td>\n",
              "      <td>236.50</td>\n",
              "      <td>Organic bottom-line service-desk</td>\n",
              "      <td>Davidton</td>\n",
              "      <td>0</td>\n",
              "      <td>San Marino</td>\n",
              "      <td>2016-03-13 20:35:42</td>\n",
              "      <td>0</td>\n",
              "    </tr>\n",
              "  </tbody>\n",
              "</table>\n",
              "</div>\n",
              "      <button class=\"colab-df-convert\" onclick=\"convertToInteractive('df-f7c826b3-2d3f-495f-b847-f10e16b64702')\"\n",
              "              title=\"Convert this dataframe to an interactive table.\"\n",
              "              style=\"display:none;\">\n",
              "        \n",
              "  <svg xmlns=\"http://www.w3.org/2000/svg\" height=\"24px\"viewBox=\"0 0 24 24\"\n",
              "       width=\"24px\">\n",
              "    <path d=\"M0 0h24v24H0V0z\" fill=\"none\"/>\n",
              "    <path d=\"M18.56 5.44l.94 2.06.94-2.06 2.06-.94-2.06-.94-.94-2.06-.94 2.06-2.06.94zm-11 1L8.5 8.5l.94-2.06 2.06-.94-2.06-.94L8.5 2.5l-.94 2.06-2.06.94zm10 10l.94 2.06.94-2.06 2.06-.94-2.06-.94-.94-2.06-.94 2.06-2.06.94z\"/><path d=\"M17.41 7.96l-1.37-1.37c-.4-.4-.92-.59-1.43-.59-.52 0-1.04.2-1.43.59L10.3 9.45l-7.72 7.72c-.78.78-.78 2.05 0 2.83L4 21.41c.39.39.9.59 1.41.59.51 0 1.02-.2 1.41-.59l7.78-7.78 2.81-2.81c.8-.78.8-2.07 0-2.86zM5.41 20L4 18.59l7.72-7.72 1.47 1.35L5.41 20z\"/>\n",
              "  </svg>\n",
              "      </button>\n",
              "      \n",
              "  <style>\n",
              "    .colab-df-container {\n",
              "      display:flex;\n",
              "      flex-wrap:wrap;\n",
              "      gap: 12px;\n",
              "    }\n",
              "\n",
              "    .colab-df-convert {\n",
              "      background-color: #E8F0FE;\n",
              "      border: none;\n",
              "      border-radius: 50%;\n",
              "      cursor: pointer;\n",
              "      display: none;\n",
              "      fill: #1967D2;\n",
              "      height: 32px;\n",
              "      padding: 0 0 0 0;\n",
              "      width: 32px;\n",
              "    }\n",
              "\n",
              "    .colab-df-convert:hover {\n",
              "      background-color: #E2EBFA;\n",
              "      box-shadow: 0px 1px 2px rgba(60, 64, 67, 0.3), 0px 1px 3px 1px rgba(60, 64, 67, 0.15);\n",
              "      fill: #174EA6;\n",
              "    }\n",
              "\n",
              "    [theme=dark] .colab-df-convert {\n",
              "      background-color: #3B4455;\n",
              "      fill: #D2E3FC;\n",
              "    }\n",
              "\n",
              "    [theme=dark] .colab-df-convert:hover {\n",
              "      background-color: #434B5C;\n",
              "      box-shadow: 0px 1px 3px 1px rgba(0, 0, 0, 0.15);\n",
              "      filter: drop-shadow(0px 1px 2px rgba(0, 0, 0, 0.3));\n",
              "      fill: #FFFFFF;\n",
              "    }\n",
              "  </style>\n",
              "\n",
              "      <script>\n",
              "        const buttonEl =\n",
              "          document.querySelector('#df-f7c826b3-2d3f-495f-b847-f10e16b64702 button.colab-df-convert');\n",
              "        buttonEl.style.display =\n",
              "          google.colab.kernel.accessAllowed ? 'block' : 'none';\n",
              "\n",
              "        async function convertToInteractive(key) {\n",
              "          const element = document.querySelector('#df-f7c826b3-2d3f-495f-b847-f10e16b64702');\n",
              "          const dataTable =\n",
              "            await google.colab.kernel.invokeFunction('convertToInteractive',\n",
              "                                                     [key], {});\n",
              "          if (!dataTable) return;\n",
              "\n",
              "          const docLinkHtml = 'Like what you see? Visit the ' +\n",
              "            '<a target=\"_blank\" href=https://colab.research.google.com/notebooks/data_table.ipynb>data table notebook</a>'\n",
              "            + ' to learn more about interactive tables.';\n",
              "          element.innerHTML = '';\n",
              "          dataTable['output_type'] = 'display_data';\n",
              "          await google.colab.output.renderOutput(dataTable, element);\n",
              "          const docLink = document.createElement('div');\n",
              "          docLink.innerHTML = docLinkHtml;\n",
              "          element.appendChild(docLink);\n",
              "        }\n",
              "      </script>\n",
              "    </div>\n",
              "  </div>\n",
              "  "
            ]
          },
          "metadata": {},
          "execution_count": 43
        },
        {
          "output_type": "execute_result",
          "data": {
            "text/plain": [
              "   Area Income  Daily Internet Usage                          Ad Topic Line\n",
              "1     68441.85                193.77     Monitored national standardization\n",
              "2     59785.94                236.50       Organic bottom-line service-desk\n",
              "3     54806.18                245.89  Triple-buffered reciprocal time-frame"
            ],
            "text/html": [
              "\n",
              "  <div id=\"df-c1117d05-ed78-4368-8988-46af21b7cacb\">\n",
              "    <div class=\"colab-df-container\">\n",
              "      <div>\n",
              "<style scoped>\n",
              "    .dataframe tbody tr th:only-of-type {\n",
              "        vertical-align: middle;\n",
              "    }\n",
              "\n",
              "    .dataframe tbody tr th {\n",
              "        vertical-align: top;\n",
              "    }\n",
              "\n",
              "    .dataframe thead th {\n",
              "        text-align: right;\n",
              "    }\n",
              "</style>\n",
              "<table border=\"1\" class=\"dataframe\">\n",
              "  <thead>\n",
              "    <tr style=\"text-align: right;\">\n",
              "      <th></th>\n",
              "      <th>Area Income</th>\n",
              "      <th>Daily Internet Usage</th>\n",
              "      <th>Ad Topic Line</th>\n",
              "    </tr>\n",
              "  </thead>\n",
              "  <tbody>\n",
              "    <tr>\n",
              "      <th>1</th>\n",
              "      <td>68441.85</td>\n",
              "      <td>193.77</td>\n",
              "      <td>Monitored national standardization</td>\n",
              "    </tr>\n",
              "    <tr>\n",
              "      <th>2</th>\n",
              "      <td>59785.94</td>\n",
              "      <td>236.50</td>\n",
              "      <td>Organic bottom-line service-desk</td>\n",
              "    </tr>\n",
              "    <tr>\n",
              "      <th>3</th>\n",
              "      <td>54806.18</td>\n",
              "      <td>245.89</td>\n",
              "      <td>Triple-buffered reciprocal time-frame</td>\n",
              "    </tr>\n",
              "  </tbody>\n",
              "</table>\n",
              "</div>\n",
              "      <button class=\"colab-df-convert\" onclick=\"convertToInteractive('df-c1117d05-ed78-4368-8988-46af21b7cacb')\"\n",
              "              title=\"Convert this dataframe to an interactive table.\"\n",
              "              style=\"display:none;\">\n",
              "        \n",
              "  <svg xmlns=\"http://www.w3.org/2000/svg\" height=\"24px\"viewBox=\"0 0 24 24\"\n",
              "       width=\"24px\">\n",
              "    <path d=\"M0 0h24v24H0V0z\" fill=\"none\"/>\n",
              "    <path d=\"M18.56 5.44l.94 2.06.94-2.06 2.06-.94-2.06-.94-.94-2.06-.94 2.06-2.06.94zm-11 1L8.5 8.5l.94-2.06 2.06-.94-2.06-.94L8.5 2.5l-.94 2.06-2.06.94zm10 10l.94 2.06.94-2.06 2.06-.94-2.06-.94-.94-2.06-.94 2.06-2.06.94z\"/><path d=\"M17.41 7.96l-1.37-1.37c-.4-.4-.92-.59-1.43-.59-.52 0-1.04.2-1.43.59L10.3 9.45l-7.72 7.72c-.78.78-.78 2.05 0 2.83L4 21.41c.39.39.9.59 1.41.59.51 0 1.02-.2 1.41-.59l7.78-7.78 2.81-2.81c.8-.78.8-2.07 0-2.86zM5.41 20L4 18.59l7.72-7.72 1.47 1.35L5.41 20z\"/>\n",
              "  </svg>\n",
              "      </button>\n",
              "      \n",
              "  <style>\n",
              "    .colab-df-container {\n",
              "      display:flex;\n",
              "      flex-wrap:wrap;\n",
              "      gap: 12px;\n",
              "    }\n",
              "\n",
              "    .colab-df-convert {\n",
              "      background-color: #E8F0FE;\n",
              "      border: none;\n",
              "      border-radius: 50%;\n",
              "      cursor: pointer;\n",
              "      display: none;\n",
              "      fill: #1967D2;\n",
              "      height: 32px;\n",
              "      padding: 0 0 0 0;\n",
              "      width: 32px;\n",
              "    }\n",
              "\n",
              "    .colab-df-convert:hover {\n",
              "      background-color: #E2EBFA;\n",
              "      box-shadow: 0px 1px 2px rgba(60, 64, 67, 0.3), 0px 1px 3px 1px rgba(60, 64, 67, 0.15);\n",
              "      fill: #174EA6;\n",
              "    }\n",
              "\n",
              "    [theme=dark] .colab-df-convert {\n",
              "      background-color: #3B4455;\n",
              "      fill: #D2E3FC;\n",
              "    }\n",
              "\n",
              "    [theme=dark] .colab-df-convert:hover {\n",
              "      background-color: #434B5C;\n",
              "      box-shadow: 0px 1px 3px 1px rgba(0, 0, 0, 0.15);\n",
              "      filter: drop-shadow(0px 1px 2px rgba(0, 0, 0, 0.3));\n",
              "      fill: #FFFFFF;\n",
              "    }\n",
              "  </style>\n",
              "\n",
              "      <script>\n",
              "        const buttonEl =\n",
              "          document.querySelector('#df-c1117d05-ed78-4368-8988-46af21b7cacb button.colab-df-convert');\n",
              "        buttonEl.style.display =\n",
              "          google.colab.kernel.accessAllowed ? 'block' : 'none';\n",
              "\n",
              "        async function convertToInteractive(key) {\n",
              "          const element = document.querySelector('#df-c1117d05-ed78-4368-8988-46af21b7cacb');\n",
              "          const dataTable =\n",
              "            await google.colab.kernel.invokeFunction('convertToInteractive',\n",
              "                                                     [key], {});\n",
              "          if (!dataTable) return;\n",
              "\n",
              "          const docLinkHtml = 'Like what you see? Visit the ' +\n",
              "            '<a target=\"_blank\" href=https://colab.research.google.com/notebooks/data_table.ipynb>data table notebook</a>'\n",
              "            + ' to learn more about interactive tables.';\n",
              "          element.innerHTML = '';\n",
              "          dataTable['output_type'] = 'display_data';\n",
              "          await google.colab.output.renderOutput(dataTable, element);\n",
              "          const docLink = document.createElement('div');\n",
              "          docLink.innerHTML = docLinkHtml;\n",
              "          element.appendChild(docLink);\n",
              "        }\n",
              "      </script>\n",
              "    </div>\n",
              "  </div>\n",
              "  "
            ]
          },
          "metadata": {},
          "execution_count": 43
        },
        {
          "output_type": "execute_result",
          "data": {
            "text/plain": [
              "     Daily Time Spent on Site  Age  Area Income  Daily Internet Usage  \\\n",
              "32                      59.05   57     25583.29                169.23   \n",
              "34                      57.64   57     45580.92                133.81   \n",
              "83                      68.94   54     30726.26                138.71   \n",
              "110                     66.63   60     60333.38                176.98   \n",
              "116                     72.60   55     66815.54                162.95   \n",
              "149                     68.61   57     61770.34                150.29   \n",
              "166                     66.18   55     28271.84                143.42   \n",
              "182                     62.95   60     36752.24                157.04   \n",
              "185                     46.88   54     43444.86                136.64   \n",
              "186                     46.31   57     44248.52                153.98   \n",
              "208                     59.51   58     39132.64                140.83   \n",
              "248                     42.44   56     43450.11                168.27   \n",
              "309                     54.92   54     23975.35                161.16   \n",
              "358                     51.38   59     42362.49                158.56   \n",
              "365                     71.90   54     61228.96                140.15   \n",
              "508                     80.30   58     49090.51                173.43   \n",
              "545                     42.60   55     55121.65                168.29   \n",
              "552                     56.39   58     32252.38                154.23   \n",
              "575                     48.86   54     53188.69                134.46   \n",
              "622                     60.23   60     46239.14                151.54   \n",
              "663                     71.03   55     28186.65                150.77   \n",
              "671                     66.08   61     58966.22                184.23   \n",
              "673                     49.96   55     60968.62                151.94   \n",
              "696                     39.19   54     52581.16                173.05   \n",
              "709                     77.80   57     43708.88                152.94   \n",
              "748                     45.11   58     39799.73                195.69   \n",
              "750                     61.82   59     57877.15                151.93   \n",
              "773                     66.79   60     60575.99                198.30   \n",
              "775                     43.88   54     31523.09                166.85   \n",
              "923                     47.00   56     50491.45                149.53   \n",
              "980                     67.26   57     25682.65                168.41   \n",
              "\n",
              "                                         Ad Topic Line  \\\n",
              "32                         Digitized global capability   \n",
              "34                 Synchronized dedicated service-desk   \n",
              "83          Streamlined next generation implementation   \n",
              "110             User-friendly upward-trending intranet   \n",
              "116                       Focused intangible moderator   \n",
              "149                          Diverse modular interface   \n",
              "166        Vision-oriented contextually-based extranet   \n",
              "182                   Polarized tangible collaboration   \n",
              "185                      Virtual scalable secured line   \n",
              "186                 Front-line fault-tolerant intranet   \n",
              "208                     Assimilated fault-tolerant hub   \n",
              "248        Profit-focused attitude-oriented task-force   \n",
              "309                         Extended interactive model   \n",
              "358               Object-based modular functionalities   \n",
              "365            Inverse zero tolerance customer loyalty   \n",
              "508                       Managed client-server access   \n",
              "545                    Switchable analyzing encryption   \n",
              "552                       Programmable uniform website   \n",
              "575                    Proactive encompassing paradigm   \n",
              "622                       Seamless optimal contingency   \n",
              "663                     Programmable didactic capacity   \n",
              "671                 Synchronized multi-tasking ability   \n",
              "673              Multi-layered user-facing parallelism   \n",
              "696                   Stand-alone empowering benchmark   \n",
              "709                   Virtual executive implementation   \n",
              "748                        Sharable reciprocal project   \n",
              "750      Open-architected needs-based customer loyalty   \n",
              "773         Decentralized client-driven data-warehouse   \n",
              "775                       Enhanced methodical database   \n",
              "923  Public-key bi-directional Graphical User Inter...   \n",
              "980              Focused incremental Graphic Interface   \n",
              "\n",
              "                        City  Male                       Country  \\\n",
              "32        North Richardburgh     1                      Maldives   \n",
              "34                New Thomas     1                      Dominica   \n",
              "83           East Tylershire     0                   Timor-Leste   \n",
              "110           New Lucasburgh     0                    Madagascar   \n",
              "116  Port Christopherborough     0          United Arab Emirates   \n",
              "149             South George     0                  South Africa   \n",
              "166                Frankbury     0  Svalbard & Jan Mayen Islands   \n",
              "182                Youngfort     0                          Peru   \n",
              "185         Port Melissaberg     0                     Singapore   \n",
              "186               Bernardton     1                       Jamaica   \n",
              "208                 Penatown     0                     Australia   \n",
              "248             Petersonfurt     0                    Tajikistan   \n",
              "309               Roberttown     0     Saint Pierre and Miquelon   \n",
              "358             East Anthony     0                   Afghanistan   \n",
              "365             Timothymouth     1                Czech Republic   \n",
              "508         East Breannafurt     0                Cayman Islands   \n",
              "545                 Lake Ian     0                      Cambodia   \n",
              "552             West Shannon     0                     Australia   \n",
              "575               Perryburgh     0                 French Guiana   \n",
              "622              Port Brenda     1                  Saudi Arabia   \n",
              "663          Port Georgebury     0                         China   \n",
              "671                Klineside     1                          Cuba   \n",
              "673       South Cynthiashire     1                        Zambia   \n",
              "696                 Leahside     0                     Guatemala   \n",
              "709              Destinyfurt     0                       Namibia   \n",
              "748                Browntown     0                   Netherlands   \n",
              "750                Olsonside     1                      Barbados   \n",
              "773               Shelbyport     1                  Burkina Faso   \n",
              "775              Dustinmouth     1                       Somalia   \n",
              "923           New Marcusbury     0                       Bahamas   \n",
              "980         North Derekville     1                      Bulgaria   \n",
              "\n",
              "               Timestamp  Clicked on Ad  \n",
              "32   2016-07-15 05:05:14              1  \n",
              "34   2016-03-15 03:12:25              1  \n",
              "83   2016-04-19 07:34:28              1  \n",
              "110  2016-01-16 23:37:51              1  \n",
              "116  2016-07-13 16:12:24              1  \n",
              "149  2016-04-10 19:48:01              1  \n",
              "166  2016-01-10 23:14:30              1  \n",
              "182  2016-05-24 13:30:38              1  \n",
              "185  2016-02-04 08:53:37              1  \n",
              "186  2016-03-24 13:37:53              1  \n",
              "208  2016-06-16 02:01:24              1  \n",
              "248  2016-02-10 15:23:17              1  \n",
              "309  2016-06-13 13:59:51              1  \n",
              "358  2016-06-17 17:11:16              1  \n",
              "365  2016-04-22 20:32:17              1  \n",
              "508  2016-04-04 20:01:12              1  \n",
              "545  2016-07-11 18:12:43              1  \n",
              "552  2016-02-14 10:06:49              1  \n",
              "575  2016-01-09 17:33:03              1  \n",
              "622  2016-07-15 15:43:36              1  \n",
              "663  2016-03-12 07:18:36              1  \n",
              "671  2016-01-07 23:02:43              1  \n",
              "673  2016-04-04 00:02:20              1  \n",
              "696  2016-01-23 21:15:57              1  \n",
              "709  2016-02-14 14:38:01              1  \n",
              "748  2016-01-05 16:26:44              1  \n",
              "750  2016-02-06 17:48:28              1  \n",
              "773  2016-04-07 20:34:42              1  \n",
              "775  2016-06-04 17:24:07              1  \n",
              "923  2016-04-29 20:40:21              1  \n",
              "980  2016-05-27 05:54:03              1  "
            ],
            "text/html": [
              "\n",
              "  <div id=\"df-7c89cbbd-4be8-4f73-aaf0-d7cc428c6eb0\">\n",
              "    <div class=\"colab-df-container\">\n",
              "      <div>\n",
              "<style scoped>\n",
              "    .dataframe tbody tr th:only-of-type {\n",
              "        vertical-align: middle;\n",
              "    }\n",
              "\n",
              "    .dataframe tbody tr th {\n",
              "        vertical-align: top;\n",
              "    }\n",
              "\n",
              "    .dataframe thead th {\n",
              "        text-align: right;\n",
              "    }\n",
              "</style>\n",
              "<table border=\"1\" class=\"dataframe\">\n",
              "  <thead>\n",
              "    <tr style=\"text-align: right;\">\n",
              "      <th></th>\n",
              "      <th>Daily Time Spent on Site</th>\n",
              "      <th>Age</th>\n",
              "      <th>Area Income</th>\n",
              "      <th>Daily Internet Usage</th>\n",
              "      <th>Ad Topic Line</th>\n",
              "      <th>City</th>\n",
              "      <th>Male</th>\n",
              "      <th>Country</th>\n",
              "      <th>Timestamp</th>\n",
              "      <th>Clicked on Ad</th>\n",
              "    </tr>\n",
              "  </thead>\n",
              "  <tbody>\n",
              "    <tr>\n",
              "      <th>32</th>\n",
              "      <td>59.05</td>\n",
              "      <td>57</td>\n",
              "      <td>25583.29</td>\n",
              "      <td>169.23</td>\n",
              "      <td>Digitized global capability</td>\n",
              "      <td>North Richardburgh</td>\n",
              "      <td>1</td>\n",
              "      <td>Maldives</td>\n",
              "      <td>2016-07-15 05:05:14</td>\n",
              "      <td>1</td>\n",
              "    </tr>\n",
              "    <tr>\n",
              "      <th>34</th>\n",
              "      <td>57.64</td>\n",
              "      <td>57</td>\n",
              "      <td>45580.92</td>\n",
              "      <td>133.81</td>\n",
              "      <td>Synchronized dedicated service-desk</td>\n",
              "      <td>New Thomas</td>\n",
              "      <td>1</td>\n",
              "      <td>Dominica</td>\n",
              "      <td>2016-03-15 03:12:25</td>\n",
              "      <td>1</td>\n",
              "    </tr>\n",
              "    <tr>\n",
              "      <th>83</th>\n",
              "      <td>68.94</td>\n",
              "      <td>54</td>\n",
              "      <td>30726.26</td>\n",
              "      <td>138.71</td>\n",
              "      <td>Streamlined next generation implementation</td>\n",
              "      <td>East Tylershire</td>\n",
              "      <td>0</td>\n",
              "      <td>Timor-Leste</td>\n",
              "      <td>2016-04-19 07:34:28</td>\n",
              "      <td>1</td>\n",
              "    </tr>\n",
              "    <tr>\n",
              "      <th>110</th>\n",
              "      <td>66.63</td>\n",
              "      <td>60</td>\n",
              "      <td>60333.38</td>\n",
              "      <td>176.98</td>\n",
              "      <td>User-friendly upward-trending intranet</td>\n",
              "      <td>New Lucasburgh</td>\n",
              "      <td>0</td>\n",
              "      <td>Madagascar</td>\n",
              "      <td>2016-01-16 23:37:51</td>\n",
              "      <td>1</td>\n",
              "    </tr>\n",
              "    <tr>\n",
              "      <th>116</th>\n",
              "      <td>72.60</td>\n",
              "      <td>55</td>\n",
              "      <td>66815.54</td>\n",
              "      <td>162.95</td>\n",
              "      <td>Focused intangible moderator</td>\n",
              "      <td>Port Christopherborough</td>\n",
              "      <td>0</td>\n",
              "      <td>United Arab Emirates</td>\n",
              "      <td>2016-07-13 16:12:24</td>\n",
              "      <td>1</td>\n",
              "    </tr>\n",
              "    <tr>\n",
              "      <th>149</th>\n",
              "      <td>68.61</td>\n",
              "      <td>57</td>\n",
              "      <td>61770.34</td>\n",
              "      <td>150.29</td>\n",
              "      <td>Diverse modular interface</td>\n",
              "      <td>South George</td>\n",
              "      <td>0</td>\n",
              "      <td>South Africa</td>\n",
              "      <td>2016-04-10 19:48:01</td>\n",
              "      <td>1</td>\n",
              "    </tr>\n",
              "    <tr>\n",
              "      <th>166</th>\n",
              "      <td>66.18</td>\n",
              "      <td>55</td>\n",
              "      <td>28271.84</td>\n",
              "      <td>143.42</td>\n",
              "      <td>Vision-oriented contextually-based extranet</td>\n",
              "      <td>Frankbury</td>\n",
              "      <td>0</td>\n",
              "      <td>Svalbard &amp; Jan Mayen Islands</td>\n",
              "      <td>2016-01-10 23:14:30</td>\n",
              "      <td>1</td>\n",
              "    </tr>\n",
              "    <tr>\n",
              "      <th>182</th>\n",
              "      <td>62.95</td>\n",
              "      <td>60</td>\n",
              "      <td>36752.24</td>\n",
              "      <td>157.04</td>\n",
              "      <td>Polarized tangible collaboration</td>\n",
              "      <td>Youngfort</td>\n",
              "      <td>0</td>\n",
              "      <td>Peru</td>\n",
              "      <td>2016-05-24 13:30:38</td>\n",
              "      <td>1</td>\n",
              "    </tr>\n",
              "    <tr>\n",
              "      <th>185</th>\n",
              "      <td>46.88</td>\n",
              "      <td>54</td>\n",
              "      <td>43444.86</td>\n",
              "      <td>136.64</td>\n",
              "      <td>Virtual scalable secured line</td>\n",
              "      <td>Port Melissaberg</td>\n",
              "      <td>0</td>\n",
              "      <td>Singapore</td>\n",
              "      <td>2016-02-04 08:53:37</td>\n",
              "      <td>1</td>\n",
              "    </tr>\n",
              "    <tr>\n",
              "      <th>186</th>\n",
              "      <td>46.31</td>\n",
              "      <td>57</td>\n",
              "      <td>44248.52</td>\n",
              "      <td>153.98</td>\n",
              "      <td>Front-line fault-tolerant intranet</td>\n",
              "      <td>Bernardton</td>\n",
              "      <td>1</td>\n",
              "      <td>Jamaica</td>\n",
              "      <td>2016-03-24 13:37:53</td>\n",
              "      <td>1</td>\n",
              "    </tr>\n",
              "    <tr>\n",
              "      <th>208</th>\n",
              "      <td>59.51</td>\n",
              "      <td>58</td>\n",
              "      <td>39132.64</td>\n",
              "      <td>140.83</td>\n",
              "      <td>Assimilated fault-tolerant hub</td>\n",
              "      <td>Penatown</td>\n",
              "      <td>0</td>\n",
              "      <td>Australia</td>\n",
              "      <td>2016-06-16 02:01:24</td>\n",
              "      <td>1</td>\n",
              "    </tr>\n",
              "    <tr>\n",
              "      <th>248</th>\n",
              "      <td>42.44</td>\n",
              "      <td>56</td>\n",
              "      <td>43450.11</td>\n",
              "      <td>168.27</td>\n",
              "      <td>Profit-focused attitude-oriented task-force</td>\n",
              "      <td>Petersonfurt</td>\n",
              "      <td>0</td>\n",
              "      <td>Tajikistan</td>\n",
              "      <td>2016-02-10 15:23:17</td>\n",
              "      <td>1</td>\n",
              "    </tr>\n",
              "    <tr>\n",
              "      <th>309</th>\n",
              "      <td>54.92</td>\n",
              "      <td>54</td>\n",
              "      <td>23975.35</td>\n",
              "      <td>161.16</td>\n",
              "      <td>Extended interactive model</td>\n",
              "      <td>Roberttown</td>\n",
              "      <td>0</td>\n",
              "      <td>Saint Pierre and Miquelon</td>\n",
              "      <td>2016-06-13 13:59:51</td>\n",
              "      <td>1</td>\n",
              "    </tr>\n",
              "    <tr>\n",
              "      <th>358</th>\n",
              "      <td>51.38</td>\n",
              "      <td>59</td>\n",
              "      <td>42362.49</td>\n",
              "      <td>158.56</td>\n",
              "      <td>Object-based modular functionalities</td>\n",
              "      <td>East Anthony</td>\n",
              "      <td>0</td>\n",
              "      <td>Afghanistan</td>\n",
              "      <td>2016-06-17 17:11:16</td>\n",
              "      <td>1</td>\n",
              "    </tr>\n",
              "    <tr>\n",
              "      <th>365</th>\n",
              "      <td>71.90</td>\n",
              "      <td>54</td>\n",
              "      <td>61228.96</td>\n",
              "      <td>140.15</td>\n",
              "      <td>Inverse zero tolerance customer loyalty</td>\n",
              "      <td>Timothymouth</td>\n",
              "      <td>1</td>\n",
              "      <td>Czech Republic</td>\n",
              "      <td>2016-04-22 20:32:17</td>\n",
              "      <td>1</td>\n",
              "    </tr>\n",
              "    <tr>\n",
              "      <th>508</th>\n",
              "      <td>80.30</td>\n",
              "      <td>58</td>\n",
              "      <td>49090.51</td>\n",
              "      <td>173.43</td>\n",
              "      <td>Managed client-server access</td>\n",
              "      <td>East Breannafurt</td>\n",
              "      <td>0</td>\n",
              "      <td>Cayman Islands</td>\n",
              "      <td>2016-04-04 20:01:12</td>\n",
              "      <td>1</td>\n",
              "    </tr>\n",
              "    <tr>\n",
              "      <th>545</th>\n",
              "      <td>42.60</td>\n",
              "      <td>55</td>\n",
              "      <td>55121.65</td>\n",
              "      <td>168.29</td>\n",
              "      <td>Switchable analyzing encryption</td>\n",
              "      <td>Lake Ian</td>\n",
              "      <td>0</td>\n",
              "      <td>Cambodia</td>\n",
              "      <td>2016-07-11 18:12:43</td>\n",
              "      <td>1</td>\n",
              "    </tr>\n",
              "    <tr>\n",
              "      <th>552</th>\n",
              "      <td>56.39</td>\n",
              "      <td>58</td>\n",
              "      <td>32252.38</td>\n",
              "      <td>154.23</td>\n",
              "      <td>Programmable uniform website</td>\n",
              "      <td>West Shannon</td>\n",
              "      <td>0</td>\n",
              "      <td>Australia</td>\n",
              "      <td>2016-02-14 10:06:49</td>\n",
              "      <td>1</td>\n",
              "    </tr>\n",
              "    <tr>\n",
              "      <th>575</th>\n",
              "      <td>48.86</td>\n",
              "      <td>54</td>\n",
              "      <td>53188.69</td>\n",
              "      <td>134.46</td>\n",
              "      <td>Proactive encompassing paradigm</td>\n",
              "      <td>Perryburgh</td>\n",
              "      <td>0</td>\n",
              "      <td>French Guiana</td>\n",
              "      <td>2016-01-09 17:33:03</td>\n",
              "      <td>1</td>\n",
              "    </tr>\n",
              "    <tr>\n",
              "      <th>622</th>\n",
              "      <td>60.23</td>\n",
              "      <td>60</td>\n",
              "      <td>46239.14</td>\n",
              "      <td>151.54</td>\n",
              "      <td>Seamless optimal contingency</td>\n",
              "      <td>Port Brenda</td>\n",
              "      <td>1</td>\n",
              "      <td>Saudi Arabia</td>\n",
              "      <td>2016-07-15 15:43:36</td>\n",
              "      <td>1</td>\n",
              "    </tr>\n",
              "    <tr>\n",
              "      <th>663</th>\n",
              "      <td>71.03</td>\n",
              "      <td>55</td>\n",
              "      <td>28186.65</td>\n",
              "      <td>150.77</td>\n",
              "      <td>Programmable didactic capacity</td>\n",
              "      <td>Port Georgebury</td>\n",
              "      <td>0</td>\n",
              "      <td>China</td>\n",
              "      <td>2016-03-12 07:18:36</td>\n",
              "      <td>1</td>\n",
              "    </tr>\n",
              "    <tr>\n",
              "      <th>671</th>\n",
              "      <td>66.08</td>\n",
              "      <td>61</td>\n",
              "      <td>58966.22</td>\n",
              "      <td>184.23</td>\n",
              "      <td>Synchronized multi-tasking ability</td>\n",
              "      <td>Klineside</td>\n",
              "      <td>1</td>\n",
              "      <td>Cuba</td>\n",
              "      <td>2016-01-07 23:02:43</td>\n",
              "      <td>1</td>\n",
              "    </tr>\n",
              "    <tr>\n",
              "      <th>673</th>\n",
              "      <td>49.96</td>\n",
              "      <td>55</td>\n",
              "      <td>60968.62</td>\n",
              "      <td>151.94</td>\n",
              "      <td>Multi-layered user-facing parallelism</td>\n",
              "      <td>South Cynthiashire</td>\n",
              "      <td>1</td>\n",
              "      <td>Zambia</td>\n",
              "      <td>2016-04-04 00:02:20</td>\n",
              "      <td>1</td>\n",
              "    </tr>\n",
              "    <tr>\n",
              "      <th>696</th>\n",
              "      <td>39.19</td>\n",
              "      <td>54</td>\n",
              "      <td>52581.16</td>\n",
              "      <td>173.05</td>\n",
              "      <td>Stand-alone empowering benchmark</td>\n",
              "      <td>Leahside</td>\n",
              "      <td>0</td>\n",
              "      <td>Guatemala</td>\n",
              "      <td>2016-01-23 21:15:57</td>\n",
              "      <td>1</td>\n",
              "    </tr>\n",
              "    <tr>\n",
              "      <th>709</th>\n",
              "      <td>77.80</td>\n",
              "      <td>57</td>\n",
              "      <td>43708.88</td>\n",
              "      <td>152.94</td>\n",
              "      <td>Virtual executive implementation</td>\n",
              "      <td>Destinyfurt</td>\n",
              "      <td>0</td>\n",
              "      <td>Namibia</td>\n",
              "      <td>2016-02-14 14:38:01</td>\n",
              "      <td>1</td>\n",
              "    </tr>\n",
              "    <tr>\n",
              "      <th>748</th>\n",
              "      <td>45.11</td>\n",
              "      <td>58</td>\n",
              "      <td>39799.73</td>\n",
              "      <td>195.69</td>\n",
              "      <td>Sharable reciprocal project</td>\n",
              "      <td>Browntown</td>\n",
              "      <td>0</td>\n",
              "      <td>Netherlands</td>\n",
              "      <td>2016-01-05 16:26:44</td>\n",
              "      <td>1</td>\n",
              "    </tr>\n",
              "    <tr>\n",
              "      <th>750</th>\n",
              "      <td>61.82</td>\n",
              "      <td>59</td>\n",
              "      <td>57877.15</td>\n",
              "      <td>151.93</td>\n",
              "      <td>Open-architected needs-based customer loyalty</td>\n",
              "      <td>Olsonside</td>\n",
              "      <td>1</td>\n",
              "      <td>Barbados</td>\n",
              "      <td>2016-02-06 17:48:28</td>\n",
              "      <td>1</td>\n",
              "    </tr>\n",
              "    <tr>\n",
              "      <th>773</th>\n",
              "      <td>66.79</td>\n",
              "      <td>60</td>\n",
              "      <td>60575.99</td>\n",
              "      <td>198.30</td>\n",
              "      <td>Decentralized client-driven data-warehouse</td>\n",
              "      <td>Shelbyport</td>\n",
              "      <td>1</td>\n",
              "      <td>Burkina Faso</td>\n",
              "      <td>2016-04-07 20:34:42</td>\n",
              "      <td>1</td>\n",
              "    </tr>\n",
              "    <tr>\n",
              "      <th>775</th>\n",
              "      <td>43.88</td>\n",
              "      <td>54</td>\n",
              "      <td>31523.09</td>\n",
              "      <td>166.85</td>\n",
              "      <td>Enhanced methodical database</td>\n",
              "      <td>Dustinmouth</td>\n",
              "      <td>1</td>\n",
              "      <td>Somalia</td>\n",
              "      <td>2016-06-04 17:24:07</td>\n",
              "      <td>1</td>\n",
              "    </tr>\n",
              "    <tr>\n",
              "      <th>923</th>\n",
              "      <td>47.00</td>\n",
              "      <td>56</td>\n",
              "      <td>50491.45</td>\n",
              "      <td>149.53</td>\n",
              "      <td>Public-key bi-directional Graphical User Inter...</td>\n",
              "      <td>New Marcusbury</td>\n",
              "      <td>0</td>\n",
              "      <td>Bahamas</td>\n",
              "      <td>2016-04-29 20:40:21</td>\n",
              "      <td>1</td>\n",
              "    </tr>\n",
              "    <tr>\n",
              "      <th>980</th>\n",
              "      <td>67.26</td>\n",
              "      <td>57</td>\n",
              "      <td>25682.65</td>\n",
              "      <td>168.41</td>\n",
              "      <td>Focused incremental Graphic Interface</td>\n",
              "      <td>North Derekville</td>\n",
              "      <td>1</td>\n",
              "      <td>Bulgaria</td>\n",
              "      <td>2016-05-27 05:54:03</td>\n",
              "      <td>1</td>\n",
              "    </tr>\n",
              "  </tbody>\n",
              "</table>\n",
              "</div>\n",
              "      <button class=\"colab-df-convert\" onclick=\"convertToInteractive('df-7c89cbbd-4be8-4f73-aaf0-d7cc428c6eb0')\"\n",
              "              title=\"Convert this dataframe to an interactive table.\"\n",
              "              style=\"display:none;\">\n",
              "        \n",
              "  <svg xmlns=\"http://www.w3.org/2000/svg\" height=\"24px\"viewBox=\"0 0 24 24\"\n",
              "       width=\"24px\">\n",
              "    <path d=\"M0 0h24v24H0V0z\" fill=\"none\"/>\n",
              "    <path d=\"M18.56 5.44l.94 2.06.94-2.06 2.06-.94-2.06-.94-.94-2.06-.94 2.06-2.06.94zm-11 1L8.5 8.5l.94-2.06 2.06-.94-2.06-.94L8.5 2.5l-.94 2.06-2.06.94zm10 10l.94 2.06.94-2.06 2.06-.94-2.06-.94-.94-2.06-.94 2.06-2.06.94z\"/><path d=\"M17.41 7.96l-1.37-1.37c-.4-.4-.92-.59-1.43-.59-.52 0-1.04.2-1.43.59L10.3 9.45l-7.72 7.72c-.78.78-.78 2.05 0 2.83L4 21.41c.39.39.9.59 1.41.59.51 0 1.02-.2 1.41-.59l7.78-7.78 2.81-2.81c.8-.78.8-2.07 0-2.86zM5.41 20L4 18.59l7.72-7.72 1.47 1.35L5.41 20z\"/>\n",
              "  </svg>\n",
              "      </button>\n",
              "      \n",
              "  <style>\n",
              "    .colab-df-container {\n",
              "      display:flex;\n",
              "      flex-wrap:wrap;\n",
              "      gap: 12px;\n",
              "    }\n",
              "\n",
              "    .colab-df-convert {\n",
              "      background-color: #E8F0FE;\n",
              "      border: none;\n",
              "      border-radius: 50%;\n",
              "      cursor: pointer;\n",
              "      display: none;\n",
              "      fill: #1967D2;\n",
              "      height: 32px;\n",
              "      padding: 0 0 0 0;\n",
              "      width: 32px;\n",
              "    }\n",
              "\n",
              "    .colab-df-convert:hover {\n",
              "      background-color: #E2EBFA;\n",
              "      box-shadow: 0px 1px 2px rgba(60, 64, 67, 0.3), 0px 1px 3px 1px rgba(60, 64, 67, 0.15);\n",
              "      fill: #174EA6;\n",
              "    }\n",
              "\n",
              "    [theme=dark] .colab-df-convert {\n",
              "      background-color: #3B4455;\n",
              "      fill: #D2E3FC;\n",
              "    }\n",
              "\n",
              "    [theme=dark] .colab-df-convert:hover {\n",
              "      background-color: #434B5C;\n",
              "      box-shadow: 0px 1px 3px 1px rgba(0, 0, 0, 0.15);\n",
              "      filter: drop-shadow(0px 1px 2px rgba(0, 0, 0, 0.3));\n",
              "      fill: #FFFFFF;\n",
              "    }\n",
              "  </style>\n",
              "\n",
              "      <script>\n",
              "        const buttonEl =\n",
              "          document.querySelector('#df-7c89cbbd-4be8-4f73-aaf0-d7cc428c6eb0 button.colab-df-convert');\n",
              "        buttonEl.style.display =\n",
              "          google.colab.kernel.accessAllowed ? 'block' : 'none';\n",
              "\n",
              "        async function convertToInteractive(key) {\n",
              "          const element = document.querySelector('#df-7c89cbbd-4be8-4f73-aaf0-d7cc428c6eb0');\n",
              "          const dataTable =\n",
              "            await google.colab.kernel.invokeFunction('convertToInteractive',\n",
              "                                                     [key], {});\n",
              "          if (!dataTable) return;\n",
              "\n",
              "          const docLinkHtml = 'Like what you see? Visit the ' +\n",
              "            '<a target=\"_blank\" href=https://colab.research.google.com/notebooks/data_table.ipynb>data table notebook</a>'\n",
              "            + ' to learn more about interactive tables.';\n",
              "          element.innerHTML = '';\n",
              "          dataTable['output_type'] = 'display_data';\n",
              "          await google.colab.output.renderOutput(dataTable, element);\n",
              "          const docLink = document.createElement('div');\n",
              "          docLink.innerHTML = docLinkHtml;\n",
              "          element.appendChild(docLink);\n",
              "        }\n",
              "      </script>\n",
              "    </div>\n",
              "  </div>\n",
              "  "
            ]
          },
          "metadata": {},
          "execution_count": 43
        }
      ],
      "source": [
        "data=pd.read_csv(\"advertising (1).zip\")\n",
        "data.columns\n",
        "data.iloc[:3]\n",
        "data.iloc[1:4, 2:5]\n",
        "\n",
        "data.loc[(data['Age'] >53) & (data['Daily Internet Usage'] >133)]"
      ]
    },
    {
      "cell_type": "code",
      "execution_count": null,
      "metadata": {
        "colab": {
          "base_uri": "https://localhost:8080/"
        },
        "id": "jM4yuwVlBaBt",
        "outputId": "2470f772-7236-4e38-c25c-8afde98e3c74"
      },
      "outputs": [
        {
          "output_type": "execute_result",
          "data": {
            "text/plain": [
              "Daily Time Spent on Site    float64\n",
              "Age                           int64\n",
              "Area Income                 float64\n",
              "Daily Internet Usage        float64\n",
              "Ad Topic Line                object\n",
              "City                         object\n",
              "Male                          int64\n",
              "Country                      object\n",
              "Timestamp                    object\n",
              "Clicked on Ad                 int64\n",
              "dtype: object"
            ]
          },
          "metadata": {},
          "execution_count": 44
        }
      ],
      "source": [
        "data.dtypes"
      ]
    },
    {
      "cell_type": "code",
      "execution_count": null,
      "metadata": {
        "colab": {
          "base_uri": "https://localhost:8080/"
        },
        "id": "GL4p8k_BVOXd",
        "outputId": "1408bf2e-b7db-4e8d-a4ff-53255c9985b0"
      },
      "outputs": [
        {
          "output_type": "execute_result",
          "data": {
            "text/plain": [
              "   Daily Time Spent on Site  Age  Area Income  Daily Internet Usage  \\\n",
              "0                     68.95   35     61833.90                256.09   \n",
              "1                     80.23   31     68441.85                193.77   \n",
              "2                     69.47   26     59785.94                236.50   \n",
              "3                     74.15   29     54806.18                245.89   \n",
              "4                     68.37   35     73889.99                225.58   \n",
              "\n",
              "                           Ad Topic Line            City  Male     Country  \\\n",
              "0     Cloned 5thgeneration orchestration     Wrightburgh     0     Tunisia   \n",
              "1     Monitored national standardization       West Jodi     1       Nauru   \n",
              "2       Organic bottom-line service-desk        Davidton     0  San Marino   \n",
              "3  Triple-buffered reciprocal time-frame  West Terrifurt     1       Italy   \n",
              "4          Robust logistical utilization    South Manuel     0     Iceland   \n",
              "\n",
              "            Timestamp  Clicked on Ad  \n",
              "0 2016-03-27 00:53:11              0  \n",
              "1 2016-04-04 01:39:02              0  \n",
              "2 2016-03-13 20:35:42              0  \n",
              "3 2016-01-10 02:31:19              0  \n",
              "4 2016-06-03 03:36:18              0  "
            ],
            "text/html": [
              "\n",
              "  <div id=\"df-d229c44c-ccaf-49ad-a39a-e72f53bdfa5e\">\n",
              "    <div class=\"colab-df-container\">\n",
              "      <div>\n",
              "<style scoped>\n",
              "    .dataframe tbody tr th:only-of-type {\n",
              "        vertical-align: middle;\n",
              "    }\n",
              "\n",
              "    .dataframe tbody tr th {\n",
              "        vertical-align: top;\n",
              "    }\n",
              "\n",
              "    .dataframe thead th {\n",
              "        text-align: right;\n",
              "    }\n",
              "</style>\n",
              "<table border=\"1\" class=\"dataframe\">\n",
              "  <thead>\n",
              "    <tr style=\"text-align: right;\">\n",
              "      <th></th>\n",
              "      <th>Daily Time Spent on Site</th>\n",
              "      <th>Age</th>\n",
              "      <th>Area Income</th>\n",
              "      <th>Daily Internet Usage</th>\n",
              "      <th>Ad Topic Line</th>\n",
              "      <th>City</th>\n",
              "      <th>Male</th>\n",
              "      <th>Country</th>\n",
              "      <th>Timestamp</th>\n",
              "      <th>Clicked on Ad</th>\n",
              "    </tr>\n",
              "  </thead>\n",
              "  <tbody>\n",
              "    <tr>\n",
              "      <th>0</th>\n",
              "      <td>68.95</td>\n",
              "      <td>35</td>\n",
              "      <td>61833.90</td>\n",
              "      <td>256.09</td>\n",
              "      <td>Cloned 5thgeneration orchestration</td>\n",
              "      <td>Wrightburgh</td>\n",
              "      <td>0</td>\n",
              "      <td>Tunisia</td>\n",
              "      <td>2016-03-27 00:53:11</td>\n",
              "      <td>0</td>\n",
              "    </tr>\n",
              "    <tr>\n",
              "      <th>1</th>\n",
              "      <td>80.23</td>\n",
              "      <td>31</td>\n",
              "      <td>68441.85</td>\n",
              "      <td>193.77</td>\n",
              "      <td>Monitored national standardization</td>\n",
              "      <td>West Jodi</td>\n",
              "      <td>1</td>\n",
              "      <td>Nauru</td>\n",
              "      <td>2016-04-04 01:39:02</td>\n",
              "      <td>0</td>\n",
              "    </tr>\n",
              "    <tr>\n",
              "      <th>2</th>\n",
              "      <td>69.47</td>\n",
              "      <td>26</td>\n",
              "      <td>59785.94</td>\n",
              "      <td>236.50</td>\n",
              "      <td>Organic bottom-line service-desk</td>\n",
              "      <td>Davidton</td>\n",
              "      <td>0</td>\n",
              "      <td>San Marino</td>\n",
              "      <td>2016-03-13 20:35:42</td>\n",
              "      <td>0</td>\n",
              "    </tr>\n",
              "    <tr>\n",
              "      <th>3</th>\n",
              "      <td>74.15</td>\n",
              "      <td>29</td>\n",
              "      <td>54806.18</td>\n",
              "      <td>245.89</td>\n",
              "      <td>Triple-buffered reciprocal time-frame</td>\n",
              "      <td>West Terrifurt</td>\n",
              "      <td>1</td>\n",
              "      <td>Italy</td>\n",
              "      <td>2016-01-10 02:31:19</td>\n",
              "      <td>0</td>\n",
              "    </tr>\n",
              "    <tr>\n",
              "      <th>4</th>\n",
              "      <td>68.37</td>\n",
              "      <td>35</td>\n",
              "      <td>73889.99</td>\n",
              "      <td>225.58</td>\n",
              "      <td>Robust logistical utilization</td>\n",
              "      <td>South Manuel</td>\n",
              "      <td>0</td>\n",
              "      <td>Iceland</td>\n",
              "      <td>2016-06-03 03:36:18</td>\n",
              "      <td>0</td>\n",
              "    </tr>\n",
              "  </tbody>\n",
              "</table>\n",
              "</div>\n",
              "      <button class=\"colab-df-convert\" onclick=\"convertToInteractive('df-d229c44c-ccaf-49ad-a39a-e72f53bdfa5e')\"\n",
              "              title=\"Convert this dataframe to an interactive table.\"\n",
              "              style=\"display:none;\">\n",
              "        \n",
              "  <svg xmlns=\"http://www.w3.org/2000/svg\" height=\"24px\"viewBox=\"0 0 24 24\"\n",
              "       width=\"24px\">\n",
              "    <path d=\"M0 0h24v24H0V0z\" fill=\"none\"/>\n",
              "    <path d=\"M18.56 5.44l.94 2.06.94-2.06 2.06-.94-2.06-.94-.94-2.06-.94 2.06-2.06.94zm-11 1L8.5 8.5l.94-2.06 2.06-.94-2.06-.94L8.5 2.5l-.94 2.06-2.06.94zm10 10l.94 2.06.94-2.06 2.06-.94-2.06-.94-.94-2.06-.94 2.06-2.06.94z\"/><path d=\"M17.41 7.96l-1.37-1.37c-.4-.4-.92-.59-1.43-.59-.52 0-1.04.2-1.43.59L10.3 9.45l-7.72 7.72c-.78.78-.78 2.05 0 2.83L4 21.41c.39.39.9.59 1.41.59.51 0 1.02-.2 1.41-.59l7.78-7.78 2.81-2.81c.8-.78.8-2.07 0-2.86zM5.41 20L4 18.59l7.72-7.72 1.47 1.35L5.41 20z\"/>\n",
              "  </svg>\n",
              "      </button>\n",
              "      \n",
              "  <style>\n",
              "    .colab-df-container {\n",
              "      display:flex;\n",
              "      flex-wrap:wrap;\n",
              "      gap: 12px;\n",
              "    }\n",
              "\n",
              "    .colab-df-convert {\n",
              "      background-color: #E8F0FE;\n",
              "      border: none;\n",
              "      border-radius: 50%;\n",
              "      cursor: pointer;\n",
              "      display: none;\n",
              "      fill: #1967D2;\n",
              "      height: 32px;\n",
              "      padding: 0 0 0 0;\n",
              "      width: 32px;\n",
              "    }\n",
              "\n",
              "    .colab-df-convert:hover {\n",
              "      background-color: #E2EBFA;\n",
              "      box-shadow: 0px 1px 2px rgba(60, 64, 67, 0.3), 0px 1px 3px 1px rgba(60, 64, 67, 0.15);\n",
              "      fill: #174EA6;\n",
              "    }\n",
              "\n",
              "    [theme=dark] .colab-df-convert {\n",
              "      background-color: #3B4455;\n",
              "      fill: #D2E3FC;\n",
              "    }\n",
              "\n",
              "    [theme=dark] .colab-df-convert:hover {\n",
              "      background-color: #434B5C;\n",
              "      box-shadow: 0px 1px 3px 1px rgba(0, 0, 0, 0.15);\n",
              "      filter: drop-shadow(0px 1px 2px rgba(0, 0, 0, 0.3));\n",
              "      fill: #FFFFFF;\n",
              "    }\n",
              "  </style>\n",
              "\n",
              "      <script>\n",
              "        const buttonEl =\n",
              "          document.querySelector('#df-d229c44c-ccaf-49ad-a39a-e72f53bdfa5e button.colab-df-convert');\n",
              "        buttonEl.style.display =\n",
              "          google.colab.kernel.accessAllowed ? 'block' : 'none';\n",
              "\n",
              "        async function convertToInteractive(key) {\n",
              "          const element = document.querySelector('#df-d229c44c-ccaf-49ad-a39a-e72f53bdfa5e');\n",
              "          const dataTable =\n",
              "            await google.colab.kernel.invokeFunction('convertToInteractive',\n",
              "                                                     [key], {});\n",
              "          if (!dataTable) return;\n",
              "\n",
              "          const docLinkHtml = 'Like what you see? Visit the ' +\n",
              "            '<a target=\"_blank\" href=https://colab.research.google.com/notebooks/data_table.ipynb>data table notebook</a>'\n",
              "            + ' to learn more about interactive tables.';\n",
              "          element.innerHTML = '';\n",
              "          dataTable['output_type'] = 'display_data';\n",
              "          await google.colab.output.renderOutput(dataTable, element);\n",
              "          const docLink = document.createElement('div');\n",
              "          docLink.innerHTML = docLinkHtml;\n",
              "          element.appendChild(docLink);\n",
              "        }\n",
              "      </script>\n",
              "    </div>\n",
              "  </div>\n",
              "  "
            ]
          },
          "metadata": {},
          "execution_count": 45
        },
        {
          "output_type": "execute_result",
          "data": {
            "text/plain": [
              "Daily Time Spent on Site           float64\n",
              "Age                                  int64\n",
              "Area Income                        float64\n",
              "Daily Internet Usage               float64\n",
              "Ad Topic Line                       object\n",
              "City                                object\n",
              "Male                                 int64\n",
              "Country                             object\n",
              "Timestamp                   datetime64[ns]\n",
              "Clicked on Ad                        int64\n",
              "dtype: object"
            ]
          },
          "metadata": {},
          "execution_count": 45
        }
      ],
      "source": [
        "# 1.9 Read file and while reading file,\n",
        "#      convert feature named 'Timestamp' \n",
        "#       to datetime time:\n",
        "\n",
        "ad = pd.read_csv(\"advertising.zip\",\n",
        "                  parse_dates = ['Timestamp']    # Parse this column as dates\n",
        "                )\n",
        "ad.head()\n",
        "ad.dtypes"
      ]
    },
    {
      "cell_type": "markdown",
      "metadata": {
        "id": "pbgql2Togh_b"
      },
      "source": [
        "## Explore data"
      ]
    },
    {
      "cell_type": "code",
      "execution_count": null,
      "metadata": {
        "colab": {
          "base_uri": "https://localhost:8080/",
          "height": 559
        },
        "id": "suDyMywgVk8p",
        "outputId": "48072658-876d-46c2-a697-1f48181f6de5"
      },
      "outputs": [
        {
          "output_type": "error",
          "ename": "KeyError",
          "evalue": "ignored",
          "traceback": [
            "\u001b[0;31m---------------------------------------------------------------------------\u001b[0m",
            "\u001b[0;31mKeyError\u001b[0m                                  Traceback (most recent call last)",
            "\u001b[0;32m/usr/local/lib/python3.7/dist-packages/pandas/core/indexes/base.py\u001b[0m in \u001b[0;36mget_loc\u001b[0;34m(self, key, method, tolerance)\u001b[0m\n\u001b[1;32m   3360\u001b[0m             \u001b[0;32mtry\u001b[0m\u001b[0;34m:\u001b[0m\u001b[0;34m\u001b[0m\u001b[0;34m\u001b[0m\u001b[0m\n\u001b[0;32m-> 3361\u001b[0;31m                 \u001b[0;32mreturn\u001b[0m \u001b[0mself\u001b[0m\u001b[0;34m.\u001b[0m\u001b[0m_engine\u001b[0m\u001b[0;34m.\u001b[0m\u001b[0mget_loc\u001b[0m\u001b[0;34m(\u001b[0m\u001b[0mcasted_key\u001b[0m\u001b[0;34m)\u001b[0m\u001b[0;34m\u001b[0m\u001b[0;34m\u001b[0m\u001b[0m\n\u001b[0m\u001b[1;32m   3362\u001b[0m             \u001b[0;32mexcept\u001b[0m \u001b[0mKeyError\u001b[0m \u001b[0;32mas\u001b[0m \u001b[0merr\u001b[0m\u001b[0;34m:\u001b[0m\u001b[0;34m\u001b[0m\u001b[0;34m\u001b[0m\u001b[0m\n",
            "\u001b[0;32m/usr/local/lib/python3.7/dist-packages/pandas/_libs/index.pyx\u001b[0m in \u001b[0;36mpandas._libs.index.IndexEngine.get_loc\u001b[0;34m()\u001b[0m\n",
            "\u001b[0;32m/usr/local/lib/python3.7/dist-packages/pandas/_libs/index.pyx\u001b[0m in \u001b[0;36mpandas._libs.index.IndexEngine.get_loc\u001b[0;34m()\u001b[0m\n",
            "\u001b[0;32mpandas/_libs/hashtable_class_helper.pxi\u001b[0m in \u001b[0;36mpandas._libs.hashtable.PyObjectHashTable.get_item\u001b[0;34m()\u001b[0m\n",
            "\u001b[0;32mpandas/_libs/hashtable_class_helper.pxi\u001b[0m in \u001b[0;36mpandas._libs.hashtable.PyObjectHashTable.get_item\u001b[0;34m()\u001b[0m\n",
            "\u001b[0;31mKeyError\u001b[0m: ('Daily Internet Usage', 'City')",
            "\nThe above exception was the direct cause of the following exception:\n",
            "\u001b[0;31mKeyError\u001b[0m                                  Traceback (most recent call last)",
            "\u001b[0;32m<ipython-input-58-efad92030ba5>\u001b[0m in \u001b[0;36m<module>\u001b[0;34m\u001b[0m\n\u001b[1;32m      3\u001b[0m \u001b[0;31m#       Try np.iinfo('int64'); np.finfo('float64')\u001b[0m\u001b[0;34m\u001b[0m\u001b[0;34m\u001b[0m\u001b[0;34m\u001b[0m\u001b[0m\n\u001b[1;32m      4\u001b[0m \u001b[0;34m\u001b[0m\u001b[0m\n\u001b[0;32m----> 5\u001b[0;31m \u001b[0mdata\u001b[0m\u001b[0;34m[\u001b[0m\u001b[0;34m'Daily Internet Usage'\u001b[0m\u001b[0;34m,\u001b[0m\u001b[0;34m'City'\u001b[0m\u001b[0;34m]\u001b[0m\u001b[0;34m\u001b[0m\u001b[0;34m\u001b[0m\u001b[0m\n\u001b[0m",
            "\u001b[0;32m/usr/local/lib/python3.7/dist-packages/pandas/core/frame.py\u001b[0m in \u001b[0;36m__getitem__\u001b[0;34m(self, key)\u001b[0m\n\u001b[1;32m   3456\u001b[0m             \u001b[0;32mif\u001b[0m \u001b[0mself\u001b[0m\u001b[0;34m.\u001b[0m\u001b[0mcolumns\u001b[0m\u001b[0;34m.\u001b[0m\u001b[0mnlevels\u001b[0m \u001b[0;34m>\u001b[0m \u001b[0;36m1\u001b[0m\u001b[0;34m:\u001b[0m\u001b[0;34m\u001b[0m\u001b[0;34m\u001b[0m\u001b[0m\n\u001b[1;32m   3457\u001b[0m                 \u001b[0;32mreturn\u001b[0m \u001b[0mself\u001b[0m\u001b[0;34m.\u001b[0m\u001b[0m_getitem_multilevel\u001b[0m\u001b[0;34m(\u001b[0m\u001b[0mkey\u001b[0m\u001b[0;34m)\u001b[0m\u001b[0;34m\u001b[0m\u001b[0;34m\u001b[0m\u001b[0m\n\u001b[0;32m-> 3458\u001b[0;31m             \u001b[0mindexer\u001b[0m \u001b[0;34m=\u001b[0m \u001b[0mself\u001b[0m\u001b[0;34m.\u001b[0m\u001b[0mcolumns\u001b[0m\u001b[0;34m.\u001b[0m\u001b[0mget_loc\u001b[0m\u001b[0;34m(\u001b[0m\u001b[0mkey\u001b[0m\u001b[0;34m)\u001b[0m\u001b[0;34m\u001b[0m\u001b[0;34m\u001b[0m\u001b[0m\n\u001b[0m\u001b[1;32m   3459\u001b[0m             \u001b[0;32mif\u001b[0m \u001b[0mis_integer\u001b[0m\u001b[0;34m(\u001b[0m\u001b[0mindexer\u001b[0m\u001b[0;34m)\u001b[0m\u001b[0;34m:\u001b[0m\u001b[0;34m\u001b[0m\u001b[0;34m\u001b[0m\u001b[0m\n\u001b[1;32m   3460\u001b[0m                 \u001b[0mindexer\u001b[0m \u001b[0;34m=\u001b[0m \u001b[0;34m[\u001b[0m\u001b[0mindexer\u001b[0m\u001b[0;34m]\u001b[0m\u001b[0;34m\u001b[0m\u001b[0;34m\u001b[0m\u001b[0m\n",
            "\u001b[0;32m/usr/local/lib/python3.7/dist-packages/pandas/core/indexes/base.py\u001b[0m in \u001b[0;36mget_loc\u001b[0;34m(self, key, method, tolerance)\u001b[0m\n\u001b[1;32m   3361\u001b[0m                 \u001b[0;32mreturn\u001b[0m \u001b[0mself\u001b[0m\u001b[0;34m.\u001b[0m\u001b[0m_engine\u001b[0m\u001b[0;34m.\u001b[0m\u001b[0mget_loc\u001b[0m\u001b[0;34m(\u001b[0m\u001b[0mcasted_key\u001b[0m\u001b[0;34m)\u001b[0m\u001b[0;34m\u001b[0m\u001b[0;34m\u001b[0m\u001b[0m\n\u001b[1;32m   3362\u001b[0m             \u001b[0;32mexcept\u001b[0m \u001b[0mKeyError\u001b[0m \u001b[0;32mas\u001b[0m \u001b[0merr\u001b[0m\u001b[0;34m:\u001b[0m\u001b[0;34m\u001b[0m\u001b[0;34m\u001b[0m\u001b[0m\n\u001b[0;32m-> 3363\u001b[0;31m                 \u001b[0;32mraise\u001b[0m \u001b[0mKeyError\u001b[0m\u001b[0;34m(\u001b[0m\u001b[0mkey\u001b[0m\u001b[0;34m)\u001b[0m \u001b[0;32mfrom\u001b[0m \u001b[0merr\u001b[0m\u001b[0;34m\u001b[0m\u001b[0;34m\u001b[0m\u001b[0m\n\u001b[0m\u001b[1;32m   3364\u001b[0m \u001b[0;34m\u001b[0m\u001b[0m\n\u001b[1;32m   3365\u001b[0m         \u001b[0;32mif\u001b[0m \u001b[0mis_scalar\u001b[0m\u001b[0;34m(\u001b[0m\u001b[0mkey\u001b[0m\u001b[0;34m)\u001b[0m \u001b[0;32mand\u001b[0m \u001b[0misna\u001b[0m\u001b[0;34m(\u001b[0m\u001b[0mkey\u001b[0m\u001b[0;34m)\u001b[0m \u001b[0;32mand\u001b[0m \u001b[0;32mnot\u001b[0m \u001b[0mself\u001b[0m\u001b[0;34m.\u001b[0m\u001b[0mhasnans\u001b[0m\u001b[0;34m:\u001b[0m\u001b[0;34m\u001b[0m\u001b[0;34m\u001b[0m\u001b[0m\n",
            "\u001b[0;31mKeyError\u001b[0m: ('Daily Internet Usage', 'City')"
          ]
        }
      ],
      "source": [
        "# 1.9.1 Check data types of attributes\n",
        "#       Should 'Age' be int64?\n",
        "#       Try np.iinfo('int64'); np.finfo('float64')\n",
        "data.dtypes\n"
      ]
    },
    {
      "cell_type": "code",
      "execution_count": null,
      "metadata": {
        "id": "Xkztm62x_5IV",
        "colab": {
          "base_uri": "https://localhost:8080/",
          "height": 670
        },
        "outputId": "c525b084-5503-4369-ef3e-d377f372bdd8"
      },
      "outputs": [
        {
          "output_type": "execute_result",
          "data": {
            "text/plain": [
              "   Daily Time Spent on Site  Age  Area Income  Daily Internet Usage  \\\n",
              "0                     68.95   35     61833.90                256.09   \n",
              "1                     80.23   31     68441.85                193.77   \n",
              "2                     69.47   26     59785.94                236.50   \n",
              "\n",
              "                        Ad Topic Line         City  Male     Country  \\\n",
              "0  Cloned 5thgeneration orchestration  Wrightburgh     0     Tunisia   \n",
              "1  Monitored national standardization    West Jodi     1       Nauru   \n",
              "2    Organic bottom-line service-desk     Davidton     0  San Marino   \n",
              "\n",
              "            Timestamp  Clicked on Ad  \n",
              "0 2016-03-27 00:53:11              0  \n",
              "1 2016-04-04 01:39:02              0  \n",
              "2 2016-03-13 20:35:42              0  "
            ],
            "text/html": [
              "\n",
              "  <div id=\"df-7427cd00-22d0-41b1-8799-0d3d826af608\">\n",
              "    <div class=\"colab-df-container\">\n",
              "      <div>\n",
              "<style scoped>\n",
              "    .dataframe tbody tr th:only-of-type {\n",
              "        vertical-align: middle;\n",
              "    }\n",
              "\n",
              "    .dataframe tbody tr th {\n",
              "        vertical-align: top;\n",
              "    }\n",
              "\n",
              "    .dataframe thead th {\n",
              "        text-align: right;\n",
              "    }\n",
              "</style>\n",
              "<table border=\"1\" class=\"dataframe\">\n",
              "  <thead>\n",
              "    <tr style=\"text-align: right;\">\n",
              "      <th></th>\n",
              "      <th>Daily Time Spent on Site</th>\n",
              "      <th>Age</th>\n",
              "      <th>Area Income</th>\n",
              "      <th>Daily Internet Usage</th>\n",
              "      <th>Ad Topic Line</th>\n",
              "      <th>City</th>\n",
              "      <th>Male</th>\n",
              "      <th>Country</th>\n",
              "      <th>Timestamp</th>\n",
              "      <th>Clicked on Ad</th>\n",
              "    </tr>\n",
              "  </thead>\n",
              "  <tbody>\n",
              "    <tr>\n",
              "      <th>0</th>\n",
              "      <td>68.95</td>\n",
              "      <td>35</td>\n",
              "      <td>61833.90</td>\n",
              "      <td>256.09</td>\n",
              "      <td>Cloned 5thgeneration orchestration</td>\n",
              "      <td>Wrightburgh</td>\n",
              "      <td>0</td>\n",
              "      <td>Tunisia</td>\n",
              "      <td>2016-03-27 00:53:11</td>\n",
              "      <td>0</td>\n",
              "    </tr>\n",
              "    <tr>\n",
              "      <th>1</th>\n",
              "      <td>80.23</td>\n",
              "      <td>31</td>\n",
              "      <td>68441.85</td>\n",
              "      <td>193.77</td>\n",
              "      <td>Monitored national standardization</td>\n",
              "      <td>West Jodi</td>\n",
              "      <td>1</td>\n",
              "      <td>Nauru</td>\n",
              "      <td>2016-04-04 01:39:02</td>\n",
              "      <td>0</td>\n",
              "    </tr>\n",
              "    <tr>\n",
              "      <th>2</th>\n",
              "      <td>69.47</td>\n",
              "      <td>26</td>\n",
              "      <td>59785.94</td>\n",
              "      <td>236.50</td>\n",
              "      <td>Organic bottom-line service-desk</td>\n",
              "      <td>Davidton</td>\n",
              "      <td>0</td>\n",
              "      <td>San Marino</td>\n",
              "      <td>2016-03-13 20:35:42</td>\n",
              "      <td>0</td>\n",
              "    </tr>\n",
              "  </tbody>\n",
              "</table>\n",
              "</div>\n",
              "      <button class=\"colab-df-convert\" onclick=\"convertToInteractive('df-7427cd00-22d0-41b1-8799-0d3d826af608')\"\n",
              "              title=\"Convert this dataframe to an interactive table.\"\n",
              "              style=\"display:none;\">\n",
              "        \n",
              "  <svg xmlns=\"http://www.w3.org/2000/svg\" height=\"24px\"viewBox=\"0 0 24 24\"\n",
              "       width=\"24px\">\n",
              "    <path d=\"M0 0h24v24H0V0z\" fill=\"none\"/>\n",
              "    <path d=\"M18.56 5.44l.94 2.06.94-2.06 2.06-.94-2.06-.94-.94-2.06-.94 2.06-2.06.94zm-11 1L8.5 8.5l.94-2.06 2.06-.94-2.06-.94L8.5 2.5l-.94 2.06-2.06.94zm10 10l.94 2.06.94-2.06 2.06-.94-2.06-.94-.94-2.06-.94 2.06-2.06.94z\"/><path d=\"M17.41 7.96l-1.37-1.37c-.4-.4-.92-.59-1.43-.59-.52 0-1.04.2-1.43.59L10.3 9.45l-7.72 7.72c-.78.78-.78 2.05 0 2.83L4 21.41c.39.39.9.59 1.41.59.51 0 1.02-.2 1.41-.59l7.78-7.78 2.81-2.81c.8-.78.8-2.07 0-2.86zM5.41 20L4 18.59l7.72-7.72 1.47 1.35L5.41 20z\"/>\n",
              "  </svg>\n",
              "      </button>\n",
              "      \n",
              "  <style>\n",
              "    .colab-df-container {\n",
              "      display:flex;\n",
              "      flex-wrap:wrap;\n",
              "      gap: 12px;\n",
              "    }\n",
              "\n",
              "    .colab-df-convert {\n",
              "      background-color: #E8F0FE;\n",
              "      border: none;\n",
              "      border-radius: 50%;\n",
              "      cursor: pointer;\n",
              "      display: none;\n",
              "      fill: #1967D2;\n",
              "      height: 32px;\n",
              "      padding: 0 0 0 0;\n",
              "      width: 32px;\n",
              "    }\n",
              "\n",
              "    .colab-df-convert:hover {\n",
              "      background-color: #E2EBFA;\n",
              "      box-shadow: 0px 1px 2px rgba(60, 64, 67, 0.3), 0px 1px 3px 1px rgba(60, 64, 67, 0.15);\n",
              "      fill: #174EA6;\n",
              "    }\n",
              "\n",
              "    [theme=dark] .colab-df-convert {\n",
              "      background-color: #3B4455;\n",
              "      fill: #D2E3FC;\n",
              "    }\n",
              "\n",
              "    [theme=dark] .colab-df-convert:hover {\n",
              "      background-color: #434B5C;\n",
              "      box-shadow: 0px 1px 3px 1px rgba(0, 0, 0, 0.15);\n",
              "      filter: drop-shadow(0px 1px 2px rgba(0, 0, 0, 0.3));\n",
              "      fill: #FFFFFF;\n",
              "    }\n",
              "  </style>\n",
              "\n",
              "      <script>\n",
              "        const buttonEl =\n",
              "          document.querySelector('#df-7427cd00-22d0-41b1-8799-0d3d826af608 button.colab-df-convert');\n",
              "        buttonEl.style.display =\n",
              "          google.colab.kernel.accessAllowed ? 'block' : 'none';\n",
              "\n",
              "        async function convertToInteractive(key) {\n",
              "          const element = document.querySelector('#df-7427cd00-22d0-41b1-8799-0d3d826af608');\n",
              "          const dataTable =\n",
              "            await google.colab.kernel.invokeFunction('convertToInteractive',\n",
              "                                                     [key], {});\n",
              "          if (!dataTable) return;\n",
              "\n",
              "          const docLinkHtml = 'Like what you see? Visit the ' +\n",
              "            '<a target=\"_blank\" href=https://colab.research.google.com/notebooks/data_table.ipynb>data table notebook</a>'\n",
              "            + ' to learn more about interactive tables.';\n",
              "          element.innerHTML = '';\n",
              "          dataTable['output_type'] = 'display_data';\n",
              "          await google.colab.output.renderOutput(dataTable, element);\n",
              "          const docLink = document.createElement('div');\n",
              "          docLink.innerHTML = docLinkHtml;\n",
              "          element.appendChild(docLink);\n",
              "        }\n",
              "      </script>\n",
              "    </div>\n",
              "  </div>\n",
              "  "
            ]
          },
          "metadata": {},
          "execution_count": 22
        },
        {
          "output_type": "stream",
          "name": "stdout",
          "text": [
            "<class 'pandas.core.frame.DataFrame'>\n",
            "RangeIndex: 1000 entries, 0 to 999\n",
            "Data columns (total 10 columns):\n",
            " #   Column                    Non-Null Count  Dtype         \n",
            "---  ------                    --------------  -----         \n",
            " 0   Daily Time Spent on Site  1000 non-null   float64       \n",
            " 1   Age                       1000 non-null   int64         \n",
            " 2   Area Income               1000 non-null   float64       \n",
            " 3   Daily Internet Usage      1000 non-null   float64       \n",
            " 4   Ad Topic Line             1000 non-null   object        \n",
            " 5   City                      1000 non-null   object        \n",
            " 6   Male                      1000 non-null   int64         \n",
            " 7   Country                   1000 non-null   object        \n",
            " 8   Timestamp                 1000 non-null   datetime64[ns]\n",
            " 9   Clicked on Ad             1000 non-null   int64         \n",
            "dtypes: datetime64[ns](1), float64(3), int64(3), object(3)\n",
            "memory usage: 78.2+ KB\n"
          ]
        }
      ],
      "source": [
        "# 1.9.2\n",
        "ad.head(3)\n",
        "ad.info()               # Also informs how much memory dataset takes\n",
        "                        #   and status of nulls                    "
      ]
    },
    {
      "cell_type": "code",
      "source": [
        "gb=data.groupby(['Daily Internet Usage', 'City'], axis=1)\n",
        "\n",
        "for gp, name in gb:\n",
        "  print(gp)\n",
        "  print(name)\n"
      ],
      "metadata": {
        "id": "n7uHxjKPnRb-"
      },
      "execution_count": null,
      "outputs": []
    },
    {
      "cell_type": "code",
      "source": [
        "gp1=data.groupby(['City'])\n",
        "for gp, name in gp1:\n",
        "  print(gp)\n",
        "  print(name)"
      ],
      "metadata": {
        "id": "62eNLzEeqfwQ"
      },
      "execution_count": null,
      "outputs": []
    },
    {
      "cell_type": "code",
      "source": [
        "gb1=data.groupby('Daily Time Spent on Site',sort='True').count()\n",
        "gb1"
      ],
      "metadata": {
        "colab": {
          "base_uri": "https://localhost:8080/",
          "height": 568
        },
        "id": "GyOZsmY_po3i",
        "outputId": "61637a12-d77e-4483-ac51-32cd82242642"
      },
      "execution_count": null,
      "outputs": [
        {
          "output_type": "execute_result",
          "data": {
            "text/plain": [
              "                          Age  Area Income  Daily Internet Usage  \\\n",
              "Daily Time Spent on Site                                           \n",
              "32.60                       2            2                     2   \n",
              "32.84                       1            1                     1   \n",
              "32.91                       1            1                     1   \n",
              "32.99                       1            1                     1   \n",
              "33.21                       1            1                     1   \n",
              "...                       ...          ...                   ...   \n",
              "90.97                       1            1                     1   \n",
              "91.10                       1            1                     1   \n",
              "91.15                       1            1                     1   \n",
              "91.37                       1            1                     1   \n",
              "91.43                       1            1                     1   \n",
              "\n",
              "                          Ad Topic Line  City  Male  Country  Timestamp  \\\n",
              "Daily Time Spent on Site                                                  \n",
              "32.60                                 2     2     2        2          2   \n",
              "32.84                                 1     1     1        1          1   \n",
              "32.91                                 1     1     1        1          1   \n",
              "32.99                                 1     1     1        1          1   \n",
              "33.21                                 1     1     1        1          1   \n",
              "...                                 ...   ...   ...      ...        ...   \n",
              "90.97                                 1     1     1        1          1   \n",
              "91.10                                 1     1     1        1          1   \n",
              "91.15                                 1     1     1        1          1   \n",
              "91.37                                 1     1     1        1          1   \n",
              "91.43                                 1     1     1        1          1   \n",
              "\n",
              "                          Clicked on Ad  \n",
              "Daily Time Spent on Site                 \n",
              "32.60                                 2  \n",
              "32.84                                 1  \n",
              "32.91                                 1  \n",
              "32.99                                 1  \n",
              "33.21                                 1  \n",
              "...                                 ...  \n",
              "90.97                                 1  \n",
              "91.10                                 1  \n",
              "91.15                                 1  \n",
              "91.37                                 1  \n",
              "91.43                                 1  \n",
              "\n",
              "[900 rows x 9 columns]"
            ],
            "text/html": [
              "\n",
              "  <div id=\"df-94829a75-9717-494a-848f-d9a69ec16cdd\">\n",
              "    <div class=\"colab-df-container\">\n",
              "      <div>\n",
              "<style scoped>\n",
              "    .dataframe tbody tr th:only-of-type {\n",
              "        vertical-align: middle;\n",
              "    }\n",
              "\n",
              "    .dataframe tbody tr th {\n",
              "        vertical-align: top;\n",
              "    }\n",
              "\n",
              "    .dataframe thead th {\n",
              "        text-align: right;\n",
              "    }\n",
              "</style>\n",
              "<table border=\"1\" class=\"dataframe\">\n",
              "  <thead>\n",
              "    <tr style=\"text-align: right;\">\n",
              "      <th></th>\n",
              "      <th>Age</th>\n",
              "      <th>Area Income</th>\n",
              "      <th>Daily Internet Usage</th>\n",
              "      <th>Ad Topic Line</th>\n",
              "      <th>City</th>\n",
              "      <th>Male</th>\n",
              "      <th>Country</th>\n",
              "      <th>Timestamp</th>\n",
              "      <th>Clicked on Ad</th>\n",
              "    </tr>\n",
              "    <tr>\n",
              "      <th>Daily Time Spent on Site</th>\n",
              "      <th></th>\n",
              "      <th></th>\n",
              "      <th></th>\n",
              "      <th></th>\n",
              "      <th></th>\n",
              "      <th></th>\n",
              "      <th></th>\n",
              "      <th></th>\n",
              "      <th></th>\n",
              "    </tr>\n",
              "  </thead>\n",
              "  <tbody>\n",
              "    <tr>\n",
              "      <th>32.60</th>\n",
              "      <td>2</td>\n",
              "      <td>2</td>\n",
              "      <td>2</td>\n",
              "      <td>2</td>\n",
              "      <td>2</td>\n",
              "      <td>2</td>\n",
              "      <td>2</td>\n",
              "      <td>2</td>\n",
              "      <td>2</td>\n",
              "    </tr>\n",
              "    <tr>\n",
              "      <th>32.84</th>\n",
              "      <td>1</td>\n",
              "      <td>1</td>\n",
              "      <td>1</td>\n",
              "      <td>1</td>\n",
              "      <td>1</td>\n",
              "      <td>1</td>\n",
              "      <td>1</td>\n",
              "      <td>1</td>\n",
              "      <td>1</td>\n",
              "    </tr>\n",
              "    <tr>\n",
              "      <th>32.91</th>\n",
              "      <td>1</td>\n",
              "      <td>1</td>\n",
              "      <td>1</td>\n",
              "      <td>1</td>\n",
              "      <td>1</td>\n",
              "      <td>1</td>\n",
              "      <td>1</td>\n",
              "      <td>1</td>\n",
              "      <td>1</td>\n",
              "    </tr>\n",
              "    <tr>\n",
              "      <th>32.99</th>\n",
              "      <td>1</td>\n",
              "      <td>1</td>\n",
              "      <td>1</td>\n",
              "      <td>1</td>\n",
              "      <td>1</td>\n",
              "      <td>1</td>\n",
              "      <td>1</td>\n",
              "      <td>1</td>\n",
              "      <td>1</td>\n",
              "    </tr>\n",
              "    <tr>\n",
              "      <th>33.21</th>\n",
              "      <td>1</td>\n",
              "      <td>1</td>\n",
              "      <td>1</td>\n",
              "      <td>1</td>\n",
              "      <td>1</td>\n",
              "      <td>1</td>\n",
              "      <td>1</td>\n",
              "      <td>1</td>\n",
              "      <td>1</td>\n",
              "    </tr>\n",
              "    <tr>\n",
              "      <th>...</th>\n",
              "      <td>...</td>\n",
              "      <td>...</td>\n",
              "      <td>...</td>\n",
              "      <td>...</td>\n",
              "      <td>...</td>\n",
              "      <td>...</td>\n",
              "      <td>...</td>\n",
              "      <td>...</td>\n",
              "      <td>...</td>\n",
              "    </tr>\n",
              "    <tr>\n",
              "      <th>90.97</th>\n",
              "      <td>1</td>\n",
              "      <td>1</td>\n",
              "      <td>1</td>\n",
              "      <td>1</td>\n",
              "      <td>1</td>\n",
              "      <td>1</td>\n",
              "      <td>1</td>\n",
              "      <td>1</td>\n",
              "      <td>1</td>\n",
              "    </tr>\n",
              "    <tr>\n",
              "      <th>91.10</th>\n",
              "      <td>1</td>\n",
              "      <td>1</td>\n",
              "      <td>1</td>\n",
              "      <td>1</td>\n",
              "      <td>1</td>\n",
              "      <td>1</td>\n",
              "      <td>1</td>\n",
              "      <td>1</td>\n",
              "      <td>1</td>\n",
              "    </tr>\n",
              "    <tr>\n",
              "      <th>91.15</th>\n",
              "      <td>1</td>\n",
              "      <td>1</td>\n",
              "      <td>1</td>\n",
              "      <td>1</td>\n",
              "      <td>1</td>\n",
              "      <td>1</td>\n",
              "      <td>1</td>\n",
              "      <td>1</td>\n",
              "      <td>1</td>\n",
              "    </tr>\n",
              "    <tr>\n",
              "      <th>91.37</th>\n",
              "      <td>1</td>\n",
              "      <td>1</td>\n",
              "      <td>1</td>\n",
              "      <td>1</td>\n",
              "      <td>1</td>\n",
              "      <td>1</td>\n",
              "      <td>1</td>\n",
              "      <td>1</td>\n",
              "      <td>1</td>\n",
              "    </tr>\n",
              "    <tr>\n",
              "      <th>91.43</th>\n",
              "      <td>1</td>\n",
              "      <td>1</td>\n",
              "      <td>1</td>\n",
              "      <td>1</td>\n",
              "      <td>1</td>\n",
              "      <td>1</td>\n",
              "      <td>1</td>\n",
              "      <td>1</td>\n",
              "      <td>1</td>\n",
              "    </tr>\n",
              "  </tbody>\n",
              "</table>\n",
              "<p>900 rows × 9 columns</p>\n",
              "</div>\n",
              "      <button class=\"colab-df-convert\" onclick=\"convertToInteractive('df-94829a75-9717-494a-848f-d9a69ec16cdd')\"\n",
              "              title=\"Convert this dataframe to an interactive table.\"\n",
              "              style=\"display:none;\">\n",
              "        \n",
              "  <svg xmlns=\"http://www.w3.org/2000/svg\" height=\"24px\"viewBox=\"0 0 24 24\"\n",
              "       width=\"24px\">\n",
              "    <path d=\"M0 0h24v24H0V0z\" fill=\"none\"/>\n",
              "    <path d=\"M18.56 5.44l.94 2.06.94-2.06 2.06-.94-2.06-.94-.94-2.06-.94 2.06-2.06.94zm-11 1L8.5 8.5l.94-2.06 2.06-.94-2.06-.94L8.5 2.5l-.94 2.06-2.06.94zm10 10l.94 2.06.94-2.06 2.06-.94-2.06-.94-.94-2.06-.94 2.06-2.06.94z\"/><path d=\"M17.41 7.96l-1.37-1.37c-.4-.4-.92-.59-1.43-.59-.52 0-1.04.2-1.43.59L10.3 9.45l-7.72 7.72c-.78.78-.78 2.05 0 2.83L4 21.41c.39.39.9.59 1.41.59.51 0 1.02-.2 1.41-.59l7.78-7.78 2.81-2.81c.8-.78.8-2.07 0-2.86zM5.41 20L4 18.59l7.72-7.72 1.47 1.35L5.41 20z\"/>\n",
              "  </svg>\n",
              "      </button>\n",
              "      \n",
              "  <style>\n",
              "    .colab-df-container {\n",
              "      display:flex;\n",
              "      flex-wrap:wrap;\n",
              "      gap: 12px;\n",
              "    }\n",
              "\n",
              "    .colab-df-convert {\n",
              "      background-color: #E8F0FE;\n",
              "      border: none;\n",
              "      border-radius: 50%;\n",
              "      cursor: pointer;\n",
              "      display: none;\n",
              "      fill: #1967D2;\n",
              "      height: 32px;\n",
              "      padding: 0 0 0 0;\n",
              "      width: 32px;\n",
              "    }\n",
              "\n",
              "    .colab-df-convert:hover {\n",
              "      background-color: #E2EBFA;\n",
              "      box-shadow: 0px 1px 2px rgba(60, 64, 67, 0.3), 0px 1px 3px 1px rgba(60, 64, 67, 0.15);\n",
              "      fill: #174EA6;\n",
              "    }\n",
              "\n",
              "    [theme=dark] .colab-df-convert {\n",
              "      background-color: #3B4455;\n",
              "      fill: #D2E3FC;\n",
              "    }\n",
              "\n",
              "    [theme=dark] .colab-df-convert:hover {\n",
              "      background-color: #434B5C;\n",
              "      box-shadow: 0px 1px 3px 1px rgba(0, 0, 0, 0.15);\n",
              "      filter: drop-shadow(0px 1px 2px rgba(0, 0, 0, 0.3));\n",
              "      fill: #FFFFFF;\n",
              "    }\n",
              "  </style>\n",
              "\n",
              "      <script>\n",
              "        const buttonEl =\n",
              "          document.querySelector('#df-94829a75-9717-494a-848f-d9a69ec16cdd button.colab-df-convert');\n",
              "        buttonEl.style.display =\n",
              "          google.colab.kernel.accessAllowed ? 'block' : 'none';\n",
              "\n",
              "        async function convertToInteractive(key) {\n",
              "          const element = document.querySelector('#df-94829a75-9717-494a-848f-d9a69ec16cdd');\n",
              "          const dataTable =\n",
              "            await google.colab.kernel.invokeFunction('convertToInteractive',\n",
              "                                                     [key], {});\n",
              "          if (!dataTable) return;\n",
              "\n",
              "          const docLinkHtml = 'Like what you see? Visit the ' +\n",
              "            '<a target=\"_blank\" href=https://colab.research.google.com/notebooks/data_table.ipynb>data table notebook</a>'\n",
              "            + ' to learn more about interactive tables.';\n",
              "          element.innerHTML = '';\n",
              "          dataTable['output_type'] = 'display_data';\n",
              "          await google.colab.output.renderOutput(dataTable, element);\n",
              "          const docLink = document.createElement('div');\n",
              "          docLink.innerHTML = docLinkHtml;\n",
              "          element.appendChild(docLink);\n",
              "        }\n",
              "      </script>\n",
              "    </div>\n",
              "  </div>\n",
              "  "
            ]
          },
          "metadata": {},
          "execution_count": 68
        }
      ]
    },
    {
      "cell_type": "code",
      "execution_count": null,
      "metadata": {
        "id": "SD70vLhFC3tp",
        "colab": {
          "base_uri": "https://localhost:8080/"
        },
        "outputId": "07daea97-a003-4969-bd01-ecec1c5c5bf6"
      },
      "outputs": [
        {
          "output_type": "execute_result",
          "data": {
            "text/plain": [
              "array([35, 31, 26, 29, 35, 23, 33, 48, 30, 20, 49, 37, 48, 24, 33, 23, 37,\n",
              "       41, 36, 40, 30, 35, 52, 36, 41, 28, 28, 52, 34, 22, 35, 28, 57, 23,\n",
              "       57, 30, 53, 39, 46, 39, 29, 30, 32, 31, 25, 52, 20, 43, 37, 46, 23,\n",
              "       28, 45, 50, 47, 31, 36, 49, 29, 41, 27, 34, 29, 32, 45, 29, 40, 32,\n",
              "       25, 34, 31, 46, 39, 43, 42, 22, 35, 33, 38, 45, 27, 28, 38, 54, 31,\n",
              "       41, 36, 34, 34, 37, 43, 24, 26, 40, 31, 26, 36, 41, 46, 34, 53, 23,\n",
              "       40, 21, 20, 40, 25, 42, 30, 32, 60, 53, 22, 46, 32, 31, 55, 42, 50,\n",
              "       45, 31, 26, 27, 36, 43, 31, 44, 45, 27, 37, 50, 36, 36, 29, 47, 39,\n",
              "       36, 38, 23, 38, 31, 30, 44, 44, 41, 44, 49, 41, 46, 57, 25, 35, 48,\n",
              "       33, 27, 38, 36, 28, 27, 36, 35, 33, 31, 24, 50, 32, 55, 31, 42, 34,\n",
              "       52, 47, 31, 26, 48, 35, 44, 22, 31, 34, 38, 27, 60, 41, 29, 54, 57,\n",
              "       31, 30, 36, 30, 35, 49, 53, 33, 32, 45, 36, 31, 27, 40, 29, 40, 31,\n",
              "       29, 29, 28, 30, 58, 38, 28, 38, 27, 43, 40, 23, 53, 34, 40, 38, 37,\n",
              "       27, 39, 41, 42, 30, 29, 38, 31, 23, 33, 32, 38, 28, 50, 45, 36, 30,\n",
              "       33, 32, 44, 47, 32, 30, 24, 53, 45, 41, 56, 25, 36, 45, 33, 30, 48,\n",
              "       28, 32, 38, 39, 31, 28, 35, 35, 44, 38, 43, 26, 34, 26, 26, 53, 37,\n",
              "       33, 37, 28, 29, 35, 32, 26, 28, 52, 24, 35, 35, 51, 22, 26, 37, 42,\n",
              "       24, 31, 32, 39, 33, 36, 36, 35, 31, 31, 25, 28, 50, 39, 38, 43, 24,\n",
              "       33, 35, 32, 54, 34, 49, 22, 33, 41, 39, 21, 25, 31, 44, 34, 37, 30,\n",
              "       35, 41, 36, 48, 32, 25, 31, 26, 31, 49, 34, 40, 41, 35, 28, 40, 22,\n",
              "       47, 48, 38, 28, 26, 21, 25, 52, 37, 19, 28, 23, 30, 44, 52, 36, 47,\n",
              "       39, 59, 34, 33, 41, 28, 36, 42, 54, 29, 40, 36, 25, 50, 45, 26, 47,\n",
              "       25, 24, 37, 42, 31, 39, 30, 41, 29, 26, 27, 37, 33, 42, 40, 38, 36,\n",
              "       44, 28, 26, 47, 20, 51, 28, 40, 27, 47, 34, 43, 29, 52, 41, 50, 27,\n",
              "       49, 45, 33, 29, 20, 40, 39, 43, 32, 29, 24, 43, 41, 45, 35, 31, 36,\n",
              "       42, 37, 33, 29, 31, 32, 35, 43, 36, 39, 42, 27, 27, 36, 23, 32, 35,\n",
              "       39, 38, 40, 32, 34, 44, 50, 22, 28, 24, 34, 25, 52, 33, 35, 25, 42,\n",
              "       26, 40, 45, 27, 52, 45, 33, 35, 23, 47, 25, 36, 37, 24, 29, 31, 33,\n",
              "       24, 50, 41, 28, 22, 40, 25, 30, 37, 35, 40, 30, 48, 31, 40, 33, 30,\n",
              "       28, 30, 35, 29, 39, 27, 37, 46, 37, 26, 37, 49, 42, 31, 41, 58, 33,\n",
              "       30, 26, 33, 44, 41, 37, 32, 34, 55, 40, 42, 29, 32, 43, 32, 41, 39,\n",
              "       21, 52, 34, 49, 42, 51, 39, 30, 32, 23, 26, 35, 34, 36, 39, 33, 38,\n",
              "       29, 55, 28, 39, 33, 35, 36, 31, 58, 35, 33, 37, 49, 28, 26, 31, 44,\n",
              "       41, 44, 37, 36, 26, 42, 30, 42, 37, 40, 33, 35, 23, 45, 54, 39, 36,\n",
              "       23, 38, 46, 36, 27, 33, 25, 46, 38, 45, 32, 28, 25, 42, 25, 24, 38,\n",
              "       36, 27, 37, 36, 48, 48, 50, 40, 24, 35, 51, 26, 30, 40, 30, 37, 31,\n",
              "       31, 31, 31, 53, 41, 38, 39, 24, 24, 31, 60, 35, 27, 23, 27, 49, 39,\n",
              "       26, 29, 36, 31, 37, 55, 51, 49, 40, 41, 23, 45, 28, 36, 22, 46, 28,\n",
              "       41, 28, 27, 29, 38, 33, 32, 46, 26, 43, 31, 46, 39, 26, 49, 26, 50,\n",
              "       55, 33, 32, 29, 31, 31, 33, 26, 61, 33, 55, 28, 38, 29, 38, 34, 46,\n",
              "       26, 28, 36, 28, 34, 27, 37, 28, 36, 28, 33, 37, 47, 29, 33, 38, 54,\n",
              "       25, 28, 29, 19, 54, 30, 28, 40, 26, 23, 41, 48, 57, 43, 31, 35, 53,\n",
              "       21, 38, 35, 29, 51, 45, 34, 36, 43, 40, 25, 27, 24, 30, 34, 28, 19,\n",
              "       35, 41, 41, 26, 29, 28, 52, 43, 30, 38, 28, 29, 37, 29, 50, 29, 32,\n",
              "       58, 42, 59, 31, 28, 31, 36, 34, 37, 35, 29, 32, 40, 31, 54, 25, 51,\n",
              "       33, 29, 42, 41, 27, 30, 19, 40, 60, 45, 54, 26, 30, 44, 35, 41, 36,\n",
              "       29, 29, 39, 40, 22, 33, 29, 33, 31, 47, 26, 32, 49, 29, 27, 34, 46,\n",
              "       24, 29, 34, 50, 49, 41, 28, 43, 44, 35, 43, 29, 30, 32, 28, 34, 39,\n",
              "       48, 23, 34, 39, 38, 31, 30, 32, 28, 36, 31, 45, 35, 49, 30, 34, 42,\n",
              "       33, 27, 34, 46, 49, 40, 46, 40, 45, 23, 38, 37, 42, 37, 36, 32, 52,\n",
              "       33, 35, 45, 26, 34, 24, 30, 25, 51, 43, 45, 29, 25, 39, 50, 33, 32,\n",
              "       40, 25, 36, 27, 27, 33, 32, 34, 29, 44, 34, 43, 22, 33, 31, 29, 42,\n",
              "       39, 45, 53, 44, 31, 36, 31, 20, 40, 25, 36, 26, 32, 41, 37, 45, 51,\n",
              "       38, 43, 30, 26, 27, 50, 31, 50, 24, 52, 47, 42, 37, 39, 34, 42, 31,\n",
              "       32, 25, 34, 37, 49, 56, 51, 45, 22, 38, 29, 45, 36, 34, 38, 34, 33,\n",
              "       36, 45, 48, 38, 19, 46, 51, 39, 32, 30, 36, 34, 31, 30, 50, 43, 27,\n",
              "       36, 29, 31, 44, 36, 28, 29, 37, 28, 26, 21, 42, 24, 50, 52, 25, 38,\n",
              "       27, 29, 48, 50, 28, 40, 48, 45, 31, 30, 31, 57, 46, 38, 32, 31, 44,\n",
              "       28, 43, 48, 31, 44, 38, 40, 27, 28, 30, 45, 51, 19, 26])"
            ]
          },
          "metadata": {},
          "execution_count": 101
        }
      ],
      "source": [
        "ad['Age'].values"
      ]
    },
    {
      "cell_type": "code",
      "execution_count": null,
      "metadata": {
        "id": "-hNaBCVBCwRA",
        "colab": {
          "base_uri": "https://localhost:8080/"
        },
        "outputId": "d8ed08f5-bcdc-4500-ca3d-a6329f7c5148"
      },
      "outputs": [
        {
          "output_type": "execute_result",
          "data": {
            "text/plain": [
              "Daily Time Spent on Site    False\n",
              "Age                         False\n",
              "Area Income                 False\n",
              "Daily Internet Usage        False\n",
              "Ad Topic Line               False\n",
              "City                        False\n",
              "Male                        False\n",
              "Country                     False\n",
              "Timestamp                   False\n",
              "Clicked on Ad               False\n",
              "dtype: bool"
            ]
          },
          "metadata": {},
          "execution_count": 102
        }
      ],
      "source": [
        "ad.isna().any()"
      ]
    },
    {
      "cell_type": "code",
      "execution_count": null,
      "metadata": {
        "id": "fOvQKi1K_7NI",
        "colab": {
          "base_uri": "https://localhost:8080/"
        },
        "outputId": "08ab9350-65bc-4c97-c2b0-3c6adc907bc3"
      },
      "outputs": [
        {
          "output_type": "execute_result",
          "data": {
            "text/plain": [
              "(1000, 10)"
            ]
          },
          "metadata": {},
          "execution_count": 103
        },
        {
          "output_type": "stream",
          "name": "stdout",
          "text": [
            "\n",
            "---------\n",
            "\n"
          ]
        },
        {
          "output_type": "execute_result",
          "data": {
            "text/plain": [
              "array(['Daily Time Spent on Site', 'Age', 'Area Income',\n",
              "       'Daily Internet Usage', 'Ad Topic Line', 'City', 'Male', 'Country',\n",
              "       'Timestamp', 'Clicked on Ad'], dtype=object)"
            ]
          },
          "metadata": {},
          "execution_count": 103
        },
        {
          "output_type": "stream",
          "name": "stdout",
          "text": [
            "\n",
            "---------\n",
            "\n"
          ]
        },
        {
          "output_type": "execute_result",
          "data": {
            "text/plain": [
              "1000"
            ]
          },
          "metadata": {},
          "execution_count": 103
        }
      ],
      "source": [
        "# 1.9.3\n",
        "ad.shape                # (1000, 10)\n",
        "print(\"\\n---------\\n\")\n",
        "ad.columns.values\n",
        "print(\"\\n---------\\n\")\n",
        "len(ad)  "
      ]
    },
    {
      "cell_type": "code",
      "execution_count": null,
      "metadata": {
        "id": "VTGORn88Vrr8",
        "colab": {
          "base_uri": "https://localhost:8080/"
        },
        "outputId": "00a4f683-a21e-46b4-f168-01ee43f18541"
      },
      "outputs": [
        {
          "output_type": "execute_result",
          "data": {
            "text/plain": [
              "969"
            ]
          },
          "metadata": {},
          "execution_count": 104
        },
        {
          "output_type": "stream",
          "name": "stdout",
          "text": [
            "\n",
            "---------\n",
            "\n"
          ]
        },
        {
          "output_type": "execute_result",
          "data": {
            "text/plain": [
              "Lisamouth         3\n",
              "Williamsport      3\n",
              "Wrightburgh       2\n",
              "Lake Jose         2\n",
              "Robertfurt        2\n",
              "                 ..\n",
              "Burgessside       1\n",
              "Hurleyborough     1\n",
              "Garychester       1\n",
              "East Kevinbury    1\n",
              "Ronniemouth       1\n",
              "Name: City, Length: 969, dtype: int64"
            ]
          },
          "metadata": {},
          "execution_count": 104
        }
      ],
      "source": [
        "# 1.10 Categorical data value counts\n",
        "#     Or number of levels per category\n",
        "\n",
        "ad.City.nunique()                    # 969 cities out of 1000\n",
        "print(\"\\n---------\\n\")\n",
        "ad.City.value_counts()"
      ]
    },
    {
      "cell_type": "code",
      "execution_count": null,
      "metadata": {
        "id": "DoYdMceDN8vx",
        "colab": {
          "base_uri": "https://localhost:8080/",
          "height": 189
        },
        "outputId": "bbff0920-7c1b-470b-f67d-9cf374ebbe94"
      },
      "outputs": [
        {
          "output_type": "error",
          "ename": "NameError",
          "evalue": "ignored",
          "traceback": [
            "\u001b[0;31m---------------------------------------------------------------------------\u001b[0m",
            "\u001b[0;31mNameError\u001b[0m                                 Traceback (most recent call last)",
            "\u001b[0;32m<ipython-input-19-20da89004fc0>\u001b[0m in \u001b[0;36m<module>\u001b[0;34m\u001b[0m\n\u001b[0;32m----> 1\u001b[0;31m \u001b[0mdf1\u001b[0m\u001b[0;34m=\u001b[0m\u001b[0mad\u001b[0m\u001b[0;34m.\u001b[0m\u001b[0mCity\u001b[0m\u001b[0;34m.\u001b[0m\u001b[0mvalue_counts\u001b[0m\u001b[0;34m(\u001b[0m\u001b[0;34m)\u001b[0m\u001b[0;34m\u001b[0m\u001b[0;34m\u001b[0m\u001b[0m\n\u001b[0m\u001b[1;32m      2\u001b[0m \u001b[0mdf1\u001b[0m\u001b[0;34m.\u001b[0m\u001b[0mplot\u001b[0m\u001b[0;34m(\u001b[0m\u001b[0mkind\u001b[0m\u001b[0;34m=\u001b[0m\u001b[0;34m'line'\u001b[0m\u001b[0;34m)\u001b[0m\u001b[0;34m\u001b[0m\u001b[0;34m\u001b[0m\u001b[0m\n",
            "\u001b[0;31mNameError\u001b[0m: name 'ad' is not defined"
          ]
        }
      ],
      "source": [
        "df1=ad.City.value_counts()\n",
        "df1.plot(kind='line')"
      ]
    },
    {
      "cell_type": "code",
      "execution_count": null,
      "metadata": {
        "id": "okQSrnoSOcI-"
      },
      "outputs": [],
      "source": [
        "df1=ad.City.value_counts()\n",
        "df.plot(kind='line')"
      ]
    },
    {
      "cell_type": "code",
      "execution_count": null,
      "metadata": {
        "id": "Ix8W0NFSV3MP"
      },
      "outputs": [],
      "source": [
        "# 1.10.1 How many conutries\n",
        "ad.Country.nunique()                    # 237 countries\n",
        "print(\"--\")\n",
        "ad.Country.value_counts()               # Mostly 2 per country"
      ]
    },
    {
      "cell_type": "code",
      "execution_count": null,
      "metadata": {
        "id": "BPGoOirsFc9R"
      },
      "outputs": [],
      "source": [
        "\n",
        "cnt1=ad.Country.value_counts().sort_values()\n",
        "cnt1\n",
        "cnt1.plot(kind = 'bar',\n",
        "           figsize = (10,3),\n",
        "           title = \"Distribution of Countries\")\n"
      ]
    },
    {
      "cell_type": "code",
      "execution_count": null,
      "metadata": {
        "id": "746OJUBVPMjb"
      },
      "outputs": [],
      "source": [
        "df2=ad[\"Daily Internet Usage\"].value_counts().sort_values()\n",
        "df2.plot(kind='bar')"
      ]
    },
    {
      "cell_type": "code",
      "execution_count": null,
      "metadata": {
        "id": "tjCBXI9GBsVK"
      },
      "outputs": [],
      "source": [
        "# 1.10.2 Plot the above distribution:\n",
        "#        See: https://pandas.pydata.org/docs/reference/api/pandas.DataFrame.plot.html\n",
        "\n",
        "cntry = ad.Country.value_counts() \n",
        "cntry.plot(\n",
        "           kind = 'bar',\n",
        "           figsize = (30,10),\n",
        "           title = \"Distribution of Countries\"\n",
        "           ) ;"
      ]
    },
    {
      "cell_type": "code",
      "execution_count": null,
      "metadata": {
        "id": "GTGVfy4EV6o1",
        "colab": {
          "base_uri": "https://localhost:8080/"
        },
        "outputId": "6cb54695-ee53-4df9-da81-f83df481a5ad"
      },
      "outputs": [
        {
          "output_type": "execute_result",
          "data": {
            "text/plain": [
              "0    519\n",
              "1    481\n",
              "Name: Male, dtype: int64"
            ]
          },
          "metadata": {},
          "execution_count": 122
        }
      ],
      "source": [
        "# 1.10.3 Distribution of gender\n",
        "\n",
        "ad.Male.value_counts()                  # 519:481\n"
      ]
    },
    {
      "cell_type": "code",
      "execution_count": null,
      "metadata": {
        "id": "UDkGjN9oV_bz",
        "colab": {
          "base_uri": "https://localhost:8080/"
        },
        "outputId": "9f61421d-e570-4a2c-8b6f-df6d5a914cf8"
      },
      "outputs": [
        {
          "output_type": "execute_result",
          "data": {
            "text/plain": [
              "0    500\n",
              "1    500\n",
              "Name: Clicked on Ad, dtype: int64"
            ]
          },
          "metadata": {},
          "execution_count": 123
        }
      ],
      "source": [
        "# 1.10.4 Distribution of clicks\n",
        "\n",
        "ad['Clicked on Ad'].value_counts()      # 1 and 0 in the ratio of 500:500\n",
        "                                        # This is highly optimistic. Genrally clicks may be 1%\n"
      ]
    },
    {
      "cell_type": "markdown",
      "metadata": {
        "id": "k7L6zq-KKwGF"
      },
      "source": [
        "## Save processed data"
      ]
    },
    {
      "cell_type": "code",
      "execution_count": null,
      "metadata": {
        "id": "AWmi2jkMKzNN"
      },
      "outputs": [],
      "source": [
        "# 1.11 Save processed data:\n",
        "#      csv format\n",
        "#      Data types on reading will be default(64 bits)\n",
        "\n",
        "ad.to_csv(\"ad_processed.csv\", index = False)\n",
        "\n",
        "# 1.12     pickle format\n",
        "#          Has complete dataframe information\n",
        "#          including data types\n",
        "#          File size is more than csv file\n",
        "\n",
        "ad.to_pickle(\"ad_processed.pkl\")"
      ]
    },
    {
      "cell_type": "markdown",
      "metadata": {
        "id": "ehAVr5DuZi48"
      },
      "source": [
        "## Feature Engineering"
      ]
    },
    {
      "cell_type": "code",
      "execution_count": null,
      "metadata": {
        "id": "dwWlufvDWENr"
      },
      "outputs": [],
      "source": [
        "#############################\n",
        "# 2.0 Engineering  features + More\n",
        "#############################\n",
        "\n",
        "## Discretisation\n",
        "#   a. Cut column 'Age' into 3 equal parts--age_cat\n",
        "#   b. Cut 'Area Income' into 3 equal parts\n",
        "#   c. Create a column of length of  'Ad Topic Line'\n",
        "#   d. Create a column of no of words in  'Ad Topic Line'\n",
        "## Replace by Category count\n",
        "#   e. Create a column of 'City' count\n",
        "#   f. Create a column of 'Country' count\n",
        "#   g. Create a column of 'City' & 'Country' count\n",
        "## Date and time columns\n",
        "#   h. Extract from Timestamp, hour-of-day, weekday, months\n",
        "## Using 'map'\n",
        "#   i.Transform 'hour_of_day' to \"earlymorning\", \"morning\", \"afternoon\", \"evening\", \"night\",\"latenight\"\n",
        "#   j. Transform 'weekday' to 0,1,2,3,4,5,6\n",
        "#   k. Transform months to Qtr1, Qtr2, Qtr3, Qtr4\n",
        "## Rename columns\n",
        "#   l. Assign new and shorter column names to a few columns\n"
      ]
    },
    {
      "cell_type": "markdown",
      "metadata": {
        "id": "2_bHlcEBZp7I"
      },
      "source": [
        "### Continuous to discrete"
      ]
    },
    {
      "cell_type": "markdown",
      "metadata": {
        "id": "GiotTBgIVRKh"
      },
      "source": [
        "#### A quick demo of cut and qcut"
      ]
    },
    {
      "cell_type": "code",
      "execution_count": null,
      "metadata": {
        "colab": {
          "base_uri": "https://localhost:8080/",
          "height": 569
        },
        "id": "XR1IxEYDS3fw",
        "outputId": "d8906dd4-4d78-4987-b5ec-f37d5d53658f"
      },
      "outputs": [
        {
          "output_type": "execute_result",
          "data": {
            "text/plain": [
              "array([15, 15, 17, 19, 19, 22, 33, 47, 48, 52, 52, 57, 66, 70, 71, 86])"
            ]
          },
          "metadata": {},
          "execution_count": 12
        },
        {
          "output_type": "execute_result",
          "data": {
            "text/plain": [
              "     a\n",
              "15  15\n",
              "15  15\n",
              "17  17\n",
              "19  19\n",
              "19  19\n",
              "22  22\n",
              "33  33\n",
              "47  47\n",
              "48  48\n",
              "52  52\n",
              "52  52\n",
              "57  57\n",
              "66  66\n",
              "70  70\n",
              "71  71\n",
              "86  86"
            ],
            "text/html": [
              "\n",
              "  <div id=\"df-9619e3c1-03d5-4fb7-8eb9-370857f49ac5\">\n",
              "    <div class=\"colab-df-container\">\n",
              "      <div>\n",
              "<style scoped>\n",
              "    .dataframe tbody tr th:only-of-type {\n",
              "        vertical-align: middle;\n",
              "    }\n",
              "\n",
              "    .dataframe tbody tr th {\n",
              "        vertical-align: top;\n",
              "    }\n",
              "\n",
              "    .dataframe thead th {\n",
              "        text-align: right;\n",
              "    }\n",
              "</style>\n",
              "<table border=\"1\" class=\"dataframe\">\n",
              "  <thead>\n",
              "    <tr style=\"text-align: right;\">\n",
              "      <th></th>\n",
              "      <th>a</th>\n",
              "    </tr>\n",
              "  </thead>\n",
              "  <tbody>\n",
              "    <tr>\n",
              "      <th>15</th>\n",
              "      <td>15</td>\n",
              "    </tr>\n",
              "    <tr>\n",
              "      <th>15</th>\n",
              "      <td>15</td>\n",
              "    </tr>\n",
              "    <tr>\n",
              "      <th>17</th>\n",
              "      <td>17</td>\n",
              "    </tr>\n",
              "    <tr>\n",
              "      <th>19</th>\n",
              "      <td>19</td>\n",
              "    </tr>\n",
              "    <tr>\n",
              "      <th>19</th>\n",
              "      <td>19</td>\n",
              "    </tr>\n",
              "    <tr>\n",
              "      <th>22</th>\n",
              "      <td>22</td>\n",
              "    </tr>\n",
              "    <tr>\n",
              "      <th>33</th>\n",
              "      <td>33</td>\n",
              "    </tr>\n",
              "    <tr>\n",
              "      <th>47</th>\n",
              "      <td>47</td>\n",
              "    </tr>\n",
              "    <tr>\n",
              "      <th>48</th>\n",
              "      <td>48</td>\n",
              "    </tr>\n",
              "    <tr>\n",
              "      <th>52</th>\n",
              "      <td>52</td>\n",
              "    </tr>\n",
              "    <tr>\n",
              "      <th>52</th>\n",
              "      <td>52</td>\n",
              "    </tr>\n",
              "    <tr>\n",
              "      <th>57</th>\n",
              "      <td>57</td>\n",
              "    </tr>\n",
              "    <tr>\n",
              "      <th>66</th>\n",
              "      <td>66</td>\n",
              "    </tr>\n",
              "    <tr>\n",
              "      <th>70</th>\n",
              "      <td>70</td>\n",
              "    </tr>\n",
              "    <tr>\n",
              "      <th>71</th>\n",
              "      <td>71</td>\n",
              "    </tr>\n",
              "    <tr>\n",
              "      <th>86</th>\n",
              "      <td>86</td>\n",
              "    </tr>\n",
              "  </tbody>\n",
              "</table>\n",
              "</div>\n",
              "      <button class=\"colab-df-convert\" onclick=\"convertToInteractive('df-9619e3c1-03d5-4fb7-8eb9-370857f49ac5')\"\n",
              "              title=\"Convert this dataframe to an interactive table.\"\n",
              "              style=\"display:none;\">\n",
              "        \n",
              "  <svg xmlns=\"http://www.w3.org/2000/svg\" height=\"24px\"viewBox=\"0 0 24 24\"\n",
              "       width=\"24px\">\n",
              "    <path d=\"M0 0h24v24H0V0z\" fill=\"none\"/>\n",
              "    <path d=\"M18.56 5.44l.94 2.06.94-2.06 2.06-.94-2.06-.94-.94-2.06-.94 2.06-2.06.94zm-11 1L8.5 8.5l.94-2.06 2.06-.94-2.06-.94L8.5 2.5l-.94 2.06-2.06.94zm10 10l.94 2.06.94-2.06 2.06-.94-2.06-.94-.94-2.06-.94 2.06-2.06.94z\"/><path d=\"M17.41 7.96l-1.37-1.37c-.4-.4-.92-.59-1.43-.59-.52 0-1.04.2-1.43.59L10.3 9.45l-7.72 7.72c-.78.78-.78 2.05 0 2.83L4 21.41c.39.39.9.59 1.41.59.51 0 1.02-.2 1.41-.59l7.78-7.78 2.81-2.81c.8-.78.8-2.07 0-2.86zM5.41 20L4 18.59l7.72-7.72 1.47 1.35L5.41 20z\"/>\n",
              "  </svg>\n",
              "      </button>\n",
              "      \n",
              "  <style>\n",
              "    .colab-df-container {\n",
              "      display:flex;\n",
              "      flex-wrap:wrap;\n",
              "      gap: 12px;\n",
              "    }\n",
              "\n",
              "    .colab-df-convert {\n",
              "      background-color: #E8F0FE;\n",
              "      border: none;\n",
              "      border-radius: 50%;\n",
              "      cursor: pointer;\n",
              "      display: none;\n",
              "      fill: #1967D2;\n",
              "      height: 32px;\n",
              "      padding: 0 0 0 0;\n",
              "      width: 32px;\n",
              "    }\n",
              "\n",
              "    .colab-df-convert:hover {\n",
              "      background-color: #E2EBFA;\n",
              "      box-shadow: 0px 1px 2px rgba(60, 64, 67, 0.3), 0px 1px 3px 1px rgba(60, 64, 67, 0.15);\n",
              "      fill: #174EA6;\n",
              "    }\n",
              "\n",
              "    [theme=dark] .colab-df-convert {\n",
              "      background-color: #3B4455;\n",
              "      fill: #D2E3FC;\n",
              "    }\n",
              "\n",
              "    [theme=dark] .colab-df-convert:hover {\n",
              "      background-color: #434B5C;\n",
              "      box-shadow: 0px 1px 3px 1px rgba(0, 0, 0, 0.15);\n",
              "      filter: drop-shadow(0px 1px 2px rgba(0, 0, 0, 0.3));\n",
              "      fill: #FFFFFF;\n",
              "    }\n",
              "  </style>\n",
              "\n",
              "      <script>\n",
              "        const buttonEl =\n",
              "          document.querySelector('#df-9619e3c1-03d5-4fb7-8eb9-370857f49ac5 button.colab-df-convert');\n",
              "        buttonEl.style.display =\n",
              "          google.colab.kernel.accessAllowed ? 'block' : 'none';\n",
              "\n",
              "        async function convertToInteractive(key) {\n",
              "          const element = document.querySelector('#df-9619e3c1-03d5-4fb7-8eb9-370857f49ac5');\n",
              "          const dataTable =\n",
              "            await google.colab.kernel.invokeFunction('convertToInteractive',\n",
              "                                                     [key], {});\n",
              "          if (!dataTable) return;\n",
              "\n",
              "          const docLinkHtml = 'Like what you see? Visit the ' +\n",
              "            '<a target=\"_blank\" href=https://colab.research.google.com/notebooks/data_table.ipynb>data table notebook</a>'\n",
              "            + ' to learn more about interactive tables.';\n",
              "          element.innerHTML = '';\n",
              "          dataTable['output_type'] = 'display_data';\n",
              "          await google.colab.output.renderOutput(dataTable, element);\n",
              "          const docLink = document.createElement('div');\n",
              "          docLink.innerHTML = docLinkHtml;\n",
              "          element.appendChild(docLink);\n",
              "        }\n",
              "      </script>\n",
              "    </div>\n",
              "  </div>\n",
              "  "
            ]
          },
          "metadata": {},
          "execution_count": 12
        }
      ],
      "source": [
        "# 1.11\n",
        "rnd = rng.integers(10,100, size = (16))\n",
        "rnd.sort()\n",
        "rnd\n",
        "demo = pd.DataFrame({'a' : rnd}, index=rnd )\n",
        "demo"
      ]
    },
    {
      "cell_type": "code",
      "execution_count": null,
      "metadata": {
        "id": "cu01XFgAJJkd"
      },
      "outputs": [],
      "source": [
        "rnd = rng.integers(10,100, size = (16))\n",
        "rnd.sort()\n"
      ]
    },
    {
      "cell_type": "code",
      "execution_count": null,
      "metadata": {
        "colab": {
          "base_uri": "https://localhost:8080/"
        },
        "id": "l-efz4OZJYfs",
        "outputId": "11a76d44-f372-46c2-c64c-9fdb990a1639"
      },
      "outputs": [
        {
          "output_type": "execute_result",
          "data": {
            "text/plain": [
              "A \n",
              "43    2\n",
              "50    2\n",
              "13    1\n",
              "20    1\n",
              "28    1\n",
              "29    1\n",
              "38    1\n",
              "40    1\n",
              "42    1\n",
              "48    1\n",
              "54    1\n",
              "65    1\n",
              "72    1\n",
              "92    1\n",
              "dtype: int64"
            ]
          },
          "metadata": {},
          "execution_count": 14
        }
      ],
      "source": [
        "demo=pd.DataFrame(rnd, columns={'A'})\n",
        "demo.value_counts()"
      ]
    },
    {
      "cell_type": "code",
      "execution_count": null,
      "metadata": {
        "colab": {
          "base_uri": "https://localhost:8080/",
          "height": 587
        },
        "id": "4fxU14XNUtOu",
        "outputId": "24d9b2cd-8287-4407-9503-2a1fd155166f"
      },
      "outputs": [
        {
          "output_type": "error",
          "ename": "KeyError",
          "evalue": "ignored",
          "traceback": [
            "\u001b[0;31m---------------------------------------------------------------------------\u001b[0m",
            "\u001b[0;31mKeyError\u001b[0m                                  Traceback (most recent call last)",
            "\u001b[0;32m/usr/local/lib/python3.7/dist-packages/pandas/core/indexes/base.py\u001b[0m in \u001b[0;36mget_loc\u001b[0;34m(self, key, method, tolerance)\u001b[0m\n\u001b[1;32m   3360\u001b[0m             \u001b[0;32mtry\u001b[0m\u001b[0;34m:\u001b[0m\u001b[0;34m\u001b[0m\u001b[0;34m\u001b[0m\u001b[0m\n\u001b[0;32m-> 3361\u001b[0;31m                 \u001b[0;32mreturn\u001b[0m \u001b[0mself\u001b[0m\u001b[0;34m.\u001b[0m\u001b[0m_engine\u001b[0m\u001b[0;34m.\u001b[0m\u001b[0mget_loc\u001b[0m\u001b[0;34m(\u001b[0m\u001b[0mcasted_key\u001b[0m\u001b[0;34m)\u001b[0m\u001b[0;34m\u001b[0m\u001b[0;34m\u001b[0m\u001b[0m\n\u001b[0m\u001b[1;32m   3362\u001b[0m             \u001b[0;32mexcept\u001b[0m \u001b[0mKeyError\u001b[0m \u001b[0;32mas\u001b[0m \u001b[0merr\u001b[0m\u001b[0;34m:\u001b[0m\u001b[0;34m\u001b[0m\u001b[0;34m\u001b[0m\u001b[0m\n",
            "\u001b[0;32m/usr/local/lib/python3.7/dist-packages/pandas/_libs/index.pyx\u001b[0m in \u001b[0;36mpandas._libs.index.IndexEngine.get_loc\u001b[0;34m()\u001b[0m\n",
            "\u001b[0;32m/usr/local/lib/python3.7/dist-packages/pandas/_libs/index.pyx\u001b[0m in \u001b[0;36mpandas._libs.index.IndexEngine.get_loc\u001b[0;34m()\u001b[0m\n",
            "\u001b[0;32mpandas/_libs/hashtable_class_helper.pxi\u001b[0m in \u001b[0;36mpandas._libs.hashtable.PyObjectHashTable.get_item\u001b[0;34m()\u001b[0m\n",
            "\u001b[0;32mpandas/_libs/hashtable_class_helper.pxi\u001b[0m in \u001b[0;36mpandas._libs.hashtable.PyObjectHashTable.get_item\u001b[0;34m()\u001b[0m\n",
            "\u001b[0;31mKeyError\u001b[0m: 'a'",
            "\nThe above exception was the direct cause of the following exception:\n",
            "\u001b[0;31mKeyError\u001b[0m                                  Traceback (most recent call last)",
            "\u001b[0;32m<ipython-input-15-0d3a1d91731a>\u001b[0m in \u001b[0;36m<module>\u001b[0;34m\u001b[0m\n\u001b[1;32m      1\u001b[0m \u001b[0;31m# 1.12\u001b[0m\u001b[0;34m\u001b[0m\u001b[0;34m\u001b[0m\u001b[0;34m\u001b[0m\u001b[0m\n\u001b[0;32m----> 2\u001b[0;31m \u001b[0mpd\u001b[0m\u001b[0;34m.\u001b[0m\u001b[0mqcut\u001b[0m\u001b[0;34m(\u001b[0m\u001b[0mdemo\u001b[0m\u001b[0;34m[\u001b[0m\u001b[0;34m'a'\u001b[0m\u001b[0;34m]\u001b[0m\u001b[0;34m,\u001b[0m \u001b[0mq\u001b[0m \u001b[0;34m=\u001b[0m \u001b[0;36m4\u001b[0m\u001b[0;34m,\u001b[0m \u001b[0mlabels\u001b[0m \u001b[0;34m=\u001b[0m \u001b[0mlist\u001b[0m\u001b[0;34m(\u001b[0m\u001b[0;34m'abcd'\u001b[0m\u001b[0;34m)\u001b[0m\u001b[0;34m)\u001b[0m\u001b[0;34m\u001b[0m\u001b[0;34m\u001b[0m\u001b[0m\n\u001b[0m\u001b[1;32m      3\u001b[0m \u001b[0mprint\u001b[0m\u001b[0;34m(\u001b[0m\u001b[0;34m\"\\n---\\n\"\u001b[0m\u001b[0;34m)\u001b[0m\u001b[0;34m\u001b[0m\u001b[0;34m\u001b[0m\u001b[0m\n\u001b[1;32m      4\u001b[0m \u001b[0mpd\u001b[0m\u001b[0;34m.\u001b[0m\u001b[0mcut\u001b[0m\u001b[0;34m(\u001b[0m\u001b[0mdemo\u001b[0m\u001b[0;34m[\u001b[0m\u001b[0;34m'a'\u001b[0m\u001b[0;34m]\u001b[0m\u001b[0;34m,\u001b[0m \u001b[0mbins\u001b[0m \u001b[0;34m=\u001b[0m \u001b[0;36m4\u001b[0m\u001b[0;34m,\u001b[0m \u001b[0mlabels\u001b[0m \u001b[0;34m=\u001b[0m \u001b[0mlist\u001b[0m\u001b[0;34m(\u001b[0m\u001b[0;34m'wxyz'\u001b[0m\u001b[0;34m)\u001b[0m\u001b[0;34m)\u001b[0m\u001b[0;34m\u001b[0m\u001b[0;34m\u001b[0m\u001b[0m\n",
            "\u001b[0;32m/usr/local/lib/python3.7/dist-packages/pandas/core/frame.py\u001b[0m in \u001b[0;36m__getitem__\u001b[0;34m(self, key)\u001b[0m\n\u001b[1;32m   3456\u001b[0m             \u001b[0;32mif\u001b[0m \u001b[0mself\u001b[0m\u001b[0;34m.\u001b[0m\u001b[0mcolumns\u001b[0m\u001b[0;34m.\u001b[0m\u001b[0mnlevels\u001b[0m \u001b[0;34m>\u001b[0m \u001b[0;36m1\u001b[0m\u001b[0;34m:\u001b[0m\u001b[0;34m\u001b[0m\u001b[0;34m\u001b[0m\u001b[0m\n\u001b[1;32m   3457\u001b[0m                 \u001b[0;32mreturn\u001b[0m \u001b[0mself\u001b[0m\u001b[0;34m.\u001b[0m\u001b[0m_getitem_multilevel\u001b[0m\u001b[0;34m(\u001b[0m\u001b[0mkey\u001b[0m\u001b[0;34m)\u001b[0m\u001b[0;34m\u001b[0m\u001b[0;34m\u001b[0m\u001b[0m\n\u001b[0;32m-> 3458\u001b[0;31m             \u001b[0mindexer\u001b[0m \u001b[0;34m=\u001b[0m \u001b[0mself\u001b[0m\u001b[0;34m.\u001b[0m\u001b[0mcolumns\u001b[0m\u001b[0;34m.\u001b[0m\u001b[0mget_loc\u001b[0m\u001b[0;34m(\u001b[0m\u001b[0mkey\u001b[0m\u001b[0;34m)\u001b[0m\u001b[0;34m\u001b[0m\u001b[0;34m\u001b[0m\u001b[0m\n\u001b[0m\u001b[1;32m   3459\u001b[0m             \u001b[0;32mif\u001b[0m \u001b[0mis_integer\u001b[0m\u001b[0;34m(\u001b[0m\u001b[0mindexer\u001b[0m\u001b[0;34m)\u001b[0m\u001b[0;34m:\u001b[0m\u001b[0;34m\u001b[0m\u001b[0;34m\u001b[0m\u001b[0m\n\u001b[1;32m   3460\u001b[0m                 \u001b[0mindexer\u001b[0m \u001b[0;34m=\u001b[0m \u001b[0;34m[\u001b[0m\u001b[0mindexer\u001b[0m\u001b[0;34m]\u001b[0m\u001b[0;34m\u001b[0m\u001b[0;34m\u001b[0m\u001b[0m\n",
            "\u001b[0;32m/usr/local/lib/python3.7/dist-packages/pandas/core/indexes/base.py\u001b[0m in \u001b[0;36mget_loc\u001b[0;34m(self, key, method, tolerance)\u001b[0m\n\u001b[1;32m   3361\u001b[0m                 \u001b[0;32mreturn\u001b[0m \u001b[0mself\u001b[0m\u001b[0;34m.\u001b[0m\u001b[0m_engine\u001b[0m\u001b[0;34m.\u001b[0m\u001b[0mget_loc\u001b[0m\u001b[0;34m(\u001b[0m\u001b[0mcasted_key\u001b[0m\u001b[0;34m)\u001b[0m\u001b[0;34m\u001b[0m\u001b[0;34m\u001b[0m\u001b[0m\n\u001b[1;32m   3362\u001b[0m             \u001b[0;32mexcept\u001b[0m \u001b[0mKeyError\u001b[0m \u001b[0;32mas\u001b[0m \u001b[0merr\u001b[0m\u001b[0;34m:\u001b[0m\u001b[0;34m\u001b[0m\u001b[0;34m\u001b[0m\u001b[0m\n\u001b[0;32m-> 3363\u001b[0;31m                 \u001b[0;32mraise\u001b[0m \u001b[0mKeyError\u001b[0m\u001b[0;34m(\u001b[0m\u001b[0mkey\u001b[0m\u001b[0;34m)\u001b[0m \u001b[0;32mfrom\u001b[0m \u001b[0merr\u001b[0m\u001b[0;34m\u001b[0m\u001b[0;34m\u001b[0m\u001b[0m\n\u001b[0m\u001b[1;32m   3364\u001b[0m \u001b[0;34m\u001b[0m\u001b[0m\n\u001b[1;32m   3365\u001b[0m         \u001b[0;32mif\u001b[0m \u001b[0mis_scalar\u001b[0m\u001b[0;34m(\u001b[0m\u001b[0mkey\u001b[0m\u001b[0;34m)\u001b[0m \u001b[0;32mand\u001b[0m \u001b[0misna\u001b[0m\u001b[0;34m(\u001b[0m\u001b[0mkey\u001b[0m\u001b[0;34m)\u001b[0m \u001b[0;32mand\u001b[0m \u001b[0;32mnot\u001b[0m \u001b[0mself\u001b[0m\u001b[0;34m.\u001b[0m\u001b[0mhasnans\u001b[0m\u001b[0;34m:\u001b[0m\u001b[0;34m\u001b[0m\u001b[0;34m\u001b[0m\u001b[0m\n",
            "\u001b[0;31mKeyError\u001b[0m: 'a'"
          ]
        }
      ],
      "source": [
        "# 1.12\n",
        "pd.qcut(demo['a'], q = 4, labels = list('abcd'))\n",
        "print(\"\\n---\\n\")\n",
        "pd.cut(demo['a'], bins = 4, labels = list('wxyz'))"
      ]
    },
    {
      "cell_type": "code",
      "execution_count": null,
      "metadata": {
        "id": "kUkv5ijkjUqB"
      },
      "outputs": [],
      "source": [
        "# 1.12\n",
        "q = pd.qcut(demo['a'], q = 4, labels = list('abcd'))\n",
        "print(\"\\n---\\n\")\n",
        "c =pd.cut(demo['a'], bins = 4, labels = list('wxyz'))"
      ]
    },
    {
      "cell_type": "code",
      "execution_count": null,
      "metadata": {
        "id": "40zIgGWUoPiQ"
      },
      "outputs": [],
      "source": [
        "# 1.13 Make q and c part of demo dataframe\n",
        "demo['c'] = c    # Total range: 93. So cuts are at every 93/4= 19.75 interval\n",
        "                 #  that is (min, min+19.75), (min+19.75, min+39.5)...\n",
        "\n",
        "demo['q'] = q    # Total count: 16. So cuts are at every 4 numbers \n",
        "                 #  that is pts: 4,8,12 and 16\n",
        "demo"
      ]
    },
    {
      "cell_type": "markdown",
      "metadata": {
        "id": "7WssijQIhrNE"
      },
      "source": [
        "#### Transform ad columns now"
      ]
    },
    {
      "cell_type": "code",
      "execution_count": null,
      "metadata": {
        "id": "HOuIFADEWPAh"
      },
      "outputs": [],
      "source": [
        "# 2.1 Descretise continuos columns\n",
        "#     These are equal width bins as against\n",
        "#     equal data-points bins (quantile) or kmeans clusters\n",
        "#     Alternatively use KBinsDiscretizer of sklearn\n",
        "\n",
        "ad[\"age_cat\"] = pd.cut(\n",
        "                       ad['Age'],\n",
        "                       bins = 3,           # Else devise your bins: [0,20,60,110]\n",
        "                       labels= [\"y\", \"m\", \"s\"]\n",
        "                      )\n"
      ]
    },
    {
      "cell_type": "code",
      "execution_count": null,
      "metadata": {
        "id": "vK1KpNWj5O6p"
      },
      "outputs": [],
      "source": [
        "ad['age_cat'].value_counts()"
      ]
    },
    {
      "cell_type": "code",
      "execution_count": null,
      "metadata": {
        "id": "7SCPkXDI6hKE"
      },
      "outputs": [],
      "source": [
        "def checklen(s):\n",
        "  length=len(s)\n",
        "  return length\n"
      ]
    },
    {
      "cell_type": "code",
      "execution_count": null,
      "metadata": {
        "id": "vGeu8Lik7BoQ"
      },
      "outputs": [],
      "source": [
        "checklen(\"avi\")"
      ]
    },
    {
      "cell_type": "code",
      "execution_count": null,
      "metadata": {
        "id": "D4GLhHk77p5v"
      },
      "outputs": [],
      "source": []
    },
    {
      "cell_type": "code",
      "execution_count": null,
      "metadata": {
        "id": "FCvg0iw5WP30"
      },
      "outputs": [],
      "source": [
        "# 2.1.1\n",
        "ad[\"area_income_cat\"] = pd.cut(\n",
        "                               ad['Area Income'],\n",
        "                               bins = 3,\n",
        "                               labels= [\"l\", \"m\", \"h\"]\n",
        "                               )\n"
      ]
    },
    {
      "cell_type": "markdown",
      "metadata": {
        "id": "7VFU1t2NZwLw"
      },
      "source": [
        "### Feature eng for text column"
      ]
    },
    {
      "cell_type": "code",
      "execution_count": null,
      "metadata": {
        "id": "ZEoFdF_eWXEx"
      },
      "outputs": [],
      "source": [
        "# 2.2 Create a new column as per length of each ad-line\n",
        "#     Both the following lines do the same thing\n",
        "\n",
        "ad['AdTopicLineLength'] = ad['Ad Topic Line'].apply(lambda x : len(x))\n",
        "ad['AdTopicLineLength'] = ad['Ad Topic Line'].map(lambda x : len(x))\n"
      ]
    },
    {
      "cell_type": "code",
      "source": [
        "ad['Timestamp'].dt.minute"
      ],
      "metadata": {
        "id": "2uLg2tQ48Kzk"
      },
      "execution_count": null,
      "outputs": []
    },
    {
      "cell_type": "code",
      "source": [
        "ad['hour']=ad['Timestamp'].dt.hour\n",
        "pd.cut(ad['hour'], bins=[-1,5,14,15], labels=[\"em\",\"m\",\"h\"])"
      ],
      "metadata": {
        "id": "habwJKeN8n55"
      },
      "execution_count": null,
      "outputs": []
    },
    {
      "cell_type": "code",
      "source": [],
      "metadata": {
        "id": "dxnOuAEx-B9R"
      },
      "execution_count": null,
      "outputs": []
    },
    {
      "cell_type": "code",
      "execution_count": null,
      "metadata": {
        "id": "HcEF_bj7WbPM"
      },
      "outputs": [],
      "source": [
        "# 2.3 Create a new column as per number of words in each ad-line\n",
        "# Try \"good boy\".split(\" \")  and len(\"good boy.split(\" \"))\n",
        "\n",
        "\"good boy\".split(\" \")             # ['good', 'boy']\n",
        "print(\"\\n-------\\n\")\n",
        "len(\"good boy\".split(\" \"))        # 2\n",
        "print(\"\\n-------------\\n\")\n",
        "ad['Ad Topic Line'].map(lambda x : len(x.split(\" \")))\n"
      ]
    },
    {
      "cell_type": "code",
      "execution_count": null,
      "metadata": {
        "id": "PgwI57J8WgZK"
      },
      "outputs": [],
      "source": [
        "# 2.3.1 Note the use of apply(). This apply() works on complete Series\n",
        "#       to transform it rather than to summarise it as in groupby.\n",
        "\n",
        "ad['AdTopicNoOfWords'] = ad['Ad Topic Line'].apply(lambda x : len(x.split(\" \")))   # Note the use of apply()\n",
        "                                                                                   # This apply works on complete Series\n"
      ]
    },
    {
      "cell_type": "code",
      "execution_count": null,
      "metadata": {
        "id": "tALd_CkdW2vl"
      },
      "outputs": [],
      "source": [
        "# 2.4 A column that has countd of City and\n",
        "#       another column with count of Country columns\n",
        "#       Note the use of transform method here:\n",
        "#grouped = ad.groupby(['City'])\n",
        "#ad['City_count'] = grouped['City'].transform('count')   # count is a groupby method\n",
        "\n",
        "# 2.4.1 Same way for country\n",
        "#grouped = ad.groupby(['Country'])\n",
        "#ad['Country_count'] = grouped['Country'].transform('count')   # count is a groupby method\n",
        "\n",
        "\n",
        "# 2.5 Extract date components using Series.dt accessor\n",
        "#     https://pandas.pydata.org/pandas-docs/stable/reference/series.html#api-series-dt\n",
        "#     https://pandas.pydata.org/pandas-docs/stable/reference/series.html#datetime-properties\n"
      ]
    },
    {
      "cell_type": "markdown",
      "metadata": {
        "id": "KlIW9JCvZ2Bi"
      },
      "source": [
        "### Feature Eng for Timestamp"
      ]
    },
    {
      "cell_type": "code",
      "execution_count": null,
      "metadata": {
        "id": "214HlKzTW8X9",
        "colab": {
          "base_uri": "https://localhost:8080/",
          "height": 225
        },
        "outputId": "9d6f4636-0040-42b9-9a5f-6eb19c38942b"
      },
      "outputs": [
        {
          "output_type": "error",
          "ename": "NameError",
          "evalue": "ignored",
          "traceback": [
            "\u001b[0;31m---------------------------------------------------------------------------\u001b[0m",
            "\u001b[0;31mNameError\u001b[0m                                 Traceback (most recent call last)",
            "\u001b[0;32m<ipython-input-14-3fcb02e49258>\u001b[0m in \u001b[0;36m<module>\u001b[0;34m\u001b[0m\n\u001b[1;32m      1\u001b[0m \u001b[0;31m# 3.0 What is the type of 'dt'\u001b[0m\u001b[0;34m\u001b[0m\u001b[0;34m\u001b[0m\u001b[0;34m\u001b[0m\u001b[0m\n\u001b[1;32m      2\u001b[0m \u001b[0;34m\u001b[0m\u001b[0m\n\u001b[0;32m----> 3\u001b[0;31m \u001b[0mtype\u001b[0m\u001b[0;34m(\u001b[0m\u001b[0mad\u001b[0m\u001b[0;34m[\u001b[0m\u001b[0;34m'Timestamp'\u001b[0m\u001b[0;34m]\u001b[0m\u001b[0;34m.\u001b[0m\u001b[0mdt\u001b[0m\u001b[0;34m)\u001b[0m    \u001b[0;31m# Accessor like get()\u001b[0m\u001b[0;34m\u001b[0m\u001b[0;34m\u001b[0m\u001b[0m\n\u001b[0m\u001b[1;32m      4\u001b[0m                             \u001b[0;31m# pandas.core.indexes.accessors.DatetimeProperties\u001b[0m\u001b[0;34m\u001b[0m\u001b[0;34m\u001b[0m\u001b[0;34m\u001b[0m\u001b[0m\n",
            "\u001b[0;31mNameError\u001b[0m: name 'ad' is not defined"
          ]
        }
      ],
      "source": [
        "# 3.0 What is the type of 'dt'\n",
        "\n",
        "type(ad['Timestamp'].dt)    # Accessor like get()\n",
        "                            # pandas.core.indexes.accessors.DatetimeProperties\n"
      ]
    },
    {
      "cell_type": "code",
      "execution_count": null,
      "metadata": {
        "id": "FrcV17VAXxBX"
      },
      "outputs": [],
      "source": [
        "# 3.1\n",
        "ad['hour'] = ad['Timestamp'].dt.hour"
      ]
    },
    {
      "cell_type": "code",
      "execution_count": null,
      "metadata": {
        "id": "yrcf_m2qX4wV"
      },
      "outputs": [],
      "source": [
        "# 3.2\n",
        "pd.cut(ad['hour'], bins = [0,5,9,12,16,20, 24] , labels= [\"em\", \"m\", \"d\", \"af\", \"ev\", \"night\"])"
      ]
    },
    {
      "cell_type": "code",
      "execution_count": null,
      "metadata": {
        "id": "8RaoFJeMXEob"
      },
      "outputs": [],
      "source": [
        "# 3.3 Extract hour, weekday and month\n",
        "ad['hourOfDay']    = ad['Timestamp'].dt.hour\n",
        "ad['weekday']      = ad['Timestamp'].dt.weekday\n",
        "ad['quarter']      = ad['Timestamp'].dt.month # First we get month. Then we map month to quarter\n",
        "                                              #   See below\n"
      ]
    },
    {
      "cell_type": "code",
      "source": [
        "\n"
      ],
      "metadata": {
        "id": "geYtWkVB-KOs"
      },
      "execution_count": null,
      "outputs": []
    },
    {
      "cell_type": "code",
      "execution_count": null,
      "metadata": {
        "id": "PG9SrE4CXqFX"
      },
      "outputs": [],
      "source": [
        "# 4.0\n",
        "def monthQ(x):\n",
        "    if 0 < x <= 3:\n",
        "        return 1            # Quarter 1\n",
        "    if 3 < x <= 6:\n",
        "        return 2            # Quarter 2\n",
        "    if 6 < x <= 9:\n",
        "        return 3            # Quarter 3\n",
        "    if 9 < x <= 12:\n",
        "        return 4            # Quarter 4\n"
      ]
    },
    {
      "cell_type": "code",
      "source": [
        "ad['quarter']      = ad['quarter'].apply(lambda x: monthQ(x))\n",
        "ad['quarter'] "
      ],
      "metadata": {
        "id": "1pS8t2QaAuY4"
      },
      "execution_count": null,
      "outputs": []
    },
    {
      "cell_type": "code",
      "source": [
        "ad['quarter']      = ad['quarter'].apply(lambda x: monthQ(x))\n",
        "ad['quarter'].value_counts()\n",
        "dx={1:1, 2:1, 3:1, 4:2, 5:2, 6:2, 7:3, 8:3}\n",
        "ad['quarter1'] =ad['quarter']"
      ],
      "metadata": {
        "id": "c0jVDMIH-P4H"
      },
      "execution_count": null,
      "outputs": []
    },
    {
      "cell_type": "code",
      "execution_count": null,
      "metadata": {
        "id": "iGP7ag22XyW2"
      },
      "outputs": [],
      "source": [
        "# 4.0.1\n",
        "ad['quarter'] = ad['quarter'].map(lambda x : monthQ(x))   # Which quarter clicked\n",
        "\n",
        "ad[['Timestamp','quarter']].head(2)   # Just check"
      ]
    },
    {
      "cell_type": "markdown",
      "metadata": {
        "id": "hWweKrn1aC1f"
      },
      "source": [
        "### Columns renaming"
      ]
    },
    {
      "cell_type": "code",
      "execution_count": null,
      "metadata": {
        "id": "SDCUSczZX3Jj"
      },
      "outputs": [],
      "source": [
        "# 4.1 So finally what are col names?\n",
        "ad.columns.values\n",
        "print(\"-------\\n\")\n",
        "ad.shape               # (1000, 17)  Earlier shape was (1000, 10)\n"
      ]
    },
    {
      "cell_type": "code",
      "execution_count": null,
      "metadata": {
        "id": "0wnYx_2vX37a"
      },
      "outputs": [],
      "source": [
        "# 4.2 Let us rename some columns; remove spaces\n",
        "\n",
        "new_col_names  = {\n",
        "                 'Daily Time Spent on Site' :  'DailyTimeSpentonSite',\n",
        "                 'Area Income'              : 'AreaIncome',\n",
        "                 'Daily Internet Usage'     : 'DailyInternetUsage',\n",
        "                 'Clicked on Ad'            : 'Clicked_on_ad',\n",
        "                 'Male'                     : 'Gender'\n",
        "              }\n"
      ]
    },
    {
      "cell_type": "code",
      "source": [
        "ad.columns\n"
      ],
      "metadata": {
        "id": "7QFH74nSD2Lx"
      },
      "execution_count": null,
      "outputs": []
    },
    {
      "cell_type": "code",
      "source": [],
      "metadata": {
        "id": "1yseyo2jD79r"
      },
      "execution_count": null,
      "outputs": []
    },
    {
      "cell_type": "code",
      "execution_count": null,
      "metadata": {
        "id": "Euw7qNHBX_m0"
      },
      "outputs": [],
      "source": [
        "# 4.2.1\n",
        "ad.rename(\n",
        "         columns = new_col_names,\n",
        "         inplace = True,\n",
        "         )\n"
      ]
    },
    {
      "cell_type": "code",
      "execution_count": null,
      "metadata": {
        "id": "ZFMwpNGTYDjc"
      },
      "outputs": [],
      "source": [
        "#4.2.2 Check renaming:\n",
        "ad.head(3)\n",
        "ad.columns.values\n"
      ]
    },
    {
      "cell_type": "code",
      "source": [
        "pig=sns.load_dataset(\"penguins\")"
      ],
      "metadata": {
        "id": "5pmkZ0EMsGSy"
      },
      "execution_count": null,
      "outputs": []
    },
    {
      "cell_type": "markdown",
      "metadata": {
        "id": "I2ue2RsPaH4_"
      },
      "source": [
        "## Plotting"
      ]
    },
    {
      "cell_type": "markdown",
      "metadata": {
        "id": "FbOhDfmhGtNM"
      },
      "source": [
        "### About plots"
      ]
    },
    {
      "cell_type": "code",
      "execution_count": null,
      "metadata": {
        "id": "q6z3i0oaYIUS"
      },
      "outputs": [],
      "source": [
        "##################\n",
        "# 5 Plotting\n",
        "##################\n",
        "# A summary of syntax of important plots\n",
        "#---------------------------------------\n",
        "# 1. sns.displot()\n",
        "#    (note: sns.distplot() is depreciated)\n",
        "# https://seaborn.pydata.org/generated/seaborn.distplot.html\n",
        "# https://seaborn.pydata.org/generated/seaborn.displot.html#seaborn.displot\n",
        "# displot(data=None, *, x=None, y=None, hue=None, row=None,\n",
        "#         col=None, weights=None, kind='hist', rug=False,\n",
        "#         rug_kws=None, log_scale=None, legend=True, palette=None,\n",
        "#         hue_order=None, hue_norm=None, color=None, col_wrap=None,\n",
        "#         row_order=None, col_order=None, height=5, aspect=1, facet_kws=None,\n",
        "#         **kwargs)\n",
        "#         kind: 'hist', 'kde', 'ecdf'\n",
        "###$$$$\n",
        "# Note: 'displot' DOSES not take 'ax' argument. So if you need to use, 'ax'\n",
        "#       argument, use: histplot, kdeplot, ecdfplot\n",
        "###$$$$\n"
      ]
    },
    {
      "cell_type": "code",
      "execution_count": null,
      "metadata": {
        "id": "Bb-Cm8fBYNVp"
      },
      "outputs": [],
      "source": [
        "# 2. sns.jointplot()\n",
        "# http://seaborn.pydata.org/generated/seaborn.jointplot.html\n",
        "# jointplot(x, y, data=None, kind='scatter',\n",
        "#          stat_func=None, color=None, height=6, ratio=5, space=0.2,\n",
        "#          dropna=True, xlim=None, ylim=None, joint_kws=None, marginal_kws=None,\n",
        "#          annot_kws=None, **kwargs)\n",
        "#         kind: { “scatter” | “kde” | “hist” | “hex” | “reg” | “resid” }\n",
        "#\n",
        "###$$$$\n",
        "# Note: 'jointplot' DOSES not take 'ax' argument. So if you need to use, 'ax' argument\n",
        "#       use: scatterplot, kdelot, histplot, regplot, residplot\n",
        "###$$$$\n"
      ]
    },
    {
      "cell_type": "code",
      "execution_count": null,
      "metadata": {
        "id": "qxiO435IYS-6"
      },
      "outputs": [],
      "source": [
        "# 3. sns.replplot()\n",
        "# https://seaborn.pydata.org/generated/seaborn.relplot.html\n",
        "# relplot(x=None, y=None, hue=None, size=None, style=None, data=None, row=None,\n",
        "#        col=None, col_wrap=None, row_order=None, col_order=None, palette=None,\n",
        "#        hue_order=None, hue_norm=None, sizes=None, size_order=None, size_norm=None,\n",
        "#        markers=None, dashes=None, style_order=None, legend='brief', kind='scatter',\n",
        "#        height=5, aspect=1, facet_kws=None, **kwargs)\n",
        "#        kind: 'scatter' or 'line'\n"
      ]
    },
    {
      "cell_type": "code",
      "execution_count": null,
      "metadata": {
        "id": "D05TmhflYWtc"
      },
      "outputs": [],
      "source": [
        "# 4. sns.catplot()\n",
        "# https://seaborn.pydata.org/generated/seaborn.catplot.html\n",
        "# catplot(*, x=None, y=None, hue=None, data=None, row=None,col=None, col_wrap=None,\n",
        "#         estimator=<function mean at 0x7fecadf1cee0>, height=5, aspect=1, orient=None,\n",
        "#         ci=95, n_boot=1000, units=None, seed=None, order=None, hue_order=None,\n",
        "#         row_order=None, col_order=None, kind='strip',sharex=True, sharey=True,\n",
        "#         color=None, palette=None, legend=True, legend_out=True,\n",
        "#         margin_titles=False, facet_kws=None, **kwargs )\n",
        "#         kind:  “strip”, “swarm”, “box”, “violin”, “boxen”, “point”, “bar”, or “count”\n",
        "#\n",
        "###$$$$\n",
        "# Note: 'catplot' DOSES not take 'ax' argument. So if you need to use, 'ax' argument\n",
        "#       use: stripplot, swarmplot, boxplot, violinplot,boxenplot,barplot, countplot\n",
        "###$$$$\n",
        "#"
      ]
    },
    {
      "cell_type": "code",
      "execution_count": null,
      "metadata": {
        "id": "HZk3aKNyYhw7"
      },
      "outputs": [],
      "source": [
        "# 5. sns.barplot()\n",
        "#    https://seaborn.pydata.org/generated/seaborn.barplot.html\n",
        "# barplot(*, x=None, y=None, hue=None, data=None, order=None, hue_order=None,\n",
        "#         estimator=<function mean at 0x7fecadf1cee0>, ci=95, n_boot=1000,\n",
        "#         units=None, seed=None, orient=None, color=None, palette=None,\n",
        "#         saturation=0.75, errcolor='.26', errwidth=None, capsize=None,\n",
        "#         dodge=True, ax=None, **kwargs)\n",
        "#\n",
        "###$$$$\n",
        "# Note: For plotting counts of a single cat feature, use 'countplot'\n",
        "#       For summarising another continuous function, against cat-feature\n",
        "#       use barplot with estimator of np.sum, np.mean etc\n",
        "###$$$$\n",
        "#\n"
      ]
    },
    {
      "cell_type": "markdown",
      "metadata": {
        "id": "2DYDdhPeGxmq"
      },
      "source": [
        "### Our plotting questions"
      ]
    },
    {
      "cell_type": "code",
      "execution_count": null,
      "metadata": {
        "id": "ZXnlBGEqYihk"
      },
      "outputs": [],
      "source": [
        "####################################\n",
        "## Plotting questions that we will answer\n",
        "####################################\n",
        "#\n",
        "## 1 Understand your numeric data\n",
        "##   How is it distributed.\n",
        "\n",
        "# Question 1: How is Age distributed?\n",
        "# Question 2: How is DailyTimeSpentonSite distributed?\n",
        "# Question 3: How is AreaIncome distributed?\n",
        "# Question 4: Use for loop to draw the distribution plots for the following\n",
        "#             columns = ['Age', 'AreaIncome', 'DailyInternetUsage', 'DailyTimeSpentonSite']\n",
        "\n",
        "# 2.0 Relationship of numeric variable with a categorical variable\n",
        "\n",
        "# Question 5: How is 'Age' related to clicking?\n",
        "# Question 6: How is DailyInternetUsage related to clicking?\n",
        "# Question 7: How is 'AreaIncome' related to clicking?\n",
        "# Question 8: Draw all the following relationship plots at one go:\n",
        "#               columns = ['Age', 'AreaIncome', 'DailyInternetUsage', 'DailyTimeSpentonSite']\n",
        "#               catVar = ['Clicked_on_ad', 'age_cat' ]\n",
        "\n",
        "# 3.0 Relationship of numeric to numeric variables\n",
        "#     Using jointplots:\n",
        "\n",
        "# Question 9:  Show joint distribution of DailyTimeSpentonSite and AreaIncome\n",
        "# Question 10: Show joint distribution of DailyInternetUsage and DailyTimeSpentonSite\n",
        "# Question 11: Show these plots as kernel density as also 'hex' as also\n",
        "#              draw regression line\n",
        "\n",
        "# 4.0 Relationship of a categorical to another categorical variable\n",
        "\n",
        "# Question 12: What relationship exist between 'Clicked_on_ad' and 'Gender'?\n",
        "# Question 13: What relationship exist between 'DailyTimeSpentonSite' and 'Gender'?\n",
        "# Question 14: Relationship between Gender and Clicked_on_ad, subset by 'age_cat wise\n",
        "\n",
        "# 5.0 Relationship between two categorical and one numeric variable\n",
        "\n",
        "# Question 15: Hour and weekday wise when are clicks most\n",
        "# Question 16: Quarter wise and weekday wise when are clicks most\n",
        "# Question 17: Quarter wise and weekday wise when are DailyInternetUsage max and min\n",
        "\n",
        "# 6.0 Structure in data\n",
        "# Question 18: Does data exhibit any pattern with respect to 'Clicked_on_ad'\n",
        "#              Explore how good the patterns are. Stronger patterns will lead\n",
        "#              to better classifications\n",
        "#\n",
        "\n"
      ]
    },
    {
      "cell_type": "markdown",
      "metadata": {
        "id": "QI5_9S9xG2p5"
      },
      "source": [
        "### Start plotting"
      ]
    },
    {
      "cell_type": "code",
      "execution_count": null,
      "metadata": {
        "colab": {
          "base_uri": "https://localhost:8080/"
        },
        "id": "fxbBRH-dH0R2",
        "outputId": "52af1296-efe4-4c6a-bd9e-3bee9d888f61"
      },
      "outputs": [
        {
          "output_type": "execute_result",
          "data": {
            "text/plain": [
              "(500, 10)"
            ]
          },
          "metadata": {},
          "execution_count": 25
        }
      ],
      "source": [
        "# 5.0.1 Sample data:\n",
        "#       This step is academic here. But for large datasets,\n",
        "#       there is a need to sample data before plotting so\n",
        "#       that they do not crowd limited X-Y space\n",
        "\n",
        "dn = ad.sample(frac = 0.5)    # Extract 50% sample of data\n",
        "dn.shape      # (500,20)"
      ]
    },
    {
      "cell_type": "code",
      "source": [
        "data.columns"
      ],
      "metadata": {
        "colab": {
          "base_uri": "https://localhost:8080/"
        },
        "id": "WrEZXWYvuGaw",
        "outputId": "a988c583-65ee-4b24-d133-600048c179d9"
      },
      "execution_count": null,
      "outputs": [
        {
          "output_type": "execute_result",
          "data": {
            "text/plain": [
              "Index(['Daily Time Spent on Site', 'Age', 'Area Income',\n",
              "       'Daily Internet Usage', 'Ad Topic Line', 'City', 'Male', 'Country',\n",
              "       'Timestamp', 'Clicked on Ad'],\n",
              "      dtype='object')"
            ]
          },
          "metadata": {},
          "execution_count": 27
        }
      ]
    },
    {
      "cell_type": "code",
      "execution_count": null,
      "metadata": {
        "id": "PHJNRCkzIRQe"
      },
      "outputs": [],
      "source": [
        "# 5.0.1.1\n",
        "# You can also perform stratified sampling, as:\n",
        "dn = ad.groupby(\n",
        "                [ad['Age'], ad['Country']],\n",
        "                group_keys = False\n",
        "                ).apply(lambda x : x.sample(frac=0.5))"
      ]
    },
    {
      "cell_type": "code",
      "execution_count": null,
      "metadata": {
        "id": "XyXlwUZ7H-72",
        "colab": {
          "base_uri": "https://localhost:8080/",
          "height": 513
        },
        "outputId": "95a1edcb-e208-4a6c-d942-7b2210637243"
      },
      "outputs": [
        {
          "output_type": "execute_result",
          "data": {
            "text/plain": [
              "   Daily Time Spent on Site  Age  Area Income  Daily Internet Usage  \\\n",
              "0                     68.95   35     61833.90                256.09   \n",
              "1                     80.23   31     68441.85                193.77   \n",
              "2                     69.47   26     59785.94                236.50   \n",
              "3                     74.15   29     54806.18                245.89   \n",
              "4                     68.37   35     73889.99                225.58   \n",
              "\n",
              "                           Ad Topic Line            City  Male     Country  \\\n",
              "0     Cloned 5thgeneration orchestration     Wrightburgh     0     Tunisia   \n",
              "1     Monitored national standardization       West Jodi     1       Nauru   \n",
              "2       Organic bottom-line service-desk        Davidton     0  San Marino   \n",
              "3  Triple-buffered reciprocal time-frame  West Terrifurt     1       Italy   \n",
              "4          Robust logistical utilization    South Manuel     0     Iceland   \n",
              "\n",
              "            Timestamp  Clicked on Ad  AdTopicLineLength  hour  \\\n",
              "0 2016-03-27 00:53:11              0                 34     0   \n",
              "1 2016-04-04 01:39:02              0                 34     1   \n",
              "2 2016-03-13 20:35:42              0                 32    20   \n",
              "3 2016-01-10 02:31:19              0                 37     2   \n",
              "4 2016-06-03 03:36:18              0                 29     3   \n",
              "\n",
              "   AdTopicNoOfWords  hourOfDay  weekday  quarter  quarter1  \n",
              "0                 3          0        6        1         1  \n",
              "1                 3          1        0        1         1  \n",
              "2                 3         20        6        1         1  \n",
              "3                 3          2        6        1         1  \n",
              "4                 3          3        4        1         1  "
            ],
            "text/html": [
              "\n",
              "  <div id=\"df-65585baf-20f7-44b0-910d-128c527b263f\">\n",
              "    <div class=\"colab-df-container\">\n",
              "      <div>\n",
              "<style scoped>\n",
              "    .dataframe tbody tr th:only-of-type {\n",
              "        vertical-align: middle;\n",
              "    }\n",
              "\n",
              "    .dataframe tbody tr th {\n",
              "        vertical-align: top;\n",
              "    }\n",
              "\n",
              "    .dataframe thead th {\n",
              "        text-align: right;\n",
              "    }\n",
              "</style>\n",
              "<table border=\"1\" class=\"dataframe\">\n",
              "  <thead>\n",
              "    <tr style=\"text-align: right;\">\n",
              "      <th></th>\n",
              "      <th>Daily Time Spent on Site</th>\n",
              "      <th>Age</th>\n",
              "      <th>Area Income</th>\n",
              "      <th>Daily Internet Usage</th>\n",
              "      <th>Ad Topic Line</th>\n",
              "      <th>City</th>\n",
              "      <th>Male</th>\n",
              "      <th>Country</th>\n",
              "      <th>Timestamp</th>\n",
              "      <th>Clicked on Ad</th>\n",
              "      <th>AdTopicLineLength</th>\n",
              "      <th>hour</th>\n",
              "      <th>AdTopicNoOfWords</th>\n",
              "      <th>hourOfDay</th>\n",
              "      <th>weekday</th>\n",
              "      <th>quarter</th>\n",
              "      <th>quarter1</th>\n",
              "    </tr>\n",
              "  </thead>\n",
              "  <tbody>\n",
              "    <tr>\n",
              "      <th>0</th>\n",
              "      <td>68.95</td>\n",
              "      <td>35</td>\n",
              "      <td>61833.90</td>\n",
              "      <td>256.09</td>\n",
              "      <td>Cloned 5thgeneration orchestration</td>\n",
              "      <td>Wrightburgh</td>\n",
              "      <td>0</td>\n",
              "      <td>Tunisia</td>\n",
              "      <td>2016-03-27 00:53:11</td>\n",
              "      <td>0</td>\n",
              "      <td>34</td>\n",
              "      <td>0</td>\n",
              "      <td>3</td>\n",
              "      <td>0</td>\n",
              "      <td>6</td>\n",
              "      <td>1</td>\n",
              "      <td>1</td>\n",
              "    </tr>\n",
              "    <tr>\n",
              "      <th>1</th>\n",
              "      <td>80.23</td>\n",
              "      <td>31</td>\n",
              "      <td>68441.85</td>\n",
              "      <td>193.77</td>\n",
              "      <td>Monitored national standardization</td>\n",
              "      <td>West Jodi</td>\n",
              "      <td>1</td>\n",
              "      <td>Nauru</td>\n",
              "      <td>2016-04-04 01:39:02</td>\n",
              "      <td>0</td>\n",
              "      <td>34</td>\n",
              "      <td>1</td>\n",
              "      <td>3</td>\n",
              "      <td>1</td>\n",
              "      <td>0</td>\n",
              "      <td>1</td>\n",
              "      <td>1</td>\n",
              "    </tr>\n",
              "    <tr>\n",
              "      <th>2</th>\n",
              "      <td>69.47</td>\n",
              "      <td>26</td>\n",
              "      <td>59785.94</td>\n",
              "      <td>236.50</td>\n",
              "      <td>Organic bottom-line service-desk</td>\n",
              "      <td>Davidton</td>\n",
              "      <td>0</td>\n",
              "      <td>San Marino</td>\n",
              "      <td>2016-03-13 20:35:42</td>\n",
              "      <td>0</td>\n",
              "      <td>32</td>\n",
              "      <td>20</td>\n",
              "      <td>3</td>\n",
              "      <td>20</td>\n",
              "      <td>6</td>\n",
              "      <td>1</td>\n",
              "      <td>1</td>\n",
              "    </tr>\n",
              "    <tr>\n",
              "      <th>3</th>\n",
              "      <td>74.15</td>\n",
              "      <td>29</td>\n",
              "      <td>54806.18</td>\n",
              "      <td>245.89</td>\n",
              "      <td>Triple-buffered reciprocal time-frame</td>\n",
              "      <td>West Terrifurt</td>\n",
              "      <td>1</td>\n",
              "      <td>Italy</td>\n",
              "      <td>2016-01-10 02:31:19</td>\n",
              "      <td>0</td>\n",
              "      <td>37</td>\n",
              "      <td>2</td>\n",
              "      <td>3</td>\n",
              "      <td>2</td>\n",
              "      <td>6</td>\n",
              "      <td>1</td>\n",
              "      <td>1</td>\n",
              "    </tr>\n",
              "    <tr>\n",
              "      <th>4</th>\n",
              "      <td>68.37</td>\n",
              "      <td>35</td>\n",
              "      <td>73889.99</td>\n",
              "      <td>225.58</td>\n",
              "      <td>Robust logistical utilization</td>\n",
              "      <td>South Manuel</td>\n",
              "      <td>0</td>\n",
              "      <td>Iceland</td>\n",
              "      <td>2016-06-03 03:36:18</td>\n",
              "      <td>0</td>\n",
              "      <td>29</td>\n",
              "      <td>3</td>\n",
              "      <td>3</td>\n",
              "      <td>3</td>\n",
              "      <td>4</td>\n",
              "      <td>1</td>\n",
              "      <td>1</td>\n",
              "    </tr>\n",
              "  </tbody>\n",
              "</table>\n",
              "</div>\n",
              "      <button class=\"colab-df-convert\" onclick=\"convertToInteractive('df-65585baf-20f7-44b0-910d-128c527b263f')\"\n",
              "              title=\"Convert this dataframe to an interactive table.\"\n",
              "              style=\"display:none;\">\n",
              "        \n",
              "  <svg xmlns=\"http://www.w3.org/2000/svg\" height=\"24px\"viewBox=\"0 0 24 24\"\n",
              "       width=\"24px\">\n",
              "    <path d=\"M0 0h24v24H0V0z\" fill=\"none\"/>\n",
              "    <path d=\"M18.56 5.44l.94 2.06.94-2.06 2.06-.94-2.06-.94-.94-2.06-.94 2.06-2.06.94zm-11 1L8.5 8.5l.94-2.06 2.06-.94-2.06-.94L8.5 2.5l-.94 2.06-2.06.94zm10 10l.94 2.06.94-2.06 2.06-.94-2.06-.94-.94-2.06-.94 2.06-2.06.94z\"/><path d=\"M17.41 7.96l-1.37-1.37c-.4-.4-.92-.59-1.43-.59-.52 0-1.04.2-1.43.59L10.3 9.45l-7.72 7.72c-.78.78-.78 2.05 0 2.83L4 21.41c.39.39.9.59 1.41.59.51 0 1.02-.2 1.41-.59l7.78-7.78 2.81-2.81c.8-.78.8-2.07 0-2.86zM5.41 20L4 18.59l7.72-7.72 1.47 1.35L5.41 20z\"/>\n",
              "  </svg>\n",
              "      </button>\n",
              "      \n",
              "  <style>\n",
              "    .colab-df-container {\n",
              "      display:flex;\n",
              "      flex-wrap:wrap;\n",
              "      gap: 12px;\n",
              "    }\n",
              "\n",
              "    .colab-df-convert {\n",
              "      background-color: #E8F0FE;\n",
              "      border: none;\n",
              "      border-radius: 50%;\n",
              "      cursor: pointer;\n",
              "      display: none;\n",
              "      fill: #1967D2;\n",
              "      height: 32px;\n",
              "      padding: 0 0 0 0;\n",
              "      width: 32px;\n",
              "    }\n",
              "\n",
              "    .colab-df-convert:hover {\n",
              "      background-color: #E2EBFA;\n",
              "      box-shadow: 0px 1px 2px rgba(60, 64, 67, 0.3), 0px 1px 3px 1px rgba(60, 64, 67, 0.15);\n",
              "      fill: #174EA6;\n",
              "    }\n",
              "\n",
              "    [theme=dark] .colab-df-convert {\n",
              "      background-color: #3B4455;\n",
              "      fill: #D2E3FC;\n",
              "    }\n",
              "\n",
              "    [theme=dark] .colab-df-convert:hover {\n",
              "      background-color: #434B5C;\n",
              "      box-shadow: 0px 1px 3px 1px rgba(0, 0, 0, 0.15);\n",
              "      filter: drop-shadow(0px 1px 2px rgba(0, 0, 0, 0.3));\n",
              "      fill: #FFFFFF;\n",
              "    }\n",
              "  </style>\n",
              "\n",
              "      <script>\n",
              "        const buttonEl =\n",
              "          document.querySelector('#df-65585baf-20f7-44b0-910d-128c527b263f button.colab-df-convert');\n",
              "        buttonEl.style.display =\n",
              "          google.colab.kernel.accessAllowed ? 'block' : 'none';\n",
              "\n",
              "        async function convertToInteractive(key) {\n",
              "          const element = document.querySelector('#df-65585baf-20f7-44b0-910d-128c527b263f');\n",
              "          const dataTable =\n",
              "            await google.colab.kernel.invokeFunction('convertToInteractive',\n",
              "                                                     [key], {});\n",
              "          if (!dataTable) return;\n",
              "\n",
              "          const docLinkHtml = 'Like what you see? Visit the ' +\n",
              "            '<a target=\"_blank\" href=https://colab.research.google.com/notebooks/data_table.ipynb>data table notebook</a>'\n",
              "            + ' to learn more about interactive tables.';\n",
              "          element.innerHTML = '';\n",
              "          dataTable['output_type'] = 'display_data';\n",
              "          await google.colab.output.renderOutput(dataTable, element);\n",
              "          const docLink = document.createElement('div');\n",
              "          docLink.innerHTML = docLinkHtml;\n",
              "          element.appendChild(docLink);\n",
              "        }\n",
              "      </script>\n",
              "    </div>\n",
              "  </div>\n",
              "  "
            ]
          },
          "metadata": {},
          "execution_count": 72
        }
      ],
      "source": [
        "ad.head()"
      ]
    },
    {
      "cell_type": "code",
      "source": [
        "sns.displot(ad['DailyTimeSpentonSite'])"
      ],
      "metadata": {
        "id": "8KPYRObJJhY_"
      },
      "execution_count": null,
      "outputs": []
    },
    {
      "cell_type": "markdown",
      "metadata": {
        "id": "OwIR5JffiIAj"
      },
      "source": [
        "### Distribution plots"
      ]
    },
    {
      "cell_type": "code",
      "execution_count": null,
      "metadata": {
        "id": "A7EHp4FIJE5t"
      },
      "outputs": [],
      "source": [
        "## Task 1 Understand your numeric data\n",
        "##         How is it distributed.\n",
        "\n",
        "# Question 1: How is Age distributed?\n",
        "# Question 2: How is DailyTimeSpentonSite distributed\n",
        "# Question 3: How is AreaIncome distributed"
      ]
    },
    {
      "cell_type": "code",
      "execution_count": null,
      "metadata": {
        "colab": {
          "base_uri": "https://localhost:8080/",
          "height": 387
        },
        "id": "hZDuqnSgKGmp",
        "outputId": "972b9c89-a7a2-4826-dad7-033a00b8652d"
      },
      "outputs": [
        {
          "output_type": "execute_result",
          "data": {
            "text/plain": [
              "<seaborn.axisgrid.FacetGrid at 0x7f7d1c860f90>"
            ]
          },
          "metadata": {},
          "execution_count": 20
        },
        {
          "output_type": "display_data",
          "data": {
            "text/plain": [
              "<Figure size 360x360 with 1 Axes>"
            ],
            "image/png": "[encoded data removed]"
          },
          "metadata": {
            "needs_background": "light"
          }
        }
      ],
      "source": [
        "# 5.1 Distribution of each continuous value using distplot()\n",
        "#     https://seaborn.pydata.org/generated/seaborn.distplot.html\n",
        "#     (Does not have **kwargs)\n",
        "\n",
        "# 5.1.1 Age is slight skewed to right. Naturally density of younger\n",
        "#       persons is high\n",
        "\n",
        "sns.displot(ad.Age)"
      ]
    },
    {
      "cell_type": "code",
      "execution_count": null,
      "metadata": {
        "colab": {
          "base_uri": "https://localhost:8080/",
          "height": 403
        },
        "id": "6dZH7rV1KIDR",
        "outputId": "25b33f38-518d-4a10-f480-333949a14a52"
      },
      "outputs": [
        {
          "output_type": "execute_result",
          "data": {
            "text/plain": [
              "<seaborn.axisgrid.FacetGrid at 0x7f7d1cdfb790>"
            ]
          },
          "metadata": {},
          "execution_count": 21
        },
        {
          "output_type": "display_data",
          "data": {
            "text/plain": [
              "<Figure size 360x360 with 1 Axes>"
            ],
            "image/png": "[encoded data removed]"
          },
          "metadata": {
            "needs_background": "light"
          }
        }
      ],
      "source": [
        "# 5.1.2 Add more plot configurations\n",
        "# Refer: https://matplotlib.org/api/axes_api.html#matplotlib-axes\n",
        "ax= sns.displot(ad.Age)\n",
        "ax.set( xlim =(10,80),                     #  sns.distplot does not have **kwargs\n",
        "        xlabel= \"age of persons\",\n",
        "        ylabel = \"counts\",\n",
        "        title= \"Histogram of Age\",\n",
        "        xticks = list(range(0,80,5))\n",
        "   \n",
        "        )"
      ]
    },
    {
      "cell_type": "code",
      "execution_count": null,
      "metadata": {
        "colab": {
          "base_uri": "https://localhost:8080/",
          "height": 1000
        },
        "id": "Wf7Rd8akKRgn",
        "outputId": "957d0638-fce8-43a0-d342-cf4b3deb843f"
      },
      "outputs": [
        {
          "output_type": "execute_result",
          "data": {
            "text/plain": [
              "<seaborn.axisgrid.FacetGrid at 0x7f7d19f8d950>"
            ]
          },
          "metadata": {},
          "execution_count": 22
        },
        {
          "output_type": "execute_result",
          "data": {
            "text/plain": [
              "<seaborn.axisgrid.FacetGrid at 0x7f7d1cff3e90>"
            ]
          },
          "metadata": {},
          "execution_count": 22
        },
        {
          "output_type": "execute_result",
          "data": {
            "text/plain": [
              "<seaborn.axisgrid.FacetGrid at 0x7f7d1cd75050>"
            ]
          },
          "metadata": {},
          "execution_count": 22
        },
        {
          "output_type": "display_data",
          "data": {
            "text/plain": [
              "<Figure size 360x360 with 1 Axes>"
            ],
            "image/png": "[encoded data removed]"
          },
          "metadata": {
            "needs_background": "light"
          }
        },
        {
          "output_type": "display_data",
          "data": {
            "text/plain": [
              "<Figure size 360x360 with 1 Axes>"
            ],
            "image/png": "[encoded data removed]"
          },
          "metadata": {
            "needs_background": "light"
          }
        },
        {
          "output_type": "display_data",
          "data": {
            "text/plain": [
              "<Figure size 360x360 with 1 Axes>"
            ],
            "image/png": "[encoded data removed]"
          },
          "metadata": {
            "needs_background": "light"
          }
        }
      ],
      "source": [
        "# 5.1.2 Distribution of DailyTimeSpentonSite\n",
        "sns.displot('ad.DailyTimeSpentonSite')\n",
        "sns.displot('ad.AreaIncome')\n",
        "sns.displot('ad.DailyInternetUsage')"
      ]
    },
    {
      "cell_type": "code",
      "source": [
        "data.columns"
      ],
      "metadata": {
        "id": "hGchA6cTNt9D"
      },
      "execution_count": null,
      "outputs": []
    },
    {
      "cell_type": "code",
      "execution_count": null,
      "metadata": {
        "colab": {
          "base_uri": "https://localhost:8080/",
          "height": 596
        },
        "id": "wk8JzREHKbhM",
        "outputId": "f3649b98-6201-4762-82b5-08f1ee44c19b"
      },
      "outputs": [
        {
          "output_type": "display_data",
          "data": {
            "text/plain": [
              "<Figure size 720x720 with 4 Axes>"
            ],
            "image/png": "[encoded data removed]"
          },
          "metadata": {
            "needs_background": "light"
          }
        }
      ],
      "source": [
        "# 5.1.3 Using for loop to plot all at once\n",
        "columns = ['Age', 'AreaIncome', 'DailyInternetUsage', 'DailyTimeSpentonSite']\n",
        "fig,ax = plt.subplots(2,2, figsize = (10,10))\n",
        "ax = ax.flatten()\n"
      ]
    },
    {
      "cell_type": "code",
      "source": [
        "ad.columns\n",
        "sns.jointplot(data1=ad, x='Age', y='AreaIncome', kind ='hist')"
      ],
      "metadata": {
        "colab": {
          "base_uri": "https://localhost:8080/",
          "height": 801
        },
        "id": "VvPNjUCO0Tfh",
        "outputId": "cf53a427-031c-4219-bf89-bf0cf35c42aa"
      },
      "execution_count": null,
      "outputs": [
        {
          "output_type": "execute_result",
          "data": {
            "text/plain": [
              "Index(['Daily Time Spent on Site', 'Age', 'Area Income',\n",
              "       'Daily Internet Usage', 'Ad Topic Line', 'City', 'Male', 'Country',\n",
              "       'Timestamp', 'Clicked on Ad'],\n",
              "      dtype='object')"
            ]
          },
          "metadata": {},
          "execution_count": 24
        },
        {
          "output_type": "error",
          "ename": "ValueError",
          "evalue": "ignored",
          "traceback": [
            "\u001b[0;31m---------------------------------------------------------------------------\u001b[0m",
            "\u001b[0;31mValueError\u001b[0m                                Traceback (most recent call last)",
            "\u001b[0;32m<ipython-input-24-f622cb762ef3>\u001b[0m in \u001b[0;36m<module>\u001b[0;34m\u001b[0m\n\u001b[1;32m      1\u001b[0m \u001b[0mad\u001b[0m\u001b[0;34m.\u001b[0m\u001b[0mcolumns\u001b[0m\u001b[0;34m\u001b[0m\u001b[0;34m\u001b[0m\u001b[0m\n\u001b[0;32m----> 2\u001b[0;31m \u001b[0msns\u001b[0m\u001b[0;34m.\u001b[0m\u001b[0mjointplot\u001b[0m\u001b[0;34m(\u001b[0m\u001b[0mdata1\u001b[0m\u001b[0;34m=\u001b[0m\u001b[0mad\u001b[0m\u001b[0;34m,\u001b[0m \u001b[0mx\u001b[0m\u001b[0;34m=\u001b[0m\u001b[0;34m'Age'\u001b[0m\u001b[0;34m,\u001b[0m \u001b[0my\u001b[0m\u001b[0;34m=\u001b[0m\u001b[0;34m'AreaIncome'\u001b[0m\u001b[0;34m,\u001b[0m \u001b[0mkind\u001b[0m \u001b[0;34m=\u001b[0m\u001b[0;34m'hist'\u001b[0m\u001b[0;34m)\u001b[0m\u001b[0;34m\u001b[0m\u001b[0;34m\u001b[0m\u001b[0m\n\u001b[0m",
            "\u001b[0;32m/usr/local/lib/python3.7/dist-packages/seaborn/_decorators.py\u001b[0m in \u001b[0;36minner_f\u001b[0;34m(*args, **kwargs)\u001b[0m\n\u001b[1;32m     44\u001b[0m             )\n\u001b[1;32m     45\u001b[0m         \u001b[0mkwargs\u001b[0m\u001b[0;34m.\u001b[0m\u001b[0mupdate\u001b[0m\u001b[0;34m(\u001b[0m\u001b[0;34m{\u001b[0m\u001b[0mk\u001b[0m\u001b[0;34m:\u001b[0m \u001b[0marg\u001b[0m \u001b[0;32mfor\u001b[0m \u001b[0mk\u001b[0m\u001b[0;34m,\u001b[0m \u001b[0marg\u001b[0m \u001b[0;32min\u001b[0m \u001b[0mzip\u001b[0m\u001b[0;34m(\u001b[0m\u001b[0msig\u001b[0m\u001b[0;34m.\u001b[0m\u001b[0mparameters\u001b[0m\u001b[0;34m,\u001b[0m \u001b[0margs\u001b[0m\u001b[0;34m)\u001b[0m\u001b[0;34m}\u001b[0m\u001b[0;34m)\u001b[0m\u001b[0;34m\u001b[0m\u001b[0;34m\u001b[0m\u001b[0m\n\u001b[0;32m---> 46\u001b[0;31m         \u001b[0;32mreturn\u001b[0m \u001b[0mf\u001b[0m\u001b[0;34m(\u001b[0m\u001b[0;34m**\u001b[0m\u001b[0mkwargs\u001b[0m\u001b[0;34m)\u001b[0m\u001b[0;34m\u001b[0m\u001b[0;34m\u001b[0m\u001b[0m\n\u001b[0m\u001b[1;32m     47\u001b[0m     \u001b[0;32mreturn\u001b[0m \u001b[0minner_f\u001b[0m\u001b[0;34m\u001b[0m\u001b[0;34m\u001b[0m\u001b[0m\n\u001b[1;32m     48\u001b[0m \u001b[0;34m\u001b[0m\u001b[0m\n",
            "\u001b[0;32m/usr/local/lib/python3.7/dist-packages/seaborn/axisgrid.py\u001b[0m in \u001b[0;36mjointplot\u001b[0;34m(x, y, data, kind, color, height, ratio, space, dropna, xlim, ylim, marginal_ticks, joint_kws, marginal_kws, hue, palette, hue_order, hue_norm, **kwargs)\u001b[0m\n\u001b[1;32m   2232\u001b[0m         \u001b[0mpalette\u001b[0m\u001b[0;34m=\u001b[0m\u001b[0mpalette\u001b[0m\u001b[0;34m,\u001b[0m \u001b[0mhue_order\u001b[0m\u001b[0;34m=\u001b[0m\u001b[0mhue_order\u001b[0m\u001b[0;34m,\u001b[0m \u001b[0mhue_norm\u001b[0m\u001b[0;34m=\u001b[0m\u001b[0mhue_norm\u001b[0m\u001b[0;34m,\u001b[0m\u001b[0;34m\u001b[0m\u001b[0;34m\u001b[0m\u001b[0m\n\u001b[1;32m   2233\u001b[0m         \u001b[0mdropna\u001b[0m\u001b[0;34m=\u001b[0m\u001b[0mdropna\u001b[0m\u001b[0;34m,\u001b[0m \u001b[0mheight\u001b[0m\u001b[0;34m=\u001b[0m\u001b[0mheight\u001b[0m\u001b[0;34m,\u001b[0m \u001b[0mratio\u001b[0m\u001b[0;34m=\u001b[0m\u001b[0mratio\u001b[0m\u001b[0;34m,\u001b[0m \u001b[0mspace\u001b[0m\u001b[0;34m=\u001b[0m\u001b[0mspace\u001b[0m\u001b[0;34m,\u001b[0m\u001b[0;34m\u001b[0m\u001b[0;34m\u001b[0m\u001b[0m\n\u001b[0;32m-> 2234\u001b[0;31m         \u001b[0mxlim\u001b[0m\u001b[0;34m=\u001b[0m\u001b[0mxlim\u001b[0m\u001b[0;34m,\u001b[0m \u001b[0mylim\u001b[0m\u001b[0;34m=\u001b[0m\u001b[0mylim\u001b[0m\u001b[0;34m,\u001b[0m \u001b[0mmarginal_ticks\u001b[0m\u001b[0;34m=\u001b[0m\u001b[0mmarginal_ticks\u001b[0m\u001b[0;34m,\u001b[0m\u001b[0;34m\u001b[0m\u001b[0;34m\u001b[0m\u001b[0m\n\u001b[0m\u001b[1;32m   2235\u001b[0m     )\n\u001b[1;32m   2236\u001b[0m \u001b[0;34m\u001b[0m\u001b[0m\n",
            "\u001b[0;32m/usr/local/lib/python3.7/dist-packages/seaborn/_decorators.py\u001b[0m in \u001b[0;36minner_f\u001b[0;34m(*args, **kwargs)\u001b[0m\n\u001b[1;32m     44\u001b[0m             )\n\u001b[1;32m     45\u001b[0m         \u001b[0mkwargs\u001b[0m\u001b[0;34m.\u001b[0m\u001b[0mupdate\u001b[0m\u001b[0;34m(\u001b[0m\u001b[0;34m{\u001b[0m\u001b[0mk\u001b[0m\u001b[0;34m:\u001b[0m \u001b[0marg\u001b[0m \u001b[0;32mfor\u001b[0m \u001b[0mk\u001b[0m\u001b[0;34m,\u001b[0m \u001b[0marg\u001b[0m \u001b[0;32min\u001b[0m \u001b[0mzip\u001b[0m\u001b[0;34m(\u001b[0m\u001b[0msig\u001b[0m\u001b[0;34m.\u001b[0m\u001b[0mparameters\u001b[0m\u001b[0;34m,\u001b[0m \u001b[0margs\u001b[0m\u001b[0;34m)\u001b[0m\u001b[0;34m}\u001b[0m\u001b[0;34m)\u001b[0m\u001b[0;34m\u001b[0m\u001b[0;34m\u001b[0m\u001b[0m\n\u001b[0;32m---> 46\u001b[0;31m         \u001b[0;32mreturn\u001b[0m \u001b[0mf\u001b[0m\u001b[0;34m(\u001b[0m\u001b[0;34m**\u001b[0m\u001b[0mkwargs\u001b[0m\u001b[0;34m)\u001b[0m\u001b[0;34m\u001b[0m\u001b[0;34m\u001b[0m\u001b[0m\n\u001b[0m\u001b[1;32m     47\u001b[0m     \u001b[0;32mreturn\u001b[0m \u001b[0minner_f\u001b[0m\u001b[0;34m\u001b[0m\u001b[0;34m\u001b[0m\u001b[0m\n\u001b[1;32m     48\u001b[0m \u001b[0;34m\u001b[0m\u001b[0m\n",
            "\u001b[0;32m/usr/local/lib/python3.7/dist-packages/seaborn/axisgrid.py\u001b[0m in \u001b[0;36m__init__\u001b[0;34m(self, x, y, data, height, ratio, space, dropna, xlim, ylim, size, marginal_ticks, hue, palette, hue_order, hue_norm)\u001b[0m\n\u001b[1;32m   1700\u001b[0m \u001b[0;34m\u001b[0m\u001b[0m\n\u001b[1;32m   1701\u001b[0m         \u001b[0;31m# Process the input variables\u001b[0m\u001b[0;34m\u001b[0m\u001b[0;34m\u001b[0m\u001b[0;34m\u001b[0m\u001b[0m\n\u001b[0;32m-> 1702\u001b[0;31m         \u001b[0mp\u001b[0m \u001b[0;34m=\u001b[0m \u001b[0mVectorPlotter\u001b[0m\u001b[0;34m(\u001b[0m\u001b[0mdata\u001b[0m\u001b[0;34m=\u001b[0m\u001b[0mdata\u001b[0m\u001b[0;34m,\u001b[0m \u001b[0mvariables\u001b[0m\u001b[0;34m=\u001b[0m\u001b[0mdict\u001b[0m\u001b[0;34m(\u001b[0m\u001b[0mx\u001b[0m\u001b[0;34m=\u001b[0m\u001b[0mx\u001b[0m\u001b[0;34m,\u001b[0m \u001b[0my\u001b[0m\u001b[0;34m=\u001b[0m\u001b[0my\u001b[0m\u001b[0;34m,\u001b[0m \u001b[0mhue\u001b[0m\u001b[0;34m=\u001b[0m\u001b[0mhue\u001b[0m\u001b[0;34m)\u001b[0m\u001b[0;34m)\u001b[0m\u001b[0;34m\u001b[0m\u001b[0;34m\u001b[0m\u001b[0m\n\u001b[0m\u001b[1;32m   1703\u001b[0m         \u001b[0mplot_data\u001b[0m \u001b[0;34m=\u001b[0m \u001b[0mp\u001b[0m\u001b[0;34m.\u001b[0m\u001b[0mplot_data\u001b[0m\u001b[0;34m.\u001b[0m\u001b[0mloc\u001b[0m\u001b[0;34m[\u001b[0m\u001b[0;34m:\u001b[0m\u001b[0;34m,\u001b[0m \u001b[0mp\u001b[0m\u001b[0;34m.\u001b[0m\u001b[0mplot_data\u001b[0m\u001b[0;34m.\u001b[0m\u001b[0mnotna\u001b[0m\u001b[0;34m(\u001b[0m\u001b[0;34m)\u001b[0m\u001b[0;34m.\u001b[0m\u001b[0many\u001b[0m\u001b[0;34m(\u001b[0m\u001b[0;34m)\u001b[0m\u001b[0;34m]\u001b[0m\u001b[0;34m\u001b[0m\u001b[0;34m\u001b[0m\u001b[0m\n\u001b[1;32m   1704\u001b[0m \u001b[0;34m\u001b[0m\u001b[0m\n",
            "\u001b[0;32m/usr/local/lib/python3.7/dist-packages/seaborn/_core.py\u001b[0m in \u001b[0;36m__init__\u001b[0;34m(self, data, variables)\u001b[0m\n\u001b[1;32m    603\u001b[0m     \u001b[0;32mdef\u001b[0m \u001b[0m__init__\u001b[0m\u001b[0;34m(\u001b[0m\u001b[0mself\u001b[0m\u001b[0;34m,\u001b[0m \u001b[0mdata\u001b[0m\u001b[0;34m=\u001b[0m\u001b[0;32mNone\u001b[0m\u001b[0;34m,\u001b[0m \u001b[0mvariables\u001b[0m\u001b[0;34m=\u001b[0m\u001b[0;34m{\u001b[0m\u001b[0;34m}\u001b[0m\u001b[0;34m)\u001b[0m\u001b[0;34m:\u001b[0m\u001b[0;34m\u001b[0m\u001b[0;34m\u001b[0m\u001b[0m\n\u001b[1;32m    604\u001b[0m \u001b[0;34m\u001b[0m\u001b[0m\n\u001b[0;32m--> 605\u001b[0;31m         \u001b[0mself\u001b[0m\u001b[0;34m.\u001b[0m\u001b[0massign_variables\u001b[0m\u001b[0;34m(\u001b[0m\u001b[0mdata\u001b[0m\u001b[0;34m,\u001b[0m \u001b[0mvariables\u001b[0m\u001b[0;34m)\u001b[0m\u001b[0;34m\u001b[0m\u001b[0;34m\u001b[0m\u001b[0m\n\u001b[0m\u001b[1;32m    606\u001b[0m \u001b[0;34m\u001b[0m\u001b[0m\n\u001b[1;32m    607\u001b[0m         \u001b[0;32mfor\u001b[0m \u001b[0mvar\u001b[0m\u001b[0;34m,\u001b[0m \u001b[0mcls\u001b[0m \u001b[0;32min\u001b[0m \u001b[0mself\u001b[0m\u001b[0;34m.\u001b[0m\u001b[0m_semantic_mappings\u001b[0m\u001b[0;34m.\u001b[0m\u001b[0mitems\u001b[0m\u001b[0;34m(\u001b[0m\u001b[0;34m)\u001b[0m\u001b[0;34m:\u001b[0m\u001b[0;34m\u001b[0m\u001b[0;34m\u001b[0m\u001b[0m\n",
            "\u001b[0;32m/usr/local/lib/python3.7/dist-packages/seaborn/_core.py\u001b[0m in \u001b[0;36massign_variables\u001b[0;34m(self, data, variables)\u001b[0m\n\u001b[1;32m    667\u001b[0m             \u001b[0mself\u001b[0m\u001b[0;34m.\u001b[0m\u001b[0minput_format\u001b[0m \u001b[0;34m=\u001b[0m \u001b[0;34m\"long\"\u001b[0m\u001b[0;34m\u001b[0m\u001b[0;34m\u001b[0m\u001b[0m\n\u001b[1;32m    668\u001b[0m             plot_data, variables = self._assign_variables_longform(\n\u001b[0;32m--> 669\u001b[0;31m                 \u001b[0mdata\u001b[0m\u001b[0;34m,\u001b[0m \u001b[0;34m**\u001b[0m\u001b[0mvariables\u001b[0m\u001b[0;34m,\u001b[0m\u001b[0;34m\u001b[0m\u001b[0;34m\u001b[0m\u001b[0m\n\u001b[0m\u001b[1;32m    670\u001b[0m             )\n\u001b[1;32m    671\u001b[0m \u001b[0;34m\u001b[0m\u001b[0m\n",
            "\u001b[0;32m/usr/local/lib/python3.7/dist-packages/seaborn/_core.py\u001b[0m in \u001b[0;36m_assign_variables_longform\u001b[0;34m(self, data, **kwargs)\u001b[0m\n\u001b[1;32m    901\u001b[0m \u001b[0;34m\u001b[0m\u001b[0m\n\u001b[1;32m    902\u001b[0m                 \u001b[0merr\u001b[0m \u001b[0;34m=\u001b[0m \u001b[0;34mf\"Could not interpret value `{val}` for parameter `{key}`\"\u001b[0m\u001b[0;34m\u001b[0m\u001b[0;34m\u001b[0m\u001b[0m\n\u001b[0;32m--> 903\u001b[0;31m                 \u001b[0;32mraise\u001b[0m \u001b[0mValueError\u001b[0m\u001b[0;34m(\u001b[0m\u001b[0merr\u001b[0m\u001b[0;34m)\u001b[0m\u001b[0;34m\u001b[0m\u001b[0;34m\u001b[0m\u001b[0m\n\u001b[0m\u001b[1;32m    904\u001b[0m \u001b[0;34m\u001b[0m\u001b[0m\n\u001b[1;32m    905\u001b[0m             \u001b[0;32melse\u001b[0m\u001b[0;34m:\u001b[0m\u001b[0;34m\u001b[0m\u001b[0;34m\u001b[0m\u001b[0m\n",
            "\u001b[0;31mValueError\u001b[0m: Could not interpret value `Age` for parameter `x`"
          ]
        },
        {
          "output_type": "display_data",
          "data": {
            "text/plain": [
              "<Figure size 432x432 with 3 Axes>"
            ],
            "image/png": "[encoded data removed]"
          },
          "metadata": {
            "needs_background": "light"
          }
        }
      ]
    },
    {
      "cell_type": "markdown",
      "metadata": {
        "id": "rngeHBwkMpE1"
      },
      "source": [
        "### Box plots"
      ]
    },
    {
      "cell_type": "markdown",
      "metadata": {
        "id": "JKLLxearOfIX"
      },
      "source": [
        "[Diagram explanation](https://www.mathworks.com/matlabcentral/answers/461791-what-do-lines-that-double-back-on-themselves-mean-box-plots#answer_374762)"
      ]
    },
    {
      "cell_type": "markdown",
      "metadata": {
        "id": "DE-vEbbUMuW5"
      },
      "source": [
        "![image.png](data:image/png;base64,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)"
      ]
    },
    {
      "cell_type": "code",
      "source": [
        "data.columns"
      ],
      "metadata": {
        "colab": {
          "base_uri": "https://localhost:8080/"
        },
        "id": "yHrW3uSyCTaj",
        "outputId": "eb26a56b-8c89-4bb0-c2b0-3a4313510d5c"
      },
      "execution_count": null,
      "outputs": [
        {
          "output_type": "execute_result",
          "data": {
            "text/plain": [
              "Index(['Daily Time Spent on Site', 'Age', 'Area Income',\n",
              "       'Daily Internet Usage', 'Ad Topic Line', 'City', 'Male', 'Country',\n",
              "       'Timestamp', 'Clicked on Ad'],\n",
              "      dtype='object')"
            ]
          },
          "metadata": {},
          "execution_count": 25
        }
      ]
    },
    {
      "cell_type": "code",
      "execution_count": null,
      "metadata": {
        "id": "IfTTrjWULPFy",
        "colab": {
          "base_uri": "https://localhost:8080/",
          "height": 133
        },
        "outputId": "39ae615a-c4a0-4c40-86cf-2274a9b1e6c1"
      },
      "outputs": [
        {
          "output_type": "error",
          "ename": "SyntaxError",
          "evalue": "ignored",
          "traceback": [
            "\u001b[0;36m  File \u001b[0;32m\"<ipython-input-26-ef56f359660d>\"\u001b[0;36m, line \u001b[0;32m13\u001b[0m\n\u001b[0;31m    notch='True'\u001b[0m\n\u001b[0m        ^\u001b[0m\n\u001b[0;31mSyntaxError\u001b[0m\u001b[0;31m:\u001b[0m invalid syntax\n"
          ]
        }
      ],
      "source": [
        "# 6.0 Relationship of numeric variable with a categorical variable\n",
        "# Question 4: How is 'Age' related to clicking?\n",
        "# Question 5: How is DailyInternetUsage related to clicking?\n",
        "# Question 6: How is 'AreaIncome' related to clicking?\n",
        "#\n",
        "\n",
        "# 6.1 One demo plot of relationship of 'Age' with 'Clicked_on_ad'\n",
        "#     https://seaborn.pydata.org/generated/seaborn.boxplot.html#seaborn.boxplot\n",
        "\n",
        "sns.boxplot(x = 'Clicked on Ad',       # Discrete\n",
        "            y = 'Daily Time Spent on Site',                 # Continuous\n",
        "            data = ad\n",
        "            notch='True'\n",
        "            )"
      ]
    },
    {
      "cell_type": "code",
      "execution_count": null,
      "metadata": {
        "id": "rrYHRHnmL0LS"
      },
      "outputs": [],
      "source": [
        "sns.boxplot(x = 'Clicked_on_ad',       # Discrete\n",
        "            y = 'Age',                 # Continuous\n",
        "            data = ad,\n",
        "            notch = True               # **kwargs. Not all kwargs are permitted\n",
        "                                       #   From https://matplotlib.org/api/_as_gen/matplotlib.axes.Axes.boxplot.html#matplotlib.axes.Axes.boxplot\n",
        "            )"
      ]
    },
    {
      "cell_type": "code",
      "execution_count": null,
      "metadata": {
        "id": "1Vhx99X6Lpd4"
      },
      "outputs": [],
      "source": [
        "# 6.2 More such relationships through for-loop\n",
        "columns = ['Age', 'AreaIncome', 'DailyInternetUsage', 'DailyTimeSpentonSite']\n",
        "catVar = ['Clicked_on_ad', 'age_cat' ]\n"
      ]
    },
    {
      "cell_type": "code",
      "execution_count": null,
      "metadata": {
        "id": "p10colx7N-lR"
      },
      "outputs": [],
      "source": [
        "# 6.3 Now for loop. First create pairs of cont and cat variables\n",
        "mylist = [(cont,cat)  for cont in columns  for cat in catVar]\n",
        "mylist\n"
      ]
    },
    {
      "cell_type": "markdown",
      "metadata": {
        "id": "wtu8sJuBiTyb"
      },
      "source": [
        "### Boxen plots"
      ]
    },
    {
      "cell_type": "code",
      "execution_count": null,
      "metadata": {
        "id": "if41QXTfOBXL",
        "colab": {
          "base_uri": "https://localhost:8080/",
          "height": 802
        },
        "outputId": "20056552-e3af-4cbc-d59a-442914f525d3"
      },
      "outputs": [
        {
          "output_type": "error",
          "ename": "NameError",
          "evalue": "ignored",
          "traceback": [
            "\u001b[0;31m---------------------------------------------------------------------------\u001b[0m",
            "\u001b[0;31mNameError\u001b[0m                                 Traceback (most recent call last)",
            "\u001b[0;32m<ipython-input-16-23f63396884e>\u001b[0m in \u001b[0;36m<module>\u001b[0;34m\u001b[0m\n\u001b[1;32m      5\u001b[0m \u001b[0mfig\u001b[0m\u001b[0;34m,\u001b[0m\u001b[0max\u001b[0m \u001b[0;34m=\u001b[0m \u001b[0mplt\u001b[0m\u001b[0;34m.\u001b[0m\u001b[0msubplots\u001b[0m\u001b[0;34m(\u001b[0m\u001b[0;36m4\u001b[0m\u001b[0;34m,\u001b[0m\u001b[0;36m2\u001b[0m\u001b[0;34m,\u001b[0m\u001b[0mfigsize\u001b[0m \u001b[0;34m=\u001b[0m \u001b[0;34m(\u001b[0m\u001b[0;36m10\u001b[0m\u001b[0;34m,\u001b[0m\u001b[0;36m10\u001b[0m\u001b[0;34m)\u001b[0m\u001b[0;34m)\u001b[0m\u001b[0;34m\u001b[0m\u001b[0;34m\u001b[0m\u001b[0m\n\u001b[1;32m      6\u001b[0m \u001b[0max\u001b[0m \u001b[0;34m=\u001b[0m \u001b[0max\u001b[0m\u001b[0;34m.\u001b[0m\u001b[0mflatten\u001b[0m\u001b[0;34m(\u001b[0m\u001b[0;34m)\u001b[0m\u001b[0;34m\u001b[0m\u001b[0;34m\u001b[0m\u001b[0m\n\u001b[0;32m----> 7\u001b[0;31m \u001b[0;32mfor\u001b[0m \u001b[0mj\u001b[0m \u001b[0;32min\u001b[0m \u001b[0mrange\u001b[0m\u001b[0;34m(\u001b[0m\u001b[0mlen\u001b[0m\u001b[0;34m(\u001b[0m\u001b[0mmylist\u001b[0m\u001b[0;34m)\u001b[0m\u001b[0;34m)\u001b[0m\u001b[0;34m:\u001b[0m\u001b[0;34m\u001b[0m\u001b[0;34m\u001b[0m\u001b[0m\n\u001b[0m\u001b[1;32m      8\u001b[0m     \u001b[0msns\u001b[0m\u001b[0;34m.\u001b[0m\u001b[0mboxenplot\u001b[0m\u001b[0;34m(\u001b[0m\u001b[0mx\u001b[0m \u001b[0;34m=\u001b[0m \u001b[0mmylist\u001b[0m\u001b[0;34m[\u001b[0m\u001b[0mj\u001b[0m\u001b[0;34m]\u001b[0m\u001b[0;34m[\u001b[0m\u001b[0;36m1\u001b[0m\u001b[0;34m]\u001b[0m\u001b[0;34m,\u001b[0m \u001b[0my\u001b[0m \u001b[0;34m=\u001b[0m \u001b[0mmylist\u001b[0m\u001b[0;34m[\u001b[0m\u001b[0mj\u001b[0m\u001b[0;34m]\u001b[0m\u001b[0;34m[\u001b[0m\u001b[0;36m0\u001b[0m\u001b[0;34m]\u001b[0m\u001b[0;34m,\u001b[0m \u001b[0mdata\u001b[0m \u001b[0;34m=\u001b[0m \u001b[0mad\u001b[0m\u001b[0;34m,\u001b[0m \u001b[0max\u001b[0m \u001b[0;34m=\u001b[0m \u001b[0max\u001b[0m\u001b[0;34m[\u001b[0m\u001b[0mj\u001b[0m\u001b[0;34m]\u001b[0m\u001b[0;34m)\u001b[0m\u001b[0;34m\u001b[0m\u001b[0;34m\u001b[0m\u001b[0m\n",
            "\u001b[0;31mNameError\u001b[0m: name 'mylist' is not defined"
          ]
        },
        {
          "output_type": "display_data",
          "data": {
            "text/plain": [
              "<Figure size 720x720 with 8 Axes>"
            ],
            "image/png": "[encoded data removed]"
          },
          "metadata": {
            "needs_background": "light"
          }
        }
      ],
      "source": [
        "# 6.4 Now run-through for-loop\n",
        "#     For boxen plots, see:\n",
        "#     https://stackoverflow.com/a/65894078/3282777\n",
        "\n",
        "fig,ax = plt.subplots(4,2,figsize = (10,10))\n",
        "ax = ax.flatten()\n",
        "for j in range(len(mylist)):\n",
        "    sns.boxenplot(x = mylist[j][1], y = mylist[j][0], data = ad, ax = ax[j])\n"
      ]
    },
    {
      "cell_type": "markdown",
      "metadata": {
        "id": "aT18OOPOUbCi"
      },
      "source": [
        "What is a boxen plot?  \n",
        "See [here](https://stackoverflow.com/questions/52403381/how-boxen-plot-is-different-from-box-plot) for explanations."
      ]
    },
    {
      "cell_type": "markdown",
      "metadata": {
        "id": "SSFj_7yyT1KF"
      },
      "source": [
        "![image.png](data:image/png;base64,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)"
      ]
    },
    {
      "cell_type": "markdown",
      "metadata": {
        "id": "RxzoiE4oiX21"
      },
      "source": [
        "### Joint plots"
      ]
    },
    {
      "cell_type": "code",
      "execution_count": null,
      "metadata": {
        "id": "uxg6r8nhVLnZ"
      },
      "outputs": [],
      "source": [
        "# 7.0 Relationship of numeric to numeric variables\n",
        "#     Using jointplots:\n",
        "#           While jointplots may not show any linear relationship,\n",
        "#           they can show by use of contour plots, given X, probable\n",
        "#           Y through high density areas.\n",
        "\n",
        "# Question 7: Show joint distribution of DailyTimeSpentonSite and AreaIncome\n",
        "# Question 8: Show joint distribution of DailyInternetUsage and DailyTimeSpentonSite\n",
        "# Question 9: Show these plots as kernel density as also 'hex' as also\n",
        "#             draw regression line\n",
        "#\n",
        "# A jointplot = Scatterplot + Density plots"
      ]
    },
    {
      "cell_type": "code",
      "execution_count": null,
      "metadata": {
        "id": "GXwllk_hVLD2",
        "colab": {
          "base_uri": "https://localhost:8080/",
          "height": 244
        },
        "outputId": "1687d18b-ff18-4755-a581-13e43299c071"
      },
      "outputs": [
        {
          "output_type": "error",
          "ename": "AttributeError",
          "evalue": "ignored",
          "traceback": [
            "\u001b[0;31m---------------------------------------------------------------------------\u001b[0m",
            "\u001b[0;31mAttributeError\u001b[0m                            Traceback (most recent call last)",
            "\u001b[0;32m<ipython-input-34-c607faa057c3>\u001b[0m in \u001b[0;36m<module>\u001b[0;34m\u001b[0m\n\u001b[1;32m      2\u001b[0m \u001b[0;34m\u001b[0m\u001b[0m\n\u001b[1;32m      3\u001b[0m \u001b[0mdate\u001b[0m\u001b[0;34m=\u001b[0m\u001b[0mdata\u001b[0m\u001b[0;34m.\u001b[0m\u001b[0mcolumns\u001b[0m\u001b[0;34m.\u001b[0m\u001b[0mstr\u001b[0m\u001b[0;34m.\u001b[0m\u001b[0mreplace\u001b[0m\u001b[0;34m(\u001b[0m\u001b[0;34m' '\u001b[0m\u001b[0;34m,\u001b[0m\u001b[0;34m''\u001b[0m\u001b[0;34m)\u001b[0m\u001b[0;34m\u001b[0m\u001b[0;34m\u001b[0m\u001b[0m\n\u001b[0;32m----> 4\u001b[0;31m \u001b[0mad\u001b[0m\u001b[0;34m.\u001b[0m\u001b[0mcolumns\u001b[0m\u001b[0;34m=\u001b[0m\u001b[0mad\u001b[0m\u001b[0;34m.\u001b[0m\u001b[0mcolumns\u001b[0m\u001b[0;34m.\u001b[0m\u001b[0mstr\u001b[0m\u001b[0;34m.\u001b[0m\u001b[0mreplace\u001b[0m\u001b[0;34m(\u001b[0m\u001b[0;34m' '\u001b[0m\u001b[0;34m,\u001b[0m \u001b[0;34m''\u001b[0m\u001b[0;34m,\u001b[0m \u001b[0;34m)\u001b[0m\u001b[0;34m\u001b[0m\u001b[0;34m\u001b[0m\u001b[0m\n\u001b[0m\u001b[1;32m      5\u001b[0m \u001b[0mdata\u001b[0m\u001b[0;34m.\u001b[0m\u001b[0mcolumns\u001b[0m\u001b[0;34m\u001b[0m\u001b[0;34m\u001b[0m\u001b[0m\n\u001b[1;32m      6\u001b[0m \u001b[0msns\u001b[0m\u001b[0;34m.\u001b[0m\u001b[0mjointplot\u001b[0m\u001b[0;34m(\u001b[0m\u001b[0mad\u001b[0m\u001b[0;34m[\u001b[0m\u001b[0;34m'Daily Time Spent on Site'\u001b[0m\u001b[0;34m]\u001b[0m\u001b[0;34m,\u001b[0m \u001b[0mad\u001b[0m\u001b[0;34m[\u001b[0m\u001b[0;34m'Area Income'\u001b[0m\u001b[0;34m]\u001b[0m\u001b[0;34m)\u001b[0m\u001b[0;34m\u001b[0m\u001b[0;34m\u001b[0m\u001b[0m\n",
            "\u001b[0;31mAttributeError\u001b[0m: 'Index' object has no attribute 'columns'"
          ]
        }
      ],
      "source": [
        "# 7.1 Open first the following\n",
        "\n",
        "date=data.columns.str.replace(' ','')\n",
        "ad.columns=ad.columns.str.replace(' ', '', )\n",
        "data.columns\n",
        "sns.jointplot(ad['Daily Time Spent on Site'], ad['Area Income'])"
      ]
    },
    {
      "cell_type": "code",
      "execution_count": null,
      "metadata": {
        "id": "xDk4wYe6OH0h",
        "colab": {
          "base_uri": "https://localhost:8080/",
          "height": 371
        },
        "outputId": "f0ba5cf0-52a9-47e6-f631-a0a6f1de23f6"
      },
      "outputs": [
        {
          "output_type": "error",
          "ename": "AttributeError",
          "evalue": "ignored",
          "traceback": [
            "\u001b[0;31m---------------------------------------------------------------------------\u001b[0m",
            "\u001b[0;31mAttributeError\u001b[0m                            Traceback (most recent call last)",
            "\u001b[0;32m<ipython-input-30-9ace748317aa>\u001b[0m in \u001b[0;36m<module>\u001b[0;34m\u001b[0m\n\u001b[1;32m      5\u001b[0m \u001b[0;34m\u001b[0m\u001b[0m\n\u001b[1;32m      6\u001b[0m sns.jointplot(\n\u001b[0;32m----> 7\u001b[0;31m                \u001b[0mad\u001b[0m\u001b[0;34m.\u001b[0m\u001b[0mDailyTimeSpentonSite\u001b[0m\u001b[0;34m,\u001b[0m\u001b[0;34m\u001b[0m\u001b[0;34m\u001b[0m\u001b[0m\n\u001b[0m\u001b[1;32m      8\u001b[0m                \u001b[0mad\u001b[0m\u001b[0;34m.\u001b[0m\u001b[0mAreaIncome\u001b[0m\u001b[0;34m,\u001b[0m\u001b[0;34m\u001b[0m\u001b[0;34m\u001b[0m\u001b[0m\n\u001b[1;32m      9\u001b[0m                \u001b[0mkind\u001b[0m \u001b[0;34m=\u001b[0m \u001b[0;34m\"kde\"\u001b[0m        \u001b[0;31m# Try also bw_adjust = 0.25 and then 1.0\u001b[0m\u001b[0;34m\u001b[0m\u001b[0;34m\u001b[0m\u001b[0m\n",
            "\u001b[0;32m/usr/local/lib/python3.7/dist-packages/pandas/core/generic.py\u001b[0m in \u001b[0;36m__getattr__\u001b[0;34m(self, name)\u001b[0m\n\u001b[1;32m   5485\u001b[0m         ):\n\u001b[1;32m   5486\u001b[0m             \u001b[0;32mreturn\u001b[0m \u001b[0mself\u001b[0m\u001b[0;34m[\u001b[0m\u001b[0mname\u001b[0m\u001b[0;34m]\u001b[0m\u001b[0;34m\u001b[0m\u001b[0;34m\u001b[0m\u001b[0m\n\u001b[0;32m-> 5487\u001b[0;31m         \u001b[0;32mreturn\u001b[0m \u001b[0mobject\u001b[0m\u001b[0;34m.\u001b[0m\u001b[0m__getattribute__\u001b[0m\u001b[0;34m(\u001b[0m\u001b[0mself\u001b[0m\u001b[0;34m,\u001b[0m \u001b[0mname\u001b[0m\u001b[0;34m)\u001b[0m\u001b[0;34m\u001b[0m\u001b[0;34m\u001b[0m\u001b[0m\n\u001b[0m\u001b[1;32m   5488\u001b[0m \u001b[0;34m\u001b[0m\u001b[0m\n\u001b[1;32m   5489\u001b[0m     \u001b[0;32mdef\u001b[0m \u001b[0m__setattr__\u001b[0m\u001b[0;34m(\u001b[0m\u001b[0mself\u001b[0m\u001b[0;34m,\u001b[0m \u001b[0mname\u001b[0m\u001b[0;34m:\u001b[0m \u001b[0mstr\u001b[0m\u001b[0;34m,\u001b[0m \u001b[0mvalue\u001b[0m\u001b[0;34m)\u001b[0m \u001b[0;34m->\u001b[0m \u001b[0;32mNone\u001b[0m\u001b[0;34m:\u001b[0m\u001b[0;34m\u001b[0m\u001b[0;34m\u001b[0m\u001b[0m\n",
            "\u001b[0;31mAttributeError\u001b[0m: 'DataFrame' object has no attribute 'DailyTimeSpentonSite'"
          ]
        }
      ],
      "source": [
        "# 7.2  and then this plot to understand meaning of colour intensity\n",
        "#         in contour plots?\n",
        "#      The graph shows that when DailyTimeSpentonSite is around 80\n",
        "#      there is high probability that AreaIncome is around 60000/-\n",
        "\n",
        "sns.jointplot(\n",
        "               ad.DailyTimeSpentonSite, \n",
        "               ad.AreaIncome, \n",
        "               kind = \"kde\"        # Try also bw_adjust = 0.25 and then 1.0\n",
        "               )\n"
      ]
    },
    {
      "cell_type": "code",
      "execution_count": null,
      "metadata": {
        "id": "8hMvQ4qQVbew"
      },
      "outputs": [],
      "source": [
        "# 7.3  Clearly two clusters are evident here\n",
        "sns.jointplot(ad.DailyInternetUsage,\n",
        "              ad.DailyTimeSpentonSite,\n",
        "              kind = \"kde\"\n",
        "              )\n"
      ]
    },
    {
      "cell_type": "code",
      "execution_count": null,
      "metadata": {
        "id": "wmX6gMrLWSUK"
      },
      "outputs": [],
      "source": [
        "# 7.4 Or plot hex plot\n",
        "sns.jointplot(ad.DailyInternetUsage,\n",
        "              ad.DailyTimeSpentonSite,\n",
        "              kind = \"hex\"\n",
        "              )\n"
      ]
    },
    {
      "cell_type": "code",
      "execution_count": null,
      "metadata": {
        "id": "azItShdsWo8-"
      },
      "outputs": [],
      "source": [
        "# 7.5 Add regression and kernel density fits:\n",
        "sns.jointplot(ad.DailyInternetUsage,\n",
        "              ad.DailyTimeSpentonSite,\n",
        "              kind = \"reg\"\n",
        "              )\n"
      ]
    },
    {
      "cell_type": "markdown",
      "metadata": {
        "id": "zi6zx21mib8S"
      },
      "source": [
        "### Replationship plots"
      ]
    },
    {
      "cell_type": "markdown",
      "metadata": {
        "id": "mALSq8ruihvb"
      },
      "source": [
        "#### Bar plot"
      ]
    },
    {
      "cell_type": "code",
      "execution_count": null,
      "metadata": {
        "id": "xLh6wWYmWvYC"
      },
      "outputs": [],
      "source": [
        "# 8.0 Relationship of a categorical to another categorical variable\n",
        "\n",
        "#     For example per category, count of other categories\n",
        "#     And relationship of categorical to numeric variables\n",
        "#     For example, compare per category mean(numeric) or sum(numeric)\n",
        "\n",
        "# Question 10: What relationship exist between 'Clicked_on_ad' and 'Gender'?\n",
        "# Question 11: What relationship exist between 'DailyTimeSpentonSite' and 'Gender'?\n",
        "# Question 12: Relationship between Gender and Clicked_on_ad, subset by 'age_cat wise\n"
      ]
    },
    {
      "cell_type": "code",
      "execution_count": null,
      "metadata": {
        "id": "FWwNEeXOW8es"
      },
      "outputs": [],
      "source": [
        "# 8.1 Note how seaborn uses estimator function\n",
        "#     Barplots are grouped summaries, category wise\n",
        "#     'estimator' is a summary function\n",
        "#       For errobars, see this wikpedia on bootstrap statistics\n",
        "#         https://en.wikipedia.org/wiki/Bootstrapping_(statistics)\n",
        "#          Bootstrap statistics:\n",
        "#          Repeatedly draw equal-sized samples of data (bootstrapping)\n",
        "#           as in RandomForest & using these samples calculate 95% conf\n",
        "#            interval, for example, np.sum and np.mean in the following cases\n"
      ]
    },
    {
      "cell_type": "code",
      "source": [
        "data.columns"
      ],
      "metadata": {
        "id": "DX3Jr4u_4Tvs",
        "outputId": "34169d7e-3247-4558-cc4d-afd874a76235",
        "colab": {
          "base_uri": "https://localhost:8080/"
        }
      },
      "execution_count": null,
      "outputs": [
        {
          "output_type": "execute_result",
          "data": {
            "text/plain": [
              "Index(['Daily Time Spent on Site', 'Age', 'Area Income',\n",
              "       'Daily Internet Usage', 'Ad Topic Line', 'City', 'Male', 'Country',\n",
              "       'Timestamp', 'Clicked on Ad'],\n",
              "      dtype='object')"
            ]
          },
          "metadata": {},
          "execution_count": 28
        }
      ]
    },
    {
      "cell_type": "code",
      "execution_count": null,
      "metadata": {
        "id": "KIKjBOgOXHRf",
        "colab": {
          "base_uri": "https://localhost:8080/",
          "height": 444
        },
        "outputId": "93ed05ad-fcc2-4998-8606-95ed2a57d3d7"
      },
      "outputs": [
        {
          "output_type": "error",
          "ename": "ValueError",
          "evalue": "ignored",
          "traceback": [
            "\u001b[0;31m---------------------------------------------------------------------------\u001b[0m",
            "\u001b[0;31mValueError\u001b[0m                                Traceback (most recent call last)",
            "\u001b[0;32m<ipython-input-27-f1dd66309fca>\u001b[0m in \u001b[0;36m<module>\u001b[0;34m\u001b[0m\n\u001b[1;32m      3\u001b[0m             \u001b[0mestimator\u001b[0m \u001b[0;34m=\u001b[0m \u001b[0mnp\u001b[0m\u001b[0;34m.\u001b[0m\u001b[0msum\u001b[0m \u001b[0;34m,\u001b[0m     \u001b[0;31m# As there are multiple occurrences of Gender, sum up 'Clicked_on_ad'\u001b[0m\u001b[0;34m\u001b[0m\u001b[0;34m\u001b[0m\u001b[0m\n\u001b[1;32m      4\u001b[0m             \u001b[0mci\u001b[0m \u001b[0;34m=\u001b[0m \u001b[0;36m95\u001b[0m\u001b[0;34m,\u001b[0m                 \u001b[0;31m# Estimate default confidence interval using bootstrapping\u001b[0m\u001b[0;34m\u001b[0m\u001b[0;34m\u001b[0m\u001b[0m\n\u001b[0;32m----> 5\u001b[0;31m             \u001b[0mdata\u001b[0m \u001b[0;34m=\u001b[0m \u001b[0mad\u001b[0m\u001b[0;34m,\u001b[0m               \u001b[0;31m# Try np.mean also\u001b[0m\u001b[0;34m\u001b[0m\u001b[0;34m\u001b[0m\u001b[0m\n\u001b[0m\u001b[1;32m      6\u001b[0m             \u001b[0;31m#capsize = 1\u001b[0m\u001b[0;34m\u001b[0m\u001b[0;34m\u001b[0m\u001b[0;34m\u001b[0m\u001b[0m\n\u001b[1;32m      7\u001b[0m             )\n",
            "\u001b[0;32m/usr/local/lib/python3.7/dist-packages/seaborn/_decorators.py\u001b[0m in \u001b[0;36minner_f\u001b[0;34m(*args, **kwargs)\u001b[0m\n\u001b[1;32m     44\u001b[0m             )\n\u001b[1;32m     45\u001b[0m         \u001b[0mkwargs\u001b[0m\u001b[0;34m.\u001b[0m\u001b[0mupdate\u001b[0m\u001b[0;34m(\u001b[0m\u001b[0;34m{\u001b[0m\u001b[0mk\u001b[0m\u001b[0;34m:\u001b[0m \u001b[0marg\u001b[0m \u001b[0;32mfor\u001b[0m \u001b[0mk\u001b[0m\u001b[0;34m,\u001b[0m \u001b[0marg\u001b[0m \u001b[0;32min\u001b[0m \u001b[0mzip\u001b[0m\u001b[0;34m(\u001b[0m\u001b[0msig\u001b[0m\u001b[0;34m.\u001b[0m\u001b[0mparameters\u001b[0m\u001b[0;34m,\u001b[0m \u001b[0margs\u001b[0m\u001b[0;34m)\u001b[0m\u001b[0;34m}\u001b[0m\u001b[0;34m)\u001b[0m\u001b[0;34m\u001b[0m\u001b[0;34m\u001b[0m\u001b[0m\n\u001b[0;32m---> 46\u001b[0;31m         \u001b[0;32mreturn\u001b[0m \u001b[0mf\u001b[0m\u001b[0;34m(\u001b[0m\u001b[0;34m**\u001b[0m\u001b[0mkwargs\u001b[0m\u001b[0;34m)\u001b[0m\u001b[0;34m\u001b[0m\u001b[0;34m\u001b[0m\u001b[0m\n\u001b[0m\u001b[1;32m     47\u001b[0m     \u001b[0;32mreturn\u001b[0m \u001b[0minner_f\u001b[0m\u001b[0;34m\u001b[0m\u001b[0;34m\u001b[0m\u001b[0m\n\u001b[1;32m     48\u001b[0m \u001b[0;34m\u001b[0m\u001b[0m\n",
            "\u001b[0;32m/usr/local/lib/python3.7/dist-packages/seaborn/categorical.py\u001b[0m in \u001b[0;36mbarplot\u001b[0;34m(x, y, hue, data, order, hue_order, estimator, ci, n_boot, units, seed, orient, color, palette, saturation, errcolor, errwidth, capsize, dodge, ax, **kwargs)\u001b[0m\n\u001b[1;32m   3183\u001b[0m                           \u001b[0mestimator\u001b[0m\u001b[0;34m,\u001b[0m \u001b[0mci\u001b[0m\u001b[0;34m,\u001b[0m \u001b[0mn_boot\u001b[0m\u001b[0;34m,\u001b[0m \u001b[0munits\u001b[0m\u001b[0;34m,\u001b[0m \u001b[0mseed\u001b[0m\u001b[0;34m,\u001b[0m\u001b[0;34m\u001b[0m\u001b[0;34m\u001b[0m\u001b[0m\n\u001b[1;32m   3184\u001b[0m                           \u001b[0morient\u001b[0m\u001b[0;34m,\u001b[0m \u001b[0mcolor\u001b[0m\u001b[0;34m,\u001b[0m \u001b[0mpalette\u001b[0m\u001b[0;34m,\u001b[0m \u001b[0msaturation\u001b[0m\u001b[0;34m,\u001b[0m\u001b[0;34m\u001b[0m\u001b[0;34m\u001b[0m\u001b[0m\n\u001b[0;32m-> 3185\u001b[0;31m                           errcolor, errwidth, capsize, dodge)\n\u001b[0m\u001b[1;32m   3186\u001b[0m \u001b[0;34m\u001b[0m\u001b[0m\n\u001b[1;32m   3187\u001b[0m     \u001b[0;32mif\u001b[0m \u001b[0max\u001b[0m \u001b[0;32mis\u001b[0m \u001b[0;32mNone\u001b[0m\u001b[0;34m:\u001b[0m\u001b[0;34m\u001b[0m\u001b[0;34m\u001b[0m\u001b[0m\n",
            "\u001b[0;32m/usr/local/lib/python3.7/dist-packages/seaborn/categorical.py\u001b[0m in \u001b[0;36m__init__\u001b[0;34m(self, x, y, hue, data, order, hue_order, estimator, ci, n_boot, units, seed, orient, color, palette, saturation, errcolor, errwidth, capsize, dodge)\u001b[0m\n\u001b[1;32m   1583\u001b[0m         \u001b[0;34m\"\"\"Initialize the plotter.\"\"\"\u001b[0m\u001b[0;34m\u001b[0m\u001b[0;34m\u001b[0m\u001b[0m\n\u001b[1;32m   1584\u001b[0m         self.establish_variables(x, y, hue, data, orient,\n\u001b[0;32m-> 1585\u001b[0;31m                                  order, hue_order, units)\n\u001b[0m\u001b[1;32m   1586\u001b[0m         \u001b[0mself\u001b[0m\u001b[0;34m.\u001b[0m\u001b[0mestablish_colors\u001b[0m\u001b[0;34m(\u001b[0m\u001b[0mcolor\u001b[0m\u001b[0;34m,\u001b[0m \u001b[0mpalette\u001b[0m\u001b[0;34m,\u001b[0m \u001b[0msaturation\u001b[0m\u001b[0;34m)\u001b[0m\u001b[0;34m\u001b[0m\u001b[0;34m\u001b[0m\u001b[0m\n\u001b[1;32m   1587\u001b[0m         \u001b[0mself\u001b[0m\u001b[0;34m.\u001b[0m\u001b[0mestimate_statistic\u001b[0m\u001b[0;34m(\u001b[0m\u001b[0mestimator\u001b[0m\u001b[0;34m,\u001b[0m \u001b[0mci\u001b[0m\u001b[0;34m,\u001b[0m \u001b[0mn_boot\u001b[0m\u001b[0;34m,\u001b[0m \u001b[0mseed\u001b[0m\u001b[0;34m)\u001b[0m\u001b[0;34m\u001b[0m\u001b[0;34m\u001b[0m\u001b[0m\n",
            "\u001b[0;32m/usr/local/lib/python3.7/dist-packages/seaborn/categorical.py\u001b[0m in \u001b[0;36mestablish_variables\u001b[0;34m(self, x, y, hue, data, orient, order, hue_order, units)\u001b[0m\n\u001b[1;32m    151\u001b[0m                 \u001b[0;32mif\u001b[0m \u001b[0misinstance\u001b[0m\u001b[0;34m(\u001b[0m\u001b[0mvar\u001b[0m\u001b[0;34m,\u001b[0m \u001b[0mstr\u001b[0m\u001b[0;34m)\u001b[0m\u001b[0;34m:\u001b[0m\u001b[0;34m\u001b[0m\u001b[0;34m\u001b[0m\u001b[0m\n\u001b[1;32m    152\u001b[0m                     \u001b[0merr\u001b[0m \u001b[0;34m=\u001b[0m \u001b[0;34m\"Could not interpret input '{}'\"\u001b[0m\u001b[0;34m.\u001b[0m\u001b[0mformat\u001b[0m\u001b[0;34m(\u001b[0m\u001b[0mvar\u001b[0m\u001b[0;34m)\u001b[0m\u001b[0;34m\u001b[0m\u001b[0;34m\u001b[0m\u001b[0m\n\u001b[0;32m--> 153\u001b[0;31m                     \u001b[0;32mraise\u001b[0m \u001b[0mValueError\u001b[0m\u001b[0;34m(\u001b[0m\u001b[0merr\u001b[0m\u001b[0;34m)\u001b[0m\u001b[0;34m\u001b[0m\u001b[0;34m\u001b[0m\u001b[0m\n\u001b[0m\u001b[1;32m    154\u001b[0m \u001b[0;34m\u001b[0m\u001b[0m\n\u001b[1;32m    155\u001b[0m             \u001b[0;31m# Figure out the plotting orientation\u001b[0m\u001b[0;34m\u001b[0m\u001b[0;34m\u001b[0m\u001b[0;34m\u001b[0m\u001b[0m\n",
            "\u001b[0;31mValueError\u001b[0m: Could not interpret input 'Gender'"
          ]
        }
      ],
      "source": [
        "sns.barplot(x = 'Gender',\n",
        "            y = 'Clicked_on_ad',\n",
        "            estimator = np.sum ,     # As there are multiple occurrences of Gender, sum up 'Clicked_on_ad'\n",
        "            ci = 95,                 # Estimate default confidence interval using bootstrapping\n",
        "            data = ad,               # Try np.mean also\n",
        "            #capsize = 1\n",
        "            )\n"
      ]
    },
    {
      "cell_type": "code",
      "execution_count": null,
      "metadata": {
        "id": "f3r37455XHve"
      },
      "outputs": [],
      "source": [
        "# 8.2 Multiple ways of plotting similar information\n",
        "sns.barplot(x = 'Clicked_on_ad',\n",
        "            y = 'DailyTimeSpentonSite',\n",
        "            estimator = np.mean,\n",
        "            ci = 95,\n",
        "            data =ad\n",
        "            )\n"
      ]
    },
    {
      "cell_type": "code",
      "execution_count": null,
      "metadata": {
        "id": "IBtPH6y1aKfw"
      },
      "outputs": [],
      "source": [
        "# 8.3 Multiple ways of plotting similar information\n",
        "fig = plt.figure(figsize = (10,8))\n",
        "sns.barplot(x = 'Gender',\n",
        "            y = 'Clicked_on_ad',\n",
        "            hue = 'age_cat',       # Age-cat wise plots\n",
        "            estimator = np.mean,\n",
        "            ci = 68,\n",
        "            data =ad)\n"
      ]
    },
    {
      "cell_type": "code",
      "execution_count": null,
      "metadata": {
        "id": "Zxn59Ho_aSZA"
      },
      "outputs": [],
      "source": [
        "# 9.0 Relationship between two categorical and one numeric variable\n",
        "#     Numeric variable has to be some summary measure. So, we have\n",
        "#     to first calculate this summary measure\n",
        "#\n",
        "#     Matrix plots or heatmap\n",
        "#    #########################\n",
        "\n",
        "# Question 13: Hour and weekday wise when are clicks most\n",
        "# Question 14: Quarter wise and weekday wise when are clicks most\n",
        "# Question 15: Quarter wise and weekday wise when are DailyInternetUsage max and min"
      ]
    },
    {
      "cell_type": "markdown",
      "metadata": {
        "id": "PuPND8t2ioeq"
      },
      "source": [
        "#### Heat maps"
      ]
    },
    {
      "cell_type": "code",
      "execution_count": null,
      "metadata": {
        "id": "aGHHAZHYaruK"
      },
      "outputs": [],
      "source": [
        "# 9.1 When are total clicks more\n",
        "#     Heatmap of hour vs weekday\n",
        "#     X and Y labels are DataFrame indexes\n",
        "\n",
        "grouped = ad.groupby(['hour', 'weekday'])\n",
        "df_wh = grouped['Clicked_on_ad'].sum().unstack()\n",
        "df_wh"
      ]
    },
    {
      "cell_type": "code",
      "execution_count": null,
      "metadata": {
        "id": "ehb-ldelasPK"
      },
      "outputs": [],
      "source": [
        "# 9.2 Draw quickly the heatmap. For drawing heatmap,\n",
        "#     When Pandas DataFrame is provided, the index & column\n",
        "#     of DataFrame will be used to label the columns and rows\n",
        "#      of heatmap.\n",
        "#\n",
        "sns.heatmap(df_wh)"
      ]
    },
    {
      "cell_type": "code",
      "execution_count": null,
      "metadata": {
        "id": "YF1_hrlZa6HB"
      },
      "outputs": [],
      "source": [
        "# 9.2.1 For list of ready-made cmaps (plt.cm...), see:\n",
        "#       https://matplotlib.org/tutorials/colors/colormaps.html\n",
        "sns.heatmap(df_wh, cmap = plt.cm.OrRd)"
      ]
    },
    {
      "cell_type": "code",
      "execution_count": null,
      "metadata": {
        "id": "i4cezktGbAOG"
      },
      "outputs": [],
      "source": [
        "sns.heatmap(df_wh, cmap = plt.cm.GnBu)"
      ]
    },
    {
      "cell_type": "code",
      "execution_count": null,
      "metadata": {
        "id": "fV_XjbV_bG0T"
      },
      "outputs": [],
      "source": [
        "# 9.3 Quarter vs weekday\n",
        "grouped = ad.groupby(['weekday','quarter'])\n",
        "df_wq = grouped['Clicked_on_ad'].sum().unstack()\n",
        "sns.heatmap(df_wq, cmap = plt.cm.coolwarm)"
      ]
    },
    {
      "cell_type": "code",
      "execution_count": null,
      "metadata": {
        "id": "TYmJ_1w7bNMU"
      },
      "outputs": [],
      "source": [
        "# 9.4 In which quarter daily Internet usage is more\n",
        "#     It is single categorical feature vs numeric summary\n",
        "#     Appropriate plot is boxplot. So we add, one more\n",
        "#     feature of 'weekday'\n",
        "grouped = ad.groupby([ 'weekday','quarter'])\n",
        "df_wqd = grouped['DailyInternetUsage'].mean().unstack()\n",
        "df_wqd\n",
        "sns.heatmap(df_wqd, cmap = plt.cm.Spectral)\n"
      ]
    },
    {
      "cell_type": "markdown",
      "metadata": {
        "id": "M80CgUbjitRy"
      },
      "source": [
        "### cat plots"
      ]
    },
    {
      "cell_type": "code",
      "execution_count": null,
      "metadata": {
        "id": "HbEtWtnbbTZ_"
      },
      "outputs": [],
      "source": [
        "# 10.0 Faceted plots: Show facets of relationships between\n",
        "#      by numerous categorical variables\n",
        "#      Facet plots\n",
        "#      READ 'catplot' AS CONDITIONAL PLOTS\n",
        "\n",
        "# 10.1\n",
        "sns.catplot(x = 'Gender',\n",
        "            y = 'DailyInternetUsage',\n",
        "            row = 'age_cat' ,\n",
        "            col = 'area_income_cat',\n",
        "            kind = 'box',\n",
        "            estimator = np.sum,\n",
        "            data = ad)\n"
      ]
    },
    {
      "cell_type": "markdown",
      "metadata": {
        "id": "jrY06VmYi0h6"
      },
      "source": [
        "### Faceted plots"
      ]
    },
    {
      "cell_type": "code",
      "execution_count": null,
      "metadata": {
        "id": "79qJ0ePHbZTL"
      },
      "outputs": [],
      "source": [
        "# 10.0 Faceted plots: Show facets of relationships between\n",
        "#      by numerous categorical variables\n",
        "#      Facet plots\n",
        "#      READ 'catplot' AS CONDITIONAL PLOTS\n",
        "\n",
        "# 10.1\n",
        "sns.catplot(x = 'Gender',\n",
        "            y = 'DailyInternetUsage',\n",
        "            row = 'age_cat' ,\n",
        "            col = 'area_income_cat',\n",
        "            kind = 'box',\n",
        "            estimator = np.sum,\n",
        "            data = ad)\n",
        "\n",
        "\n"
      ]
    },
    {
      "cell_type": "code",
      "execution_count": null,
      "metadata": {
        "id": "F72p8Mxlbgp7"
      },
      "outputs": [],
      "source": [
        "# 10.2\n",
        "sns.catplot(x = 'age_cat',\n",
        "            y = 'DailyInternetUsage',\n",
        "            row = 'area_income_cat',\n",
        "            col = 'Clicked_on_ad',\n",
        "            estimator = np.mean ,\n",
        "            kind = 'box',\n",
        "            data =ad)\n",
        "\n"
      ]
    },
    {
      "cell_type": "markdown",
      "metadata": {
        "id": "5TcQfY-mi3yC"
      },
      "source": [
        "### rel plots"
      ]
    },
    {
      "cell_type": "code",
      "execution_count": null,
      "metadata": {
        "id": "dNKj14Xpbja1"
      },
      "outputs": [],
      "source": [
        "# 10.3 Faceted scatter plots or relationship plots\n",
        "sns.relplot(x = 'Age', y = 'DailyInternetUsage', row = 'area_income_cat', col = 'weekday', kind = 'scatter', data = ad)\n",
        "sns.relplot(x = 'Age', y = 'DailyInternetUsage', hue = 'area_income_cat',  kind = 'scatter', data = ad, cmap = 'winter')\n",
        "sns.relplot(x = 'Age', y = 'DailyInternetUsage', hue = 'area_income_cat', size = 'weekday', kind = 'scatter', data = ad)\n",
        "sns.relplot(x = 'Age', y = 'DailyInternetUsage', hue = 'hour', kind = 'scatter', data = ad)\n",
        "sns.relplot(x = 'Age', y = 'DailyInternetUsage', row = 'hour', kind = 'scatter', data = ad)\n",
        "\n"
      ]
    },
    {
      "cell_type": "code",
      "execution_count": null,
      "metadata": {
        "id": "q7NB8WLtKeTx"
      },
      "outputs": [],
      "source": [
        "# Also store the processed data for further use:\n"
      ]
    },
    {
      "cell_type": "code",
      "execution_count": null,
      "metadata": {
        "id": "PVEx9CVfboB3"
      },
      "outputs": [],
      "source": [
        "############ End #####################"
      ]
    },
    {
      "cell_type": "code",
      "execution_count": null,
      "metadata": {
        "id": "G6qkCh3f9R1b"
      },
      "outputs": [],
      "source": [
        "xyz=pd.Series([2,3,4,5])\n",
        "xyz"
      ]
    },
    {
      "cell_type": "code",
      "execution_count": null,
      "metadata": {
        "id": "i0kDYnK49d8H"
      },
      "outputs": [],
      "source": [
        "xyz"
      ]
    },
    {
      "cell_type": "code",
      "execution_count": null,
      "metadata": {
        "id": "s6cGi3Pb9gH5"
      },
      "outputs": [],
      "source": [
        "xyz=apply(xyz)"
      ]
    }
  ],
  "metadata": {
    "colab": {
      "collapsed_sections": [
        "CAgCpiHzAqXc",
        "r7HFuIHxAvx8",
        "2_bHlcEBZp7I",
        "GiotTBgIVRKh",
        "7VFU1t2NZwLw",
        "KlIW9JCvZ2Bi",
        "hWweKrn1aC1f",
        "FbOhDfmhGtNM",
        "2DYDdhPeGxmq",
        "rngeHBwkMpE1"
      ],
      "provenance": [],
      "toc_visible": true,
      "include_colab_link": true
    },
    "kernelspec": {
      "display_name": "Python 3",
      "name": "python3"
    },
    "language_info": {
      "name": "python"
    }
  },
  "nbformat": 4,
  "nbformat_minor": 0
}